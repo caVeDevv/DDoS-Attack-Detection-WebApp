{
  "cells": [
    {
      "cell_type": "markdown",
      "metadata": {
        "id": "view-in-github",
        "colab_type": "text"
      },
      "source": [
        "<a href=\"https://colab.research.google.com/github/workitoutsilas/DDoS-Attack-Detection-WebApp/blob/main/Final_notebook.ipynb\" target=\"_parent\"><img src=\"https://colab.research.google.com/assets/colab-badge.svg\" alt=\"Open In Colab\"/></a>"
      ]
    },
    {
      "cell_type": "markdown",
      "metadata": {
        "id": "5VuIOy1NvXc4"
      },
      "source": [
        "**Libraries**"
      ]
    },
    {
      "cell_type": "code",
      "execution_count": null,
      "metadata": {
        "id": "CbonY6AqvRUF"
      },
      "outputs": [],
      "source": [
        "# Import necessary libraries\n",
        "import numpy as np\n",
        "import pandas as pd\n",
        "import matplotlib.pyplot as plt\n",
        "import seaborn as sns\n",
        "\n",
        "# ML libraries\n",
        "from imblearn.over_sampling import SMOTE\n",
        "from sklearn.model_selection import train_test_split\n",
        "from sklearn.ensemble import ExtraTreesClassifier\n",
        "from sklearn.preprocessing import StandardScaler\n",
        "\n",
        "# Modeling libraries\n",
        "from sklearn.ensemble import RandomForestClassifier\n",
        "from sklearn.svm import SVC\n",
        "\n",
        "# Model evaluation metrics\n",
        "from sklearn.model_selection import train_test_split\n",
        "from sklearn.metrics import confusion_matrix, classification_report\n",
        "from sklearn.model_selection import cross_val_score\n",
        "from sklearn.metrics import accuracy_score, precision_score, recall_score, f1_score\n",
        "\n",
        "# For saving model\n",
        "import os\n",
        "import pickle"
      ]
    },
    {
      "cell_type": "markdown",
      "metadata": {
        "id": "IDyBh45fvarD"
      },
      "source": [
        "**Just one file out of entire dataset (169 files)**"
      ]
    },
    {
      "cell_type": "code",
      "execution_count": null,
      "metadata": {
        "id": "-5UfrRP-viDe",
        "colab": {
          "base_uri": "https://localhost:8080/",
          "height": 378
        },
        "outputId": "09fdfd46-f5a3-43c9-82e8-5797cb94378c"
      },
      "outputs": [
        {
          "output_type": "stream",
          "name": "stdout",
          "text": [
            "Drive already mounted at /content/gdrive; to attempt to forcibly remount, call drive.mount(\"/content/gdrive\", force_remount=True).\n"
          ]
        },
        {
          "output_type": "execute_result",
          "data": {
            "text/plain": [
              "   flow_duration  Header_Length  Protocol Type  Duration         Rate  \\\n",
              "0       0.000000          54.00           6.00     64.00     0.329807   \n",
              "1       0.000000          57.04           6.33     64.00     4.290556   \n",
              "2       0.000000           0.00           1.00     64.00    33.396799   \n",
              "3       0.328175       76175.00          17.00     64.00  4642.133010   \n",
              "4       0.117320         101.73           6.11     65.91     6.202211   \n",
              "\n",
              "         Srate  Drate  fin_flag_number  syn_flag_number  rst_flag_number  ...  \\\n",
              "0     0.329807    0.0              1.0              0.0              1.0  ...   \n",
              "1     4.290556    0.0              0.0              0.0              0.0  ...   \n",
              "2    33.396799    0.0              0.0              0.0              0.0  ...   \n",
              "3  4642.133010    0.0              0.0              0.0              0.0  ...   \n",
              "4     6.202211    0.0              0.0              1.0              0.0  ...   \n",
              "\n",
              "         Std  Tot size           IAT  Number   Magnitue     Radius  \\\n",
              "0   0.000000     54.00  8.334383e+07     9.5  10.392305   0.000000   \n",
              "1   2.822973     57.04  8.292607e+07     9.5  10.464666   4.010353   \n",
              "2   0.000000     42.00  8.312799e+07     9.5   9.165151   0.000000   \n",
              "3   0.000000     50.00  8.301570e+07     9.5  10.000000   0.000000   \n",
              "4  23.113111     57.88  8.297300e+07     9.5  11.346876  32.716243   \n",
              "\n",
              "    Covariance  Variance  Weight             label  \n",
              "0     0.000000      0.00  141.55  DDoS-RSTFINFlood  \n",
              "1   160.987842      0.05  141.55     DoS-TCP_Flood  \n",
              "2     0.000000      0.00  141.55   DDoS-ICMP_Flood  \n",
              "3     0.000000      0.00  141.55     DoS-UDP_Flood  \n",
              "4  3016.808286      0.19  141.55     DoS-SYN_Flood  \n",
              "\n",
              "[5 rows x 47 columns]"
            ],
            "text/html": [
              "\n",
              "  <div id=\"df-e82294f8-1fa0-431b-9e17-21fd5826f071\" class=\"colab-df-container\">\n",
              "    <div>\n",
              "<style scoped>\n",
              "    .dataframe tbody tr th:only-of-type {\n",
              "        vertical-align: middle;\n",
              "    }\n",
              "\n",
              "    .dataframe tbody tr th {\n",
              "        vertical-align: top;\n",
              "    }\n",
              "\n",
              "    .dataframe thead th {\n",
              "        text-align: right;\n",
              "    }\n",
              "</style>\n",
              "<table border=\"1\" class=\"dataframe\">\n",
              "  <thead>\n",
              "    <tr style=\"text-align: right;\">\n",
              "      <th></th>\n",
              "      <th>flow_duration</th>\n",
              "      <th>Header_Length</th>\n",
              "      <th>Protocol Type</th>\n",
              "      <th>Duration</th>\n",
              "      <th>Rate</th>\n",
              "      <th>Srate</th>\n",
              "      <th>Drate</th>\n",
              "      <th>fin_flag_number</th>\n",
              "      <th>syn_flag_number</th>\n",
              "      <th>rst_flag_number</th>\n",
              "      <th>...</th>\n",
              "      <th>Std</th>\n",
              "      <th>Tot size</th>\n",
              "      <th>IAT</th>\n",
              "      <th>Number</th>\n",
              "      <th>Magnitue</th>\n",
              "      <th>Radius</th>\n",
              "      <th>Covariance</th>\n",
              "      <th>Variance</th>\n",
              "      <th>Weight</th>\n",
              "      <th>label</th>\n",
              "    </tr>\n",
              "  </thead>\n",
              "  <tbody>\n",
              "    <tr>\n",
              "      <th>0</th>\n",
              "      <td>0.000000</td>\n",
              "      <td>54.00</td>\n",
              "      <td>6.00</td>\n",
              "      <td>64.00</td>\n",
              "      <td>0.329807</td>\n",
              "      <td>0.329807</td>\n",
              "      <td>0.0</td>\n",
              "      <td>1.0</td>\n",
              "      <td>0.0</td>\n",
              "      <td>1.0</td>\n",
              "      <td>...</td>\n",
              "      <td>0.000000</td>\n",
              "      <td>54.00</td>\n",
              "      <td>8.334383e+07</td>\n",
              "      <td>9.5</td>\n",
              "      <td>10.392305</td>\n",
              "      <td>0.000000</td>\n",
              "      <td>0.000000</td>\n",
              "      <td>0.00</td>\n",
              "      <td>141.55</td>\n",
              "      <td>DDoS-RSTFINFlood</td>\n",
              "    </tr>\n",
              "    <tr>\n",
              "      <th>1</th>\n",
              "      <td>0.000000</td>\n",
              "      <td>57.04</td>\n",
              "      <td>6.33</td>\n",
              "      <td>64.00</td>\n",
              "      <td>4.290556</td>\n",
              "      <td>4.290556</td>\n",
              "      <td>0.0</td>\n",
              "      <td>0.0</td>\n",
              "      <td>0.0</td>\n",
              "      <td>0.0</td>\n",
              "      <td>...</td>\n",
              "      <td>2.822973</td>\n",
              "      <td>57.04</td>\n",
              "      <td>8.292607e+07</td>\n",
              "      <td>9.5</td>\n",
              "      <td>10.464666</td>\n",
              "      <td>4.010353</td>\n",
              "      <td>160.987842</td>\n",
              "      <td>0.05</td>\n",
              "      <td>141.55</td>\n",
              "      <td>DoS-TCP_Flood</td>\n",
              "    </tr>\n",
              "    <tr>\n",
              "      <th>2</th>\n",
              "      <td>0.000000</td>\n",
              "      <td>0.00</td>\n",
              "      <td>1.00</td>\n",
              "      <td>64.00</td>\n",
              "      <td>33.396799</td>\n",
              "      <td>33.396799</td>\n",
              "      <td>0.0</td>\n",
              "      <td>0.0</td>\n",
              "      <td>0.0</td>\n",
              "      <td>0.0</td>\n",
              "      <td>...</td>\n",
              "      <td>0.000000</td>\n",
              "      <td>42.00</td>\n",
              "      <td>8.312799e+07</td>\n",
              "      <td>9.5</td>\n",
              "      <td>9.165151</td>\n",
              "      <td>0.000000</td>\n",
              "      <td>0.000000</td>\n",
              "      <td>0.00</td>\n",
              "      <td>141.55</td>\n",
              "      <td>DDoS-ICMP_Flood</td>\n",
              "    </tr>\n",
              "    <tr>\n",
              "      <th>3</th>\n",
              "      <td>0.328175</td>\n",
              "      <td>76175.00</td>\n",
              "      <td>17.00</td>\n",
              "      <td>64.00</td>\n",
              "      <td>4642.133010</td>\n",
              "      <td>4642.133010</td>\n",
              "      <td>0.0</td>\n",
              "      <td>0.0</td>\n",
              "      <td>0.0</td>\n",
              "      <td>0.0</td>\n",
              "      <td>...</td>\n",
              "      <td>0.000000</td>\n",
              "      <td>50.00</td>\n",
              "      <td>8.301570e+07</td>\n",
              "      <td>9.5</td>\n",
              "      <td>10.000000</td>\n",
              "      <td>0.000000</td>\n",
              "      <td>0.000000</td>\n",
              "      <td>0.00</td>\n",
              "      <td>141.55</td>\n",
              "      <td>DoS-UDP_Flood</td>\n",
              "    </tr>\n",
              "    <tr>\n",
              "      <th>4</th>\n",
              "      <td>0.117320</td>\n",
              "      <td>101.73</td>\n",
              "      <td>6.11</td>\n",
              "      <td>65.91</td>\n",
              "      <td>6.202211</td>\n",
              "      <td>6.202211</td>\n",
              "      <td>0.0</td>\n",
              "      <td>0.0</td>\n",
              "      <td>1.0</td>\n",
              "      <td>0.0</td>\n",
              "      <td>...</td>\n",
              "      <td>23.113111</td>\n",
              "      <td>57.88</td>\n",
              "      <td>8.297300e+07</td>\n",
              "      <td>9.5</td>\n",
              "      <td>11.346876</td>\n",
              "      <td>32.716243</td>\n",
              "      <td>3016.808286</td>\n",
              "      <td>0.19</td>\n",
              "      <td>141.55</td>\n",
              "      <td>DoS-SYN_Flood</td>\n",
              "    </tr>\n",
              "  </tbody>\n",
              "</table>\n",
              "<p>5 rows × 47 columns</p>\n",
              "</div>\n",
              "    <div class=\"colab-df-buttons\">\n",
              "\n",
              "  <div class=\"colab-df-container\">\n",
              "    <button class=\"colab-df-convert\" onclick=\"convertToInteractive('df-e82294f8-1fa0-431b-9e17-21fd5826f071')\"\n",
              "            title=\"Convert this dataframe to an interactive table.\"\n",
              "            style=\"display:none;\">\n",
              "\n",
              "  <svg xmlns=\"http://www.w3.org/2000/svg\" height=\"24px\" viewBox=\"0 -960 960 960\">\n",
              "    <path d=\"M120-120v-720h720v720H120Zm60-500h600v-160H180v160Zm220 220h160v-160H400v160Zm0 220h160v-160H400v160ZM180-400h160v-160H180v160Zm440 0h160v-160H620v160ZM180-180h160v-160H180v160Zm440 0h160v-160H620v160Z\"/>\n",
              "  </svg>\n",
              "    </button>\n",
              "\n",
              "  <style>\n",
              "    .colab-df-container {\n",
              "      display:flex;\n",
              "      gap: 12px;\n",
              "    }\n",
              "\n",
              "    .colab-df-convert {\n",
              "      background-color: #E8F0FE;\n",
              "      border: none;\n",
              "      border-radius: 50%;\n",
              "      cursor: pointer;\n",
              "      display: none;\n",
              "      fill: #1967D2;\n",
              "      height: 32px;\n",
              "      padding: 0 0 0 0;\n",
              "      width: 32px;\n",
              "    }\n",
              "\n",
              "    .colab-df-convert:hover {\n",
              "      background-color: #E2EBFA;\n",
              "      box-shadow: 0px 1px 2px rgba(60, 64, 67, 0.3), 0px 1px 3px 1px rgba(60, 64, 67, 0.15);\n",
              "      fill: #174EA6;\n",
              "    }\n",
              "\n",
              "    .colab-df-buttons div {\n",
              "      margin-bottom: 4px;\n",
              "    }\n",
              "\n",
              "    [theme=dark] .colab-df-convert {\n",
              "      background-color: #3B4455;\n",
              "      fill: #D2E3FC;\n",
              "    }\n",
              "\n",
              "    [theme=dark] .colab-df-convert:hover {\n",
              "      background-color: #434B5C;\n",
              "      box-shadow: 0px 1px 3px 1px rgba(0, 0, 0, 0.15);\n",
              "      filter: drop-shadow(0px 1px 2px rgba(0, 0, 0, 0.3));\n",
              "      fill: #FFFFFF;\n",
              "    }\n",
              "  </style>\n",
              "\n",
              "    <script>\n",
              "      const buttonEl =\n",
              "        document.querySelector('#df-e82294f8-1fa0-431b-9e17-21fd5826f071 button.colab-df-convert');\n",
              "      buttonEl.style.display =\n",
              "        google.colab.kernel.accessAllowed ? 'block' : 'none';\n",
              "\n",
              "      async function convertToInteractive(key) {\n",
              "        const element = document.querySelector('#df-e82294f8-1fa0-431b-9e17-21fd5826f071');\n",
              "        const dataTable =\n",
              "          await google.colab.kernel.invokeFunction('convertToInteractive',\n",
              "                                                    [key], {});\n",
              "        if (!dataTable) return;\n",
              "\n",
              "        const docLinkHtml = 'Like what you see? Visit the ' +\n",
              "          '<a target=\"_blank\" href=https://colab.research.google.com/notebooks/data_table.ipynb>data table notebook</a>'\n",
              "          + ' to learn more about interactive tables.';\n",
              "        element.innerHTML = '';\n",
              "        dataTable['output_type'] = 'display_data';\n",
              "        await google.colab.output.renderOutput(dataTable, element);\n",
              "        const docLink = document.createElement('div');\n",
              "        docLink.innerHTML = docLinkHtml;\n",
              "        element.appendChild(docLink);\n",
              "      }\n",
              "    </script>\n",
              "  </div>\n",
              "\n",
              "\n",
              "<div id=\"df-b80104b4-ee01-4044-8b31-c8c220122962\">\n",
              "  <button class=\"colab-df-quickchart\" onclick=\"quickchart('df-b80104b4-ee01-4044-8b31-c8c220122962')\"\n",
              "            title=\"Suggest charts\"\n",
              "            style=\"display:none;\">\n",
              "\n",
              "<svg xmlns=\"http://www.w3.org/2000/svg\" height=\"24px\"viewBox=\"0 0 24 24\"\n",
              "     width=\"24px\">\n",
              "    <g>\n",
              "        <path d=\"M19 3H5c-1.1 0-2 .9-2 2v14c0 1.1.9 2 2 2h14c1.1 0 2-.9 2-2V5c0-1.1-.9-2-2-2zM9 17H7v-7h2v7zm4 0h-2V7h2v10zm4 0h-2v-4h2v4z\"/>\n",
              "    </g>\n",
              "</svg>\n",
              "  </button>\n",
              "\n",
              "<style>\n",
              "  .colab-df-quickchart {\n",
              "      --bg-color: #E8F0FE;\n",
              "      --fill-color: #1967D2;\n",
              "      --hover-bg-color: #E2EBFA;\n",
              "      --hover-fill-color: #174EA6;\n",
              "      --disabled-fill-color: #AAA;\n",
              "      --disabled-bg-color: #DDD;\n",
              "  }\n",
              "\n",
              "  [theme=dark] .colab-df-quickchart {\n",
              "      --bg-color: #3B4455;\n",
              "      --fill-color: #D2E3FC;\n",
              "      --hover-bg-color: #434B5C;\n",
              "      --hover-fill-color: #FFFFFF;\n",
              "      --disabled-bg-color: #3B4455;\n",
              "      --disabled-fill-color: #666;\n",
              "  }\n",
              "\n",
              "  .colab-df-quickchart {\n",
              "    background-color: var(--bg-color);\n",
              "    border: none;\n",
              "    border-radius: 50%;\n",
              "    cursor: pointer;\n",
              "    display: none;\n",
              "    fill: var(--fill-color);\n",
              "    height: 32px;\n",
              "    padding: 0;\n",
              "    width: 32px;\n",
              "  }\n",
              "\n",
              "  .colab-df-quickchart:hover {\n",
              "    background-color: var(--hover-bg-color);\n",
              "    box-shadow: 0 1px 2px rgba(60, 64, 67, 0.3), 0 1px 3px 1px rgba(60, 64, 67, 0.15);\n",
              "    fill: var(--button-hover-fill-color);\n",
              "  }\n",
              "\n",
              "  .colab-df-quickchart-complete:disabled,\n",
              "  .colab-df-quickchart-complete:disabled:hover {\n",
              "    background-color: var(--disabled-bg-color);\n",
              "    fill: var(--disabled-fill-color);\n",
              "    box-shadow: none;\n",
              "  }\n",
              "\n",
              "  .colab-df-spinner {\n",
              "    border: 2px solid var(--fill-color);\n",
              "    border-color: transparent;\n",
              "    border-bottom-color: var(--fill-color);\n",
              "    animation:\n",
              "      spin 1s steps(1) infinite;\n",
              "  }\n",
              "\n",
              "  @keyframes spin {\n",
              "    0% {\n",
              "      border-color: transparent;\n",
              "      border-bottom-color: var(--fill-color);\n",
              "      border-left-color: var(--fill-color);\n",
              "    }\n",
              "    20% {\n",
              "      border-color: transparent;\n",
              "      border-left-color: var(--fill-color);\n",
              "      border-top-color: var(--fill-color);\n",
              "    }\n",
              "    30% {\n",
              "      border-color: transparent;\n",
              "      border-left-color: var(--fill-color);\n",
              "      border-top-color: var(--fill-color);\n",
              "      border-right-color: var(--fill-color);\n",
              "    }\n",
              "    40% {\n",
              "      border-color: transparent;\n",
              "      border-right-color: var(--fill-color);\n",
              "      border-top-color: var(--fill-color);\n",
              "    }\n",
              "    60% {\n",
              "      border-color: transparent;\n",
              "      border-right-color: var(--fill-color);\n",
              "    }\n",
              "    80% {\n",
              "      border-color: transparent;\n",
              "      border-right-color: var(--fill-color);\n",
              "      border-bottom-color: var(--fill-color);\n",
              "    }\n",
              "    90% {\n",
              "      border-color: transparent;\n",
              "      border-bottom-color: var(--fill-color);\n",
              "    }\n",
              "  }\n",
              "</style>\n",
              "\n",
              "  <script>\n",
              "    async function quickchart(key) {\n",
              "      const quickchartButtonEl =\n",
              "        document.querySelector('#' + key + ' button');\n",
              "      quickchartButtonEl.disabled = true;  // To prevent multiple clicks.\n",
              "      quickchartButtonEl.classList.add('colab-df-spinner');\n",
              "      try {\n",
              "        const charts = await google.colab.kernel.invokeFunction(\n",
              "            'suggestCharts', [key], {});\n",
              "      } catch (error) {\n",
              "        console.error('Error during call to suggestCharts:', error);\n",
              "      }\n",
              "      quickchartButtonEl.classList.remove('colab-df-spinner');\n",
              "      quickchartButtonEl.classList.add('colab-df-quickchart-complete');\n",
              "    }\n",
              "    (() => {\n",
              "      let quickchartButtonEl =\n",
              "        document.querySelector('#df-b80104b4-ee01-4044-8b31-c8c220122962 button');\n",
              "      quickchartButtonEl.style.display =\n",
              "        google.colab.kernel.accessAllowed ? 'block' : 'none';\n",
              "    })();\n",
              "  </script>\n",
              "</div>\n",
              "\n",
              "    </div>\n",
              "  </div>\n"
            ],
            "application/vnd.google.colaboratory.intrinsic+json": {
              "type": "dataframe",
              "variable_name": "df_path"
            }
          },
          "metadata": {},
          "execution_count": 99
        }
      ],
      "source": [
        "from google.colab import drive\n",
        "drive.mount('/content/gdrive')\n",
        "\n",
        "# Import dataset\n",
        "filePath = '/content/gdrive/MyDrive/CICIoT2023_DATASET/New-file-manual-data-split/part-00000-363d1ba3-8ab5-4f96-bc25-4d5862db7cb9-c000.csv'\n",
        "df_path = pd.read_csv(filePath)\n",
        "df_path.head()"
      ]
    },
    {
      "cell_type": "code",
      "execution_count": null,
      "metadata": {
        "collapsed": true,
        "id": "cgfXintSv-gP",
        "colab": {
          "base_uri": "https://localhost:8080/",
          "height": 1000
        },
        "outputId": "9ce0abbd-3344-4bea-a41f-1f025649619a"
      },
      "outputs": [
        {
          "output_type": "execute_result",
          "data": {
            "text/plain": [
              "label\n",
              "DDoS-ICMP_Flood            36554\n",
              "DDoS-UDP_Flood             27626\n",
              "DDoS-TCP_Flood             23149\n",
              "DDoS-PSHACK_Flood          21210\n",
              "DDoS-SYN_Flood             20739\n",
              "DDoS-RSTFINFlood           20669\n",
              "DDoS-SynonymousIP_Flood    18189\n",
              "DoS-UDP_Flood              16957\n",
              "DoS-TCP_Flood              13630\n",
              "DoS-SYN_Flood              10275\n",
              "BenignTraffic               5600\n",
              "Mirai-greeth_flood          5016\n",
              "Mirai-udpplain              4661\n",
              "Mirai-greip_flood           3758\n",
              "DDoS-ICMP_Fragmentation     2377\n",
              "MITM-ArpSpoofing            1614\n",
              "DDoS-ACK_Fragmentation      1505\n",
              "DDoS-UDP_Fragmentation      1484\n",
              "DNS_Spoofing                 925\n",
              "Recon-HostDiscovery          697\n",
              "Recon-OSScan                 517\n",
              "Recon-PortScan               430\n",
              "DoS-HTTP_Flood               414\n",
              "VulnerabilityScan            210\n",
              "DDoS-HTTP_Flood              169\n",
              "DDoS-SlowLoris               106\n",
              "DictionaryBruteForce          63\n",
              "SqlInjection                  31\n",
              "BrowserHijacking              30\n",
              "CommandInjection              28\n",
              "Backdoor_Malware              22\n",
              "XSS                           18\n",
              "Uploading_Attack               8\n",
              "Recon-PingSweep                6\n",
              "Name: count, dtype: int64"
            ],
            "text/html": [
              "<div>\n",
              "<style scoped>\n",
              "    .dataframe tbody tr th:only-of-type {\n",
              "        vertical-align: middle;\n",
              "    }\n",
              "\n",
              "    .dataframe tbody tr th {\n",
              "        vertical-align: top;\n",
              "    }\n",
              "\n",
              "    .dataframe thead th {\n",
              "        text-align: right;\n",
              "    }\n",
              "</style>\n",
              "<table border=\"1\" class=\"dataframe\">\n",
              "  <thead>\n",
              "    <tr style=\"text-align: right;\">\n",
              "      <th></th>\n",
              "      <th>count</th>\n",
              "    </tr>\n",
              "    <tr>\n",
              "      <th>label</th>\n",
              "      <th></th>\n",
              "    </tr>\n",
              "  </thead>\n",
              "  <tbody>\n",
              "    <tr>\n",
              "      <th>DDoS-ICMP_Flood</th>\n",
              "      <td>36554</td>\n",
              "    </tr>\n",
              "    <tr>\n",
              "      <th>DDoS-UDP_Flood</th>\n",
              "      <td>27626</td>\n",
              "    </tr>\n",
              "    <tr>\n",
              "      <th>DDoS-TCP_Flood</th>\n",
              "      <td>23149</td>\n",
              "    </tr>\n",
              "    <tr>\n",
              "      <th>DDoS-PSHACK_Flood</th>\n",
              "      <td>21210</td>\n",
              "    </tr>\n",
              "    <tr>\n",
              "      <th>DDoS-SYN_Flood</th>\n",
              "      <td>20739</td>\n",
              "    </tr>\n",
              "    <tr>\n",
              "      <th>DDoS-RSTFINFlood</th>\n",
              "      <td>20669</td>\n",
              "    </tr>\n",
              "    <tr>\n",
              "      <th>DDoS-SynonymousIP_Flood</th>\n",
              "      <td>18189</td>\n",
              "    </tr>\n",
              "    <tr>\n",
              "      <th>DoS-UDP_Flood</th>\n",
              "      <td>16957</td>\n",
              "    </tr>\n",
              "    <tr>\n",
              "      <th>DoS-TCP_Flood</th>\n",
              "      <td>13630</td>\n",
              "    </tr>\n",
              "    <tr>\n",
              "      <th>DoS-SYN_Flood</th>\n",
              "      <td>10275</td>\n",
              "    </tr>\n",
              "    <tr>\n",
              "      <th>BenignTraffic</th>\n",
              "      <td>5600</td>\n",
              "    </tr>\n",
              "    <tr>\n",
              "      <th>Mirai-greeth_flood</th>\n",
              "      <td>5016</td>\n",
              "    </tr>\n",
              "    <tr>\n",
              "      <th>Mirai-udpplain</th>\n",
              "      <td>4661</td>\n",
              "    </tr>\n",
              "    <tr>\n",
              "      <th>Mirai-greip_flood</th>\n",
              "      <td>3758</td>\n",
              "    </tr>\n",
              "    <tr>\n",
              "      <th>DDoS-ICMP_Fragmentation</th>\n",
              "      <td>2377</td>\n",
              "    </tr>\n",
              "    <tr>\n",
              "      <th>MITM-ArpSpoofing</th>\n",
              "      <td>1614</td>\n",
              "    </tr>\n",
              "    <tr>\n",
              "      <th>DDoS-ACK_Fragmentation</th>\n",
              "      <td>1505</td>\n",
              "    </tr>\n",
              "    <tr>\n",
              "      <th>DDoS-UDP_Fragmentation</th>\n",
              "      <td>1484</td>\n",
              "    </tr>\n",
              "    <tr>\n",
              "      <th>DNS_Spoofing</th>\n",
              "      <td>925</td>\n",
              "    </tr>\n",
              "    <tr>\n",
              "      <th>Recon-HostDiscovery</th>\n",
              "      <td>697</td>\n",
              "    </tr>\n",
              "    <tr>\n",
              "      <th>Recon-OSScan</th>\n",
              "      <td>517</td>\n",
              "    </tr>\n",
              "    <tr>\n",
              "      <th>Recon-PortScan</th>\n",
              "      <td>430</td>\n",
              "    </tr>\n",
              "    <tr>\n",
              "      <th>DoS-HTTP_Flood</th>\n",
              "      <td>414</td>\n",
              "    </tr>\n",
              "    <tr>\n",
              "      <th>VulnerabilityScan</th>\n",
              "      <td>210</td>\n",
              "    </tr>\n",
              "    <tr>\n",
              "      <th>DDoS-HTTP_Flood</th>\n",
              "      <td>169</td>\n",
              "    </tr>\n",
              "    <tr>\n",
              "      <th>DDoS-SlowLoris</th>\n",
              "      <td>106</td>\n",
              "    </tr>\n",
              "    <tr>\n",
              "      <th>DictionaryBruteForce</th>\n",
              "      <td>63</td>\n",
              "    </tr>\n",
              "    <tr>\n",
              "      <th>SqlInjection</th>\n",
              "      <td>31</td>\n",
              "    </tr>\n",
              "    <tr>\n",
              "      <th>BrowserHijacking</th>\n",
              "      <td>30</td>\n",
              "    </tr>\n",
              "    <tr>\n",
              "      <th>CommandInjection</th>\n",
              "      <td>28</td>\n",
              "    </tr>\n",
              "    <tr>\n",
              "      <th>Backdoor_Malware</th>\n",
              "      <td>22</td>\n",
              "    </tr>\n",
              "    <tr>\n",
              "      <th>XSS</th>\n",
              "      <td>18</td>\n",
              "    </tr>\n",
              "    <tr>\n",
              "      <th>Uploading_Attack</th>\n",
              "      <td>8</td>\n",
              "    </tr>\n",
              "    <tr>\n",
              "      <th>Recon-PingSweep</th>\n",
              "      <td>6</td>\n",
              "    </tr>\n",
              "  </tbody>\n",
              "</table>\n",
              "</div><br><label><b>dtype:</b> int64</label>"
            ]
          },
          "metadata": {},
          "execution_count": 100
        }
      ],
      "source": [
        "df_path['label'].value_counts()"
      ]
    },
    {
      "cell_type": "code",
      "execution_count": null,
      "metadata": {
        "id": "_A5glTbXWcla",
        "colab": {
          "base_uri": "https://localhost:8080/"
        },
        "outputId": "b13bcca2-d179-49d3-97ac-486b5d2f6d4d"
      },
      "outputs": [
        {
          "output_type": "execute_result",
          "data": {
            "text/plain": [
              "(238687, 47)"
            ]
          },
          "metadata": {},
          "execution_count": 101
        }
      ],
      "source": [
        "df_path.shape"
      ]
    },
    {
      "cell_type": "markdown",
      "metadata": {
        "id": "4KPOxzFVwLIl"
      },
      "source": [
        "**Classes to work with**"
      ]
    },
    {
      "cell_type": "code",
      "execution_count": null,
      "metadata": {
        "id": "P_ZgvgvUwJrG"
      },
      "outputs": [],
      "source": [
        "# Classes to work with\n",
        "select_classes = ['BenignTraffic','DDoS-ICMP_Flood','DDoS-UDP_Flood','DDoS-TCP_Flood','DDoS-PSHACK_Flood','DDoS-SYN_Flood','DDoS-RSTFINFlood','DDoS-SynonymousIP_Flood','DDoS-ICMP_Fragmentation','DDoS-UDP_Fragmentation','DDoS-ACK_Fragmentation','DDoS-UDP_Fragmentation','DDoS-HTTP_Flood','DDoS-SlowLoris']"
      ]
    },
    {
      "cell_type": "code",
      "execution_count": null,
      "metadata": {
        "collapsed": true,
        "id": "phjDwMJkwfVL",
        "colab": {
          "base_uri": "https://localhost:8080/",
          "height": 523
        },
        "outputId": "ef5e60ea-89df-4f25-a68b-8d754977bf7f"
      },
      "outputs": [
        {
          "output_type": "execute_result",
          "data": {
            "text/plain": [
              "label\n",
              "DDoS-ICMP_Flood            36554\n",
              "DDoS-UDP_Flood             27626\n",
              "DDoS-TCP_Flood             23149\n",
              "DDoS-PSHACK_Flood          21210\n",
              "DDoS-SYN_Flood             20739\n",
              "DDoS-RSTFINFlood           20669\n",
              "DDoS-SynonymousIP_Flood    18189\n",
              "BenignTraffic               5600\n",
              "DDoS-ICMP_Fragmentation     2377\n",
              "DDoS-ACK_Fragmentation      1505\n",
              "DDoS-UDP_Fragmentation      1484\n",
              "DDoS-HTTP_Flood              169\n",
              "DDoS-SlowLoris               106\n",
              "Name: count, dtype: int64"
            ],
            "text/html": [
              "<div>\n",
              "<style scoped>\n",
              "    .dataframe tbody tr th:only-of-type {\n",
              "        vertical-align: middle;\n",
              "    }\n",
              "\n",
              "    .dataframe tbody tr th {\n",
              "        vertical-align: top;\n",
              "    }\n",
              "\n",
              "    .dataframe thead th {\n",
              "        text-align: right;\n",
              "    }\n",
              "</style>\n",
              "<table border=\"1\" class=\"dataframe\">\n",
              "  <thead>\n",
              "    <tr style=\"text-align: right;\">\n",
              "      <th></th>\n",
              "      <th>count</th>\n",
              "    </tr>\n",
              "    <tr>\n",
              "      <th>label</th>\n",
              "      <th></th>\n",
              "    </tr>\n",
              "  </thead>\n",
              "  <tbody>\n",
              "    <tr>\n",
              "      <th>DDoS-ICMP_Flood</th>\n",
              "      <td>36554</td>\n",
              "    </tr>\n",
              "    <tr>\n",
              "      <th>DDoS-UDP_Flood</th>\n",
              "      <td>27626</td>\n",
              "    </tr>\n",
              "    <tr>\n",
              "      <th>DDoS-TCP_Flood</th>\n",
              "      <td>23149</td>\n",
              "    </tr>\n",
              "    <tr>\n",
              "      <th>DDoS-PSHACK_Flood</th>\n",
              "      <td>21210</td>\n",
              "    </tr>\n",
              "    <tr>\n",
              "      <th>DDoS-SYN_Flood</th>\n",
              "      <td>20739</td>\n",
              "    </tr>\n",
              "    <tr>\n",
              "      <th>DDoS-RSTFINFlood</th>\n",
              "      <td>20669</td>\n",
              "    </tr>\n",
              "    <tr>\n",
              "      <th>DDoS-SynonymousIP_Flood</th>\n",
              "      <td>18189</td>\n",
              "    </tr>\n",
              "    <tr>\n",
              "      <th>BenignTraffic</th>\n",
              "      <td>5600</td>\n",
              "    </tr>\n",
              "    <tr>\n",
              "      <th>DDoS-ICMP_Fragmentation</th>\n",
              "      <td>2377</td>\n",
              "    </tr>\n",
              "    <tr>\n",
              "      <th>DDoS-ACK_Fragmentation</th>\n",
              "      <td>1505</td>\n",
              "    </tr>\n",
              "    <tr>\n",
              "      <th>DDoS-UDP_Fragmentation</th>\n",
              "      <td>1484</td>\n",
              "    </tr>\n",
              "    <tr>\n",
              "      <th>DDoS-HTTP_Flood</th>\n",
              "      <td>169</td>\n",
              "    </tr>\n",
              "    <tr>\n",
              "      <th>DDoS-SlowLoris</th>\n",
              "      <td>106</td>\n",
              "    </tr>\n",
              "  </tbody>\n",
              "</table>\n",
              "</div><br><label><b>dtype:</b> int64</label>"
            ]
          },
          "metadata": {},
          "execution_count": 103
        }
      ],
      "source": [
        "selected_data = df_path[df_path['label'].isin(select_classes)]\n",
        "selected_data['label'].value_counts()"
      ]
    },
    {
      "cell_type": "code",
      "execution_count": null,
      "metadata": {
        "id": "cISnR67gwl-1"
      },
      "outputs": [],
      "source": [
        "selected_data.reset_index(drop=True, inplace=True)"
      ]
    },
    {
      "cell_type": "code",
      "execution_count": null,
      "metadata": {
        "id": "ivSLigVJwoqr"
      },
      "outputs": [],
      "source": [
        "# Save new dataframe into a new file\n",
        "selected_data.to_csv('/content/gdrive/MyDrive/CICIoT2023_DATASET/All-forty-files/Final_Folder/final.csv', index=False)"
      ]
    },
    {
      "cell_type": "code",
      "execution_count": null,
      "metadata": {
        "id": "O60TL_KBw_a1"
      },
      "outputs": [],
      "source": [
        "# Read file\n",
        "read_File = '/content/gdrive/MyDrive/CICIoT2023_DATASET/All-forty-files/Final_Folder/final.csv'\n",
        "df = pd.read_csv(read_File)"
      ]
    },
    {
      "cell_type": "code",
      "execution_count": null,
      "metadata": {
        "id": "yLxSNkz7WngL",
        "colab": {
          "base_uri": "https://localhost:8080/"
        },
        "outputId": "dcafe617-aac8-406e-e0e7-8817ec9e6442"
      },
      "outputs": [
        {
          "output_type": "execute_result",
          "data": {
            "text/plain": [
              "(179377, 47)"
            ]
          },
          "metadata": {},
          "execution_count": 107
        }
      ],
      "source": [
        "df.shape"
      ]
    },
    {
      "cell_type": "markdown",
      "metadata": {
        "id": "e-RX_AHOyeH0"
      },
      "source": [
        "**Benign File**"
      ]
    },
    {
      "cell_type": "code",
      "execution_count": null,
      "metadata": {
        "id": "6LhjWWlcxNbI"
      },
      "outputs": [],
      "source": [
        "# BenignTraffic file\n",
        "Benign = ['BenignTraffic']\n",
        "df_Benign = df[df['label'].isin(Benign)]"
      ]
    },
    {
      "cell_type": "code",
      "execution_count": null,
      "metadata": {
        "id": "krkvTycKxQ75"
      },
      "outputs": [],
      "source": [
        "df_Benign.reset_index(drop=True, inplace=True)"
      ]
    },
    {
      "cell_type": "code",
      "execution_count": null,
      "metadata": {
        "id": "dxKsqSvYxVV8"
      },
      "outputs": [],
      "source": [
        "# Save new benignTraffic file\n",
        "df_Benign.to_csv('/content/gdrive/MyDrive/CICIoT2023_DATASET/All-forty-files/Final_Folder/final_benign.csv', index=False)"
      ]
    },
    {
      "cell_type": "code",
      "execution_count": null,
      "metadata": {
        "collapsed": true,
        "id": "XNQPpzMqxdHn",
        "colab": {
          "base_uri": "https://localhost:8080/",
          "height": 147
        },
        "outputId": "d306525a-a7e4-416e-9cbd-48e84ac485de"
      },
      "outputs": [
        {
          "output_type": "execute_result",
          "data": {
            "text/plain": [
              "label\n",
              "BenignTraffic    5600\n",
              "Name: count, dtype: int64"
            ],
            "text/html": [
              "<div>\n",
              "<style scoped>\n",
              "    .dataframe tbody tr th:only-of-type {\n",
              "        vertical-align: middle;\n",
              "    }\n",
              "\n",
              "    .dataframe tbody tr th {\n",
              "        vertical-align: top;\n",
              "    }\n",
              "\n",
              "    .dataframe thead th {\n",
              "        text-align: right;\n",
              "    }\n",
              "</style>\n",
              "<table border=\"1\" class=\"dataframe\">\n",
              "  <thead>\n",
              "    <tr style=\"text-align: right;\">\n",
              "      <th></th>\n",
              "      <th>count</th>\n",
              "    </tr>\n",
              "    <tr>\n",
              "      <th>label</th>\n",
              "      <th></th>\n",
              "    </tr>\n",
              "  </thead>\n",
              "  <tbody>\n",
              "    <tr>\n",
              "      <th>BenignTraffic</th>\n",
              "      <td>5600</td>\n",
              "    </tr>\n",
              "  </tbody>\n",
              "</table>\n",
              "</div><br><label><b>dtype:</b> int64</label>"
            ]
          },
          "metadata": {},
          "execution_count": 111
        }
      ],
      "source": [
        "df_Benign['label'].value_counts()"
      ]
    },
    {
      "cell_type": "code",
      "execution_count": null,
      "metadata": {
        "collapsed": true,
        "id": "lcuvjzMJWxR-",
        "colab": {
          "base_uri": "https://localhost:8080/"
        },
        "outputId": "4a99cbc4-769a-491c-8ac5-51cafb0e6aa6"
      },
      "outputs": [
        {
          "output_type": "execute_result",
          "data": {
            "text/plain": [
              "(5600, 47)"
            ]
          },
          "metadata": {},
          "execution_count": 112
        }
      ],
      "source": [
        "df_Benign.shape"
      ]
    },
    {
      "cell_type": "markdown",
      "metadata": {
        "id": "1SMESR0yxhID"
      },
      "source": [
        "**DDoS File**"
      ]
    },
    {
      "cell_type": "code",
      "execution_count": null,
      "metadata": {
        "id": "YuMum_fYxjJI"
      },
      "outputs": [],
      "source": [
        "# DDoS file\n",
        "DDoS = ['DDoS-ICMP_Flood','DDoS-UDP_Flood','DDoS-TCP_Flood','DDoS-PSHACK_Flood','DDoS-SYN_Flood','DDoS-RSTFINFlood','DDoS-SynonymousIP_Flood','DDoS-ICMP_Fragmentation','DDoS-UDP_Fragmentation','DDoS-ACK_Fragmentation','DDoS-UDP_Fragmentation','DDoS-HTTP_Flood','DDoS-SlowLoris']\n",
        "DDoS = df[df['label'].isin(DDoS)]"
      ]
    },
    {
      "cell_type": "code",
      "execution_count": null,
      "metadata": {
        "id": "9c8OPCk1xmjE"
      },
      "outputs": [],
      "source": [
        "DDoS.reset_index(drop=True, inplace=True)"
      ]
    },
    {
      "cell_type": "code",
      "execution_count": null,
      "metadata": {
        "id": "GVSYBgT_xrVV",
        "colab": {
          "base_uri": "https://localhost:8080/",
          "height": 492
        },
        "outputId": "f9df1b24-bc4a-4fa2-fccc-19f47a88efb8"
      },
      "outputs": [
        {
          "output_type": "execute_result",
          "data": {
            "text/plain": [
              "label\n",
              "DDoS-ICMP_Flood            36554\n",
              "DDoS-UDP_Flood             27626\n",
              "DDoS-TCP_Flood             23149\n",
              "DDoS-PSHACK_Flood          21210\n",
              "DDoS-SYN_Flood             20739\n",
              "DDoS-RSTFINFlood           20669\n",
              "DDoS-SynonymousIP_Flood    18189\n",
              "DDoS-ICMP_Fragmentation     2377\n",
              "DDoS-ACK_Fragmentation      1505\n",
              "DDoS-UDP_Fragmentation      1484\n",
              "DDoS-HTTP_Flood              169\n",
              "DDoS-SlowLoris               106\n",
              "Name: count, dtype: int64"
            ],
            "text/html": [
              "<div>\n",
              "<style scoped>\n",
              "    .dataframe tbody tr th:only-of-type {\n",
              "        vertical-align: middle;\n",
              "    }\n",
              "\n",
              "    .dataframe tbody tr th {\n",
              "        vertical-align: top;\n",
              "    }\n",
              "\n",
              "    .dataframe thead th {\n",
              "        text-align: right;\n",
              "    }\n",
              "</style>\n",
              "<table border=\"1\" class=\"dataframe\">\n",
              "  <thead>\n",
              "    <tr style=\"text-align: right;\">\n",
              "      <th></th>\n",
              "      <th>count</th>\n",
              "    </tr>\n",
              "    <tr>\n",
              "      <th>label</th>\n",
              "      <th></th>\n",
              "    </tr>\n",
              "  </thead>\n",
              "  <tbody>\n",
              "    <tr>\n",
              "      <th>DDoS-ICMP_Flood</th>\n",
              "      <td>36554</td>\n",
              "    </tr>\n",
              "    <tr>\n",
              "      <th>DDoS-UDP_Flood</th>\n",
              "      <td>27626</td>\n",
              "    </tr>\n",
              "    <tr>\n",
              "      <th>DDoS-TCP_Flood</th>\n",
              "      <td>23149</td>\n",
              "    </tr>\n",
              "    <tr>\n",
              "      <th>DDoS-PSHACK_Flood</th>\n",
              "      <td>21210</td>\n",
              "    </tr>\n",
              "    <tr>\n",
              "      <th>DDoS-SYN_Flood</th>\n",
              "      <td>20739</td>\n",
              "    </tr>\n",
              "    <tr>\n",
              "      <th>DDoS-RSTFINFlood</th>\n",
              "      <td>20669</td>\n",
              "    </tr>\n",
              "    <tr>\n",
              "      <th>DDoS-SynonymousIP_Flood</th>\n",
              "      <td>18189</td>\n",
              "    </tr>\n",
              "    <tr>\n",
              "      <th>DDoS-ICMP_Fragmentation</th>\n",
              "      <td>2377</td>\n",
              "    </tr>\n",
              "    <tr>\n",
              "      <th>DDoS-ACK_Fragmentation</th>\n",
              "      <td>1505</td>\n",
              "    </tr>\n",
              "    <tr>\n",
              "      <th>DDoS-UDP_Fragmentation</th>\n",
              "      <td>1484</td>\n",
              "    </tr>\n",
              "    <tr>\n",
              "      <th>DDoS-HTTP_Flood</th>\n",
              "      <td>169</td>\n",
              "    </tr>\n",
              "    <tr>\n",
              "      <th>DDoS-SlowLoris</th>\n",
              "      <td>106</td>\n",
              "    </tr>\n",
              "  </tbody>\n",
              "</table>\n",
              "</div><br><label><b>dtype:</b> int64</label>"
            ]
          },
          "metadata": {},
          "execution_count": 115
        }
      ],
      "source": [
        "DDoS['label'].value_counts()"
      ]
    },
    {
      "cell_type": "code",
      "execution_count": null,
      "metadata": {
        "id": "Z3MXF8ccxtyS"
      },
      "outputs": [],
      "source": [
        "# Save new DDoS file\n",
        "DDoS.to_csv('/content/gdrive/MyDrive/CICIoT2023_DATASET/All-forty-files/Final_Folder/final_malicious.csv', index=False)"
      ]
    },
    {
      "cell_type": "code",
      "execution_count": null,
      "metadata": {
        "id": "HBJ7qGaex4uz"
      },
      "outputs": [],
      "source": [
        "ddos_path = '/content/gdrive/MyDrive/CICIoT2023_DATASET/All-forty-files/Final_Folder/final_malicious.csv'\n",
        "df_copy_new = pd.read_csv(ddos_path)"
      ]
    },
    {
      "cell_type": "code",
      "execution_count": null,
      "metadata": {
        "colab": {
          "base_uri": "https://localhost:8080/",
          "height": 492
        },
        "collapsed": true,
        "id": "_X84WJuGyCJw",
        "outputId": "20d1330a-7e9f-48b8-a29b-cba29ae1ddb1"
      },
      "outputs": [
        {
          "output_type": "execute_result",
          "data": {
            "text/plain": [
              "label\n",
              "DDoS-ICMP_Flood            36554\n",
              "DDoS-UDP_Flood             27626\n",
              "DDoS-TCP_Flood             23149\n",
              "DDoS-PSHACK_Flood          21210\n",
              "DDoS-SYN_Flood             20739\n",
              "DDoS-RSTFINFlood           20669\n",
              "DDoS-SynonymousIP_Flood    18189\n",
              "DDoS-ICMP_Fragmentation     2377\n",
              "DDoS-ACK_Fragmentation      1505\n",
              "DDoS-UDP_Fragmentation      1484\n",
              "DDoS-HTTP_Flood              169\n",
              "DDoS-SlowLoris               106\n",
              "Name: count, dtype: int64"
            ],
            "text/html": [
              "<div>\n",
              "<style scoped>\n",
              "    .dataframe tbody tr th:only-of-type {\n",
              "        vertical-align: middle;\n",
              "    }\n",
              "\n",
              "    .dataframe tbody tr th {\n",
              "        vertical-align: top;\n",
              "    }\n",
              "\n",
              "    .dataframe thead th {\n",
              "        text-align: right;\n",
              "    }\n",
              "</style>\n",
              "<table border=\"1\" class=\"dataframe\">\n",
              "  <thead>\n",
              "    <tr style=\"text-align: right;\">\n",
              "      <th></th>\n",
              "      <th>count</th>\n",
              "    </tr>\n",
              "    <tr>\n",
              "      <th>label</th>\n",
              "      <th></th>\n",
              "    </tr>\n",
              "  </thead>\n",
              "  <tbody>\n",
              "    <tr>\n",
              "      <th>DDoS-ICMP_Flood</th>\n",
              "      <td>36554</td>\n",
              "    </tr>\n",
              "    <tr>\n",
              "      <th>DDoS-UDP_Flood</th>\n",
              "      <td>27626</td>\n",
              "    </tr>\n",
              "    <tr>\n",
              "      <th>DDoS-TCP_Flood</th>\n",
              "      <td>23149</td>\n",
              "    </tr>\n",
              "    <tr>\n",
              "      <th>DDoS-PSHACK_Flood</th>\n",
              "      <td>21210</td>\n",
              "    </tr>\n",
              "    <tr>\n",
              "      <th>DDoS-SYN_Flood</th>\n",
              "      <td>20739</td>\n",
              "    </tr>\n",
              "    <tr>\n",
              "      <th>DDoS-RSTFINFlood</th>\n",
              "      <td>20669</td>\n",
              "    </tr>\n",
              "    <tr>\n",
              "      <th>DDoS-SynonymousIP_Flood</th>\n",
              "      <td>18189</td>\n",
              "    </tr>\n",
              "    <tr>\n",
              "      <th>DDoS-ICMP_Fragmentation</th>\n",
              "      <td>2377</td>\n",
              "    </tr>\n",
              "    <tr>\n",
              "      <th>DDoS-ACK_Fragmentation</th>\n",
              "      <td>1505</td>\n",
              "    </tr>\n",
              "    <tr>\n",
              "      <th>DDoS-UDP_Fragmentation</th>\n",
              "      <td>1484</td>\n",
              "    </tr>\n",
              "    <tr>\n",
              "      <th>DDoS-HTTP_Flood</th>\n",
              "      <td>169</td>\n",
              "    </tr>\n",
              "    <tr>\n",
              "      <th>DDoS-SlowLoris</th>\n",
              "      <td>106</td>\n",
              "    </tr>\n",
              "  </tbody>\n",
              "</table>\n",
              "</div><br><label><b>dtype:</b> int64</label>"
            ]
          },
          "metadata": {},
          "execution_count": 118
        }
      ],
      "source": [
        "df_copy_new['label'].value_counts()"
      ]
    },
    {
      "cell_type": "code",
      "execution_count": null,
      "metadata": {
        "colab": {
          "base_uri": "https://localhost:8080/"
        },
        "collapsed": true,
        "id": "nPsKN4aqW87R",
        "outputId": "1d2f008f-53cc-4a02-e6fc-56082d40cf18"
      },
      "outputs": [
        {
          "output_type": "execute_result",
          "data": {
            "text/plain": [
              "(173777, 47)"
            ]
          },
          "metadata": {},
          "execution_count": 119
        }
      ],
      "source": [
        "df_copy_new.shape"
      ]
    },
    {
      "cell_type": "code",
      "execution_count": null,
      "metadata": {
        "id": "3qoRMv9yyEmM"
      },
      "outputs": [],
      "source": [
        "df_copy = df_copy_new.copy()"
      ]
    },
    {
      "cell_type": "markdown",
      "metadata": {
        "id": "QmiIXZPzzRXC"
      },
      "source": [
        "#**One with the balancing technique**"
      ]
    },
    {
      "cell_type": "markdown",
      "metadata": {
        "id": "NoYiv1thyIc4"
      },
      "source": [
        "**Random undersampling**"
      ]
    },
    {
      "cell_type": "code",
      "execution_count": null,
      "metadata": {
        "id": "PsS0nd8tyKXx"
      },
      "outputs": [],
      "source": [
        "# Classes with categorical names\n",
        "samples_per_class = {\n",
        "    'DDoS-ICMP_Flood' : 1500, #1325 #125\n",
        "    'DDoS-UDP_Flood' :  1200, #1525 #25\n",
        "    'DDoS-TCP_Flood' :  1000, #1739 #39\n",
        "    'DDoS-PSHACK_Flood' : 500, #1739 #39\n",
        "    'DDoS-SynonymousIP_Flood' : 50, #1739 #39\n",
        "    'DDoS-RSTFINFlood' : 50, #1739 #39\n",
        "    'DDoS-SYN_Flood'  : 1200, #1739 #39\n",
        "    'DDoS-HTTP_Flood' : 50, #1739 #39\n",
        "    'DDoS-SlowLoris'  : 50, #1739 #39\n",
        "    'DDoS-ICMP_Fragmentation' : 50, #1739 #39\n",
        "    'DDoS-UDP_Fragmentation' : 50, #1739 #39\n",
        "    'DDoS-ACK_Fragmentation' : 50, #1739 #39\n",
        "}\n",
        "\n",
        "# Create an empty DataFrame to hold the samples\n",
        "df_sampled = pd.DataFrame()\n",
        "\n",
        "# Loop through each class and sample the specified number of rows\n",
        "for class_label, n_samples in samples_per_class.items():\n",
        "    class_subset = df_copy[df_copy['label'] == class_label]\n",
        "    sampled_subset = class_subset.sample(n=n_samples, random_state=42)\n",
        "    df_sampled = pd.concat([df_sampled, sampled_subset], axis=0)\n",
        "\n",
        "# Get the classes that were not specified in samples_per_class\n",
        "remaining_classes = df_copy[~df_copy['label'].isin(samples_per_class.keys())]\n",
        "\n",
        "# Combine the sampled rows with the remaining rows from the original DataFrame\n",
        "df_combined = pd.concat([df_sampled, remaining_classes], axis=0).reset_index(drop=True)"
      ]
    },
    {
      "cell_type": "code",
      "execution_count": null,
      "metadata": {
        "colab": {
          "base_uri": "https://localhost:8080/",
          "height": 492
        },
        "id": "ZZSg31w5yUYw",
        "outputId": "74531d8e-9a32-4ce4-9690-cf3241ea17d5"
      },
      "outputs": [
        {
          "output_type": "execute_result",
          "data": {
            "text/plain": [
              "label\n",
              "DDoS-ICMP_Flood            1500\n",
              "DDoS-UDP_Flood             1200\n",
              "DDoS-SYN_Flood             1200\n",
              "DDoS-TCP_Flood             1000\n",
              "DDoS-PSHACK_Flood           500\n",
              "DDoS-SynonymousIP_Flood      50\n",
              "DDoS-RSTFINFlood             50\n",
              "DDoS-HTTP_Flood              50\n",
              "DDoS-SlowLoris               50\n",
              "DDoS-ICMP_Fragmentation      50\n",
              "DDoS-UDP_Fragmentation       50\n",
              "DDoS-ACK_Fragmentation       50\n",
              "Name: count, dtype: int64"
            ],
            "text/html": [
              "<div>\n",
              "<style scoped>\n",
              "    .dataframe tbody tr th:only-of-type {\n",
              "        vertical-align: middle;\n",
              "    }\n",
              "\n",
              "    .dataframe tbody tr th {\n",
              "        vertical-align: top;\n",
              "    }\n",
              "\n",
              "    .dataframe thead th {\n",
              "        text-align: right;\n",
              "    }\n",
              "</style>\n",
              "<table border=\"1\" class=\"dataframe\">\n",
              "  <thead>\n",
              "    <tr style=\"text-align: right;\">\n",
              "      <th></th>\n",
              "      <th>count</th>\n",
              "    </tr>\n",
              "    <tr>\n",
              "      <th>label</th>\n",
              "      <th></th>\n",
              "    </tr>\n",
              "  </thead>\n",
              "  <tbody>\n",
              "    <tr>\n",
              "      <th>DDoS-ICMP_Flood</th>\n",
              "      <td>1500</td>\n",
              "    </tr>\n",
              "    <tr>\n",
              "      <th>DDoS-UDP_Flood</th>\n",
              "      <td>1200</td>\n",
              "    </tr>\n",
              "    <tr>\n",
              "      <th>DDoS-SYN_Flood</th>\n",
              "      <td>1200</td>\n",
              "    </tr>\n",
              "    <tr>\n",
              "      <th>DDoS-TCP_Flood</th>\n",
              "      <td>1000</td>\n",
              "    </tr>\n",
              "    <tr>\n",
              "      <th>DDoS-PSHACK_Flood</th>\n",
              "      <td>500</td>\n",
              "    </tr>\n",
              "    <tr>\n",
              "      <th>DDoS-SynonymousIP_Flood</th>\n",
              "      <td>50</td>\n",
              "    </tr>\n",
              "    <tr>\n",
              "      <th>DDoS-RSTFINFlood</th>\n",
              "      <td>50</td>\n",
              "    </tr>\n",
              "    <tr>\n",
              "      <th>DDoS-HTTP_Flood</th>\n",
              "      <td>50</td>\n",
              "    </tr>\n",
              "    <tr>\n",
              "      <th>DDoS-SlowLoris</th>\n",
              "      <td>50</td>\n",
              "    </tr>\n",
              "    <tr>\n",
              "      <th>DDoS-ICMP_Fragmentation</th>\n",
              "      <td>50</td>\n",
              "    </tr>\n",
              "    <tr>\n",
              "      <th>DDoS-UDP_Fragmentation</th>\n",
              "      <td>50</td>\n",
              "    </tr>\n",
              "    <tr>\n",
              "      <th>DDoS-ACK_Fragmentation</th>\n",
              "      <td>50</td>\n",
              "    </tr>\n",
              "  </tbody>\n",
              "</table>\n",
              "</div><br><label><b>dtype:</b> int64</label>"
            ]
          },
          "metadata": {},
          "execution_count": 122
        }
      ],
      "source": [
        "df_combined['label'].value_counts()"
      ]
    },
    {
      "cell_type": "code",
      "execution_count": null,
      "metadata": {
        "id": "kNp92uxhyYtT"
      },
      "outputs": [],
      "source": [
        "# Combine the sampled rows with the remaining rows from the original DataFrame\n",
        "df_balanced = pd.concat([df_combined, df_Benign], axis=0).reset_index(drop=True)"
      ]
    },
    {
      "cell_type": "code",
      "source": [
        "df_balanced.head(n=1000)"
      ],
      "metadata": {
        "colab": {
          "base_uri": "https://localhost:8080/",
          "height": 635
        },
        "id": "ZWZ8B03GNqMT",
        "outputId": "c6cb364a-8ad6-4223-d669-4280a4ccffd3"
      },
      "execution_count": null,
      "outputs": [
        {
          "output_type": "execute_result",
          "data": {
            "text/plain": [
              "     flow_duration  Header_Length  Protocol Type  Duration       Rate  \\\n",
              "0         0.000000           0.00           1.00      64.0  22.205758   \n",
              "1         0.000000           0.00           1.00      64.0  21.750909   \n",
              "2         0.000000           0.00           1.00      64.0   0.000000   \n",
              "3         0.000000           0.00           1.00      64.0  12.644338   \n",
              "4         0.000000           0.00           1.00      64.0  24.595600   \n",
              "..             ...            ...            ...       ...        ...   \n",
              "995       0.000000           0.00           1.00      64.0  26.208257   \n",
              "996       0.017172           6.22           1.32      64.0   9.421548   \n",
              "997       0.000000           0.00           1.00      64.0   7.447749   \n",
              "998       0.000000           0.00           1.00      64.0   1.008073   \n",
              "999       0.000000           0.00           1.00      64.0  14.366785   \n",
              "\n",
              "         Srate  Drate  fin_flag_number  syn_flag_number  rst_flag_number  ...  \\\n",
              "0    22.205758    0.0              0.0              0.0              0.0  ...   \n",
              "1    21.750909    0.0              0.0              0.0              0.0  ...   \n",
              "2     0.000000    0.0              0.0              0.0              0.0  ...   \n",
              "3    12.644338    0.0              0.0              0.0              0.0  ...   \n",
              "4    24.595600    0.0              0.0              0.0              0.0  ...   \n",
              "..         ...    ...              ...              ...              ...  ...   \n",
              "995  26.208257    0.0              0.0              0.0              0.0  ...   \n",
              "996   9.421548    0.0              0.0              0.0              0.0  ...   \n",
              "997   7.447749    0.0              0.0              0.0              0.0  ...   \n",
              "998   1.008073    0.0              0.0              0.0              0.0  ...   \n",
              "999  14.366785    0.0              0.0              0.0              0.0  ...   \n",
              "\n",
              "          Std  Tot size           IAT  Number  Magnitue    Radius  Covariance  \\\n",
              "0    0.000000     42.00  8.348327e+07     9.5  9.165151  0.000000    0.000000   \n",
              "1    0.000000     42.00  8.314940e+07     9.5  9.165151  0.000000    0.000000   \n",
              "2    0.000000     42.00  8.315070e+07     9.5  9.165151  0.000000    0.000000   \n",
              "3    0.000000     42.00  8.312816e+07     9.5  9.165151  0.000000    0.000000   \n",
              "4    0.000000     42.00  8.315372e+07     9.5  9.165151  0.000000    0.000000   \n",
              "..        ...       ...           ...     ...       ...       ...         ...   \n",
              "995  0.000000     42.00  8.312803e+07     9.5  9.165151  0.000000    0.000000   \n",
              "996  0.875287     42.96  8.312876e+07     9.5  9.197232  1.242521   12.960796   \n",
              "997  0.000000     42.00  8.312798e+07     9.5  9.165151  0.000000    0.000000   \n",
              "998  0.000000     42.00  8.313229e+07     9.5  9.165151  0.000000    0.000000   \n",
              "999  3.335913     42.56  8.314944e+07     9.5  9.313953  4.721932   62.843493   \n",
              "\n",
              "     Variance  Weight            label  \n",
              "0        0.00  141.55  DDoS-ICMP_Flood  \n",
              "1        0.00  141.55  DDoS-ICMP_Flood  \n",
              "2        0.00  141.55  DDoS-ICMP_Flood  \n",
              "3        0.00  141.55  DDoS-ICMP_Flood  \n",
              "4        0.00  141.55  DDoS-ICMP_Flood  \n",
              "..        ...     ...              ...  \n",
              "995      0.00  141.55  DDoS-ICMP_Flood  \n",
              "996      0.06  141.55  DDoS-ICMP_Flood  \n",
              "997      0.00  141.55  DDoS-ICMP_Flood  \n",
              "998      0.00  141.55  DDoS-ICMP_Flood  \n",
              "999      0.19  141.55  DDoS-ICMP_Flood  \n",
              "\n",
              "[1000 rows x 47 columns]"
            ],
            "text/html": [
              "\n",
              "  <div id=\"df-88d471f9-bc75-41a0-9a60-0af07135f644\" class=\"colab-df-container\">\n",
              "    <div>\n",
              "<style scoped>\n",
              "    .dataframe tbody tr th:only-of-type {\n",
              "        vertical-align: middle;\n",
              "    }\n",
              "\n",
              "    .dataframe tbody tr th {\n",
              "        vertical-align: top;\n",
              "    }\n",
              "\n",
              "    .dataframe thead th {\n",
              "        text-align: right;\n",
              "    }\n",
              "</style>\n",
              "<table border=\"1\" class=\"dataframe\">\n",
              "  <thead>\n",
              "    <tr style=\"text-align: right;\">\n",
              "      <th></th>\n",
              "      <th>flow_duration</th>\n",
              "      <th>Header_Length</th>\n",
              "      <th>Protocol Type</th>\n",
              "      <th>Duration</th>\n",
              "      <th>Rate</th>\n",
              "      <th>Srate</th>\n",
              "      <th>Drate</th>\n",
              "      <th>fin_flag_number</th>\n",
              "      <th>syn_flag_number</th>\n",
              "      <th>rst_flag_number</th>\n",
              "      <th>...</th>\n",
              "      <th>Std</th>\n",
              "      <th>Tot size</th>\n",
              "      <th>IAT</th>\n",
              "      <th>Number</th>\n",
              "      <th>Magnitue</th>\n",
              "      <th>Radius</th>\n",
              "      <th>Covariance</th>\n",
              "      <th>Variance</th>\n",
              "      <th>Weight</th>\n",
              "      <th>label</th>\n",
              "    </tr>\n",
              "  </thead>\n",
              "  <tbody>\n",
              "    <tr>\n",
              "      <th>0</th>\n",
              "      <td>0.000000</td>\n",
              "      <td>0.00</td>\n",
              "      <td>1.00</td>\n",
              "      <td>64.0</td>\n",
              "      <td>22.205758</td>\n",
              "      <td>22.205758</td>\n",
              "      <td>0.0</td>\n",
              "      <td>0.0</td>\n",
              "      <td>0.0</td>\n",
              "      <td>0.0</td>\n",
              "      <td>...</td>\n",
              "      <td>0.000000</td>\n",
              "      <td>42.00</td>\n",
              "      <td>8.348327e+07</td>\n",
              "      <td>9.5</td>\n",
              "      <td>9.165151</td>\n",
              "      <td>0.000000</td>\n",
              "      <td>0.000000</td>\n",
              "      <td>0.00</td>\n",
              "      <td>141.55</td>\n",
              "      <td>DDoS-ICMP_Flood</td>\n",
              "    </tr>\n",
              "    <tr>\n",
              "      <th>1</th>\n",
              "      <td>0.000000</td>\n",
              "      <td>0.00</td>\n",
              "      <td>1.00</td>\n",
              "      <td>64.0</td>\n",
              "      <td>21.750909</td>\n",
              "      <td>21.750909</td>\n",
              "      <td>0.0</td>\n",
              "      <td>0.0</td>\n",
              "      <td>0.0</td>\n",
              "      <td>0.0</td>\n",
              "      <td>...</td>\n",
              "      <td>0.000000</td>\n",
              "      <td>42.00</td>\n",
              "      <td>8.314940e+07</td>\n",
              "      <td>9.5</td>\n",
              "      <td>9.165151</td>\n",
              "      <td>0.000000</td>\n",
              "      <td>0.000000</td>\n",
              "      <td>0.00</td>\n",
              "      <td>141.55</td>\n",
              "      <td>DDoS-ICMP_Flood</td>\n",
              "    </tr>\n",
              "    <tr>\n",
              "      <th>2</th>\n",
              "      <td>0.000000</td>\n",
              "      <td>0.00</td>\n",
              "      <td>1.00</td>\n",
              "      <td>64.0</td>\n",
              "      <td>0.000000</td>\n",
              "      <td>0.000000</td>\n",
              "      <td>0.0</td>\n",
              "      <td>0.0</td>\n",
              "      <td>0.0</td>\n",
              "      <td>0.0</td>\n",
              "      <td>...</td>\n",
              "      <td>0.000000</td>\n",
              "      <td>42.00</td>\n",
              "      <td>8.315070e+07</td>\n",
              "      <td>9.5</td>\n",
              "      <td>9.165151</td>\n",
              "      <td>0.000000</td>\n",
              "      <td>0.000000</td>\n",
              "      <td>0.00</td>\n",
              "      <td>141.55</td>\n",
              "      <td>DDoS-ICMP_Flood</td>\n",
              "    </tr>\n",
              "    <tr>\n",
              "      <th>3</th>\n",
              "      <td>0.000000</td>\n",
              "      <td>0.00</td>\n",
              "      <td>1.00</td>\n",
              "      <td>64.0</td>\n",
              "      <td>12.644338</td>\n",
              "      <td>12.644338</td>\n",
              "      <td>0.0</td>\n",
              "      <td>0.0</td>\n",
              "      <td>0.0</td>\n",
              "      <td>0.0</td>\n",
              "      <td>...</td>\n",
              "      <td>0.000000</td>\n",
              "      <td>42.00</td>\n",
              "      <td>8.312816e+07</td>\n",
              "      <td>9.5</td>\n",
              "      <td>9.165151</td>\n",
              "      <td>0.000000</td>\n",
              "      <td>0.000000</td>\n",
              "      <td>0.00</td>\n",
              "      <td>141.55</td>\n",
              "      <td>DDoS-ICMP_Flood</td>\n",
              "    </tr>\n",
              "    <tr>\n",
              "      <th>4</th>\n",
              "      <td>0.000000</td>\n",
              "      <td>0.00</td>\n",
              "      <td>1.00</td>\n",
              "      <td>64.0</td>\n",
              "      <td>24.595600</td>\n",
              "      <td>24.595600</td>\n",
              "      <td>0.0</td>\n",
              "      <td>0.0</td>\n",
              "      <td>0.0</td>\n",
              "      <td>0.0</td>\n",
              "      <td>...</td>\n",
              "      <td>0.000000</td>\n",
              "      <td>42.00</td>\n",
              "      <td>8.315372e+07</td>\n",
              "      <td>9.5</td>\n",
              "      <td>9.165151</td>\n",
              "      <td>0.000000</td>\n",
              "      <td>0.000000</td>\n",
              "      <td>0.00</td>\n",
              "      <td>141.55</td>\n",
              "      <td>DDoS-ICMP_Flood</td>\n",
              "    </tr>\n",
              "    <tr>\n",
              "      <th>...</th>\n",
              "      <td>...</td>\n",
              "      <td>...</td>\n",
              "      <td>...</td>\n",
              "      <td>...</td>\n",
              "      <td>...</td>\n",
              "      <td>...</td>\n",
              "      <td>...</td>\n",
              "      <td>...</td>\n",
              "      <td>...</td>\n",
              "      <td>...</td>\n",
              "      <td>...</td>\n",
              "      <td>...</td>\n",
              "      <td>...</td>\n",
              "      <td>...</td>\n",
              "      <td>...</td>\n",
              "      <td>...</td>\n",
              "      <td>...</td>\n",
              "      <td>...</td>\n",
              "      <td>...</td>\n",
              "      <td>...</td>\n",
              "      <td>...</td>\n",
              "    </tr>\n",
              "    <tr>\n",
              "      <th>995</th>\n",
              "      <td>0.000000</td>\n",
              "      <td>0.00</td>\n",
              "      <td>1.00</td>\n",
              "      <td>64.0</td>\n",
              "      <td>26.208257</td>\n",
              "      <td>26.208257</td>\n",
              "      <td>0.0</td>\n",
              "      <td>0.0</td>\n",
              "      <td>0.0</td>\n",
              "      <td>0.0</td>\n",
              "      <td>...</td>\n",
              "      <td>0.000000</td>\n",
              "      <td>42.00</td>\n",
              "      <td>8.312803e+07</td>\n",
              "      <td>9.5</td>\n",
              "      <td>9.165151</td>\n",
              "      <td>0.000000</td>\n",
              "      <td>0.000000</td>\n",
              "      <td>0.00</td>\n",
              "      <td>141.55</td>\n",
              "      <td>DDoS-ICMP_Flood</td>\n",
              "    </tr>\n",
              "    <tr>\n",
              "      <th>996</th>\n",
              "      <td>0.017172</td>\n",
              "      <td>6.22</td>\n",
              "      <td>1.32</td>\n",
              "      <td>64.0</td>\n",
              "      <td>9.421548</td>\n",
              "      <td>9.421548</td>\n",
              "      <td>0.0</td>\n",
              "      <td>0.0</td>\n",
              "      <td>0.0</td>\n",
              "      <td>0.0</td>\n",
              "      <td>...</td>\n",
              "      <td>0.875287</td>\n",
              "      <td>42.96</td>\n",
              "      <td>8.312876e+07</td>\n",
              "      <td>9.5</td>\n",
              "      <td>9.197232</td>\n",
              "      <td>1.242521</td>\n",
              "      <td>12.960796</td>\n",
              "      <td>0.06</td>\n",
              "      <td>141.55</td>\n",
              "      <td>DDoS-ICMP_Flood</td>\n",
              "    </tr>\n",
              "    <tr>\n",
              "      <th>997</th>\n",
              "      <td>0.000000</td>\n",
              "      <td>0.00</td>\n",
              "      <td>1.00</td>\n",
              "      <td>64.0</td>\n",
              "      <td>7.447749</td>\n",
              "      <td>7.447749</td>\n",
              "      <td>0.0</td>\n",
              "      <td>0.0</td>\n",
              "      <td>0.0</td>\n",
              "      <td>0.0</td>\n",
              "      <td>...</td>\n",
              "      <td>0.000000</td>\n",
              "      <td>42.00</td>\n",
              "      <td>8.312798e+07</td>\n",
              "      <td>9.5</td>\n",
              "      <td>9.165151</td>\n",
              "      <td>0.000000</td>\n",
              "      <td>0.000000</td>\n",
              "      <td>0.00</td>\n",
              "      <td>141.55</td>\n",
              "      <td>DDoS-ICMP_Flood</td>\n",
              "    </tr>\n",
              "    <tr>\n",
              "      <th>998</th>\n",
              "      <td>0.000000</td>\n",
              "      <td>0.00</td>\n",
              "      <td>1.00</td>\n",
              "      <td>64.0</td>\n",
              "      <td>1.008073</td>\n",
              "      <td>1.008073</td>\n",
              "      <td>0.0</td>\n",
              "      <td>0.0</td>\n",
              "      <td>0.0</td>\n",
              "      <td>0.0</td>\n",
              "      <td>...</td>\n",
              "      <td>0.000000</td>\n",
              "      <td>42.00</td>\n",
              "      <td>8.313229e+07</td>\n",
              "      <td>9.5</td>\n",
              "      <td>9.165151</td>\n",
              "      <td>0.000000</td>\n",
              "      <td>0.000000</td>\n",
              "      <td>0.00</td>\n",
              "      <td>141.55</td>\n",
              "      <td>DDoS-ICMP_Flood</td>\n",
              "    </tr>\n",
              "    <tr>\n",
              "      <th>999</th>\n",
              "      <td>0.000000</td>\n",
              "      <td>0.00</td>\n",
              "      <td>1.00</td>\n",
              "      <td>64.0</td>\n",
              "      <td>14.366785</td>\n",
              "      <td>14.366785</td>\n",
              "      <td>0.0</td>\n",
              "      <td>0.0</td>\n",
              "      <td>0.0</td>\n",
              "      <td>0.0</td>\n",
              "      <td>...</td>\n",
              "      <td>3.335913</td>\n",
              "      <td>42.56</td>\n",
              "      <td>8.314944e+07</td>\n",
              "      <td>9.5</td>\n",
              "      <td>9.313953</td>\n",
              "      <td>4.721932</td>\n",
              "      <td>62.843493</td>\n",
              "      <td>0.19</td>\n",
              "      <td>141.55</td>\n",
              "      <td>DDoS-ICMP_Flood</td>\n",
              "    </tr>\n",
              "  </tbody>\n",
              "</table>\n",
              "<p>1000 rows × 47 columns</p>\n",
              "</div>\n",
              "    <div class=\"colab-df-buttons\">\n",
              "\n",
              "  <div class=\"colab-df-container\">\n",
              "    <button class=\"colab-df-convert\" onclick=\"convertToInteractive('df-88d471f9-bc75-41a0-9a60-0af07135f644')\"\n",
              "            title=\"Convert this dataframe to an interactive table.\"\n",
              "            style=\"display:none;\">\n",
              "\n",
              "  <svg xmlns=\"http://www.w3.org/2000/svg\" height=\"24px\" viewBox=\"0 -960 960 960\">\n",
              "    <path d=\"M120-120v-720h720v720H120Zm60-500h600v-160H180v160Zm220 220h160v-160H400v160Zm0 220h160v-160H400v160ZM180-400h160v-160H180v160Zm440 0h160v-160H620v160ZM180-180h160v-160H180v160Zm440 0h160v-160H620v160Z\"/>\n",
              "  </svg>\n",
              "    </button>\n",
              "\n",
              "  <style>\n",
              "    .colab-df-container {\n",
              "      display:flex;\n",
              "      gap: 12px;\n",
              "    }\n",
              "\n",
              "    .colab-df-convert {\n",
              "      background-color: #E8F0FE;\n",
              "      border: none;\n",
              "      border-radius: 50%;\n",
              "      cursor: pointer;\n",
              "      display: none;\n",
              "      fill: #1967D2;\n",
              "      height: 32px;\n",
              "      padding: 0 0 0 0;\n",
              "      width: 32px;\n",
              "    }\n",
              "\n",
              "    .colab-df-convert:hover {\n",
              "      background-color: #E2EBFA;\n",
              "      box-shadow: 0px 1px 2px rgba(60, 64, 67, 0.3), 0px 1px 3px 1px rgba(60, 64, 67, 0.15);\n",
              "      fill: #174EA6;\n",
              "    }\n",
              "\n",
              "    .colab-df-buttons div {\n",
              "      margin-bottom: 4px;\n",
              "    }\n",
              "\n",
              "    [theme=dark] .colab-df-convert {\n",
              "      background-color: #3B4455;\n",
              "      fill: #D2E3FC;\n",
              "    }\n",
              "\n",
              "    [theme=dark] .colab-df-convert:hover {\n",
              "      background-color: #434B5C;\n",
              "      box-shadow: 0px 1px 3px 1px rgba(0, 0, 0, 0.15);\n",
              "      filter: drop-shadow(0px 1px 2px rgba(0, 0, 0, 0.3));\n",
              "      fill: #FFFFFF;\n",
              "    }\n",
              "  </style>\n",
              "\n",
              "    <script>\n",
              "      const buttonEl =\n",
              "        document.querySelector('#df-88d471f9-bc75-41a0-9a60-0af07135f644 button.colab-df-convert');\n",
              "      buttonEl.style.display =\n",
              "        google.colab.kernel.accessAllowed ? 'block' : 'none';\n",
              "\n",
              "      async function convertToInteractive(key) {\n",
              "        const element = document.querySelector('#df-88d471f9-bc75-41a0-9a60-0af07135f644');\n",
              "        const dataTable =\n",
              "          await google.colab.kernel.invokeFunction('convertToInteractive',\n",
              "                                                    [key], {});\n",
              "        if (!dataTable) return;\n",
              "\n",
              "        const docLinkHtml = 'Like what you see? Visit the ' +\n",
              "          '<a target=\"_blank\" href=https://colab.research.google.com/notebooks/data_table.ipynb>data table notebook</a>'\n",
              "          + ' to learn more about interactive tables.';\n",
              "        element.innerHTML = '';\n",
              "        dataTable['output_type'] = 'display_data';\n",
              "        await google.colab.output.renderOutput(dataTable, element);\n",
              "        const docLink = document.createElement('div');\n",
              "        docLink.innerHTML = docLinkHtml;\n",
              "        element.appendChild(docLink);\n",
              "      }\n",
              "    </script>\n",
              "  </div>\n",
              "\n",
              "\n",
              "<div id=\"df-85a188e0-a4cd-44ec-94b1-04501b74b76a\">\n",
              "  <button class=\"colab-df-quickchart\" onclick=\"quickchart('df-85a188e0-a4cd-44ec-94b1-04501b74b76a')\"\n",
              "            title=\"Suggest charts\"\n",
              "            style=\"display:none;\">\n",
              "\n",
              "<svg xmlns=\"http://www.w3.org/2000/svg\" height=\"24px\"viewBox=\"0 0 24 24\"\n",
              "     width=\"24px\">\n",
              "    <g>\n",
              "        <path d=\"M19 3H5c-1.1 0-2 .9-2 2v14c0 1.1.9 2 2 2h14c1.1 0 2-.9 2-2V5c0-1.1-.9-2-2-2zM9 17H7v-7h2v7zm4 0h-2V7h2v10zm4 0h-2v-4h2v4z\"/>\n",
              "    </g>\n",
              "</svg>\n",
              "  </button>\n",
              "\n",
              "<style>\n",
              "  .colab-df-quickchart {\n",
              "      --bg-color: #E8F0FE;\n",
              "      --fill-color: #1967D2;\n",
              "      --hover-bg-color: #E2EBFA;\n",
              "      --hover-fill-color: #174EA6;\n",
              "      --disabled-fill-color: #AAA;\n",
              "      --disabled-bg-color: #DDD;\n",
              "  }\n",
              "\n",
              "  [theme=dark] .colab-df-quickchart {\n",
              "      --bg-color: #3B4455;\n",
              "      --fill-color: #D2E3FC;\n",
              "      --hover-bg-color: #434B5C;\n",
              "      --hover-fill-color: #FFFFFF;\n",
              "      --disabled-bg-color: #3B4455;\n",
              "      --disabled-fill-color: #666;\n",
              "  }\n",
              "\n",
              "  .colab-df-quickchart {\n",
              "    background-color: var(--bg-color);\n",
              "    border: none;\n",
              "    border-radius: 50%;\n",
              "    cursor: pointer;\n",
              "    display: none;\n",
              "    fill: var(--fill-color);\n",
              "    height: 32px;\n",
              "    padding: 0;\n",
              "    width: 32px;\n",
              "  }\n",
              "\n",
              "  .colab-df-quickchart:hover {\n",
              "    background-color: var(--hover-bg-color);\n",
              "    box-shadow: 0 1px 2px rgba(60, 64, 67, 0.3), 0 1px 3px 1px rgba(60, 64, 67, 0.15);\n",
              "    fill: var(--button-hover-fill-color);\n",
              "  }\n",
              "\n",
              "  .colab-df-quickchart-complete:disabled,\n",
              "  .colab-df-quickchart-complete:disabled:hover {\n",
              "    background-color: var(--disabled-bg-color);\n",
              "    fill: var(--disabled-fill-color);\n",
              "    box-shadow: none;\n",
              "  }\n",
              "\n",
              "  .colab-df-spinner {\n",
              "    border: 2px solid var(--fill-color);\n",
              "    border-color: transparent;\n",
              "    border-bottom-color: var(--fill-color);\n",
              "    animation:\n",
              "      spin 1s steps(1) infinite;\n",
              "  }\n",
              "\n",
              "  @keyframes spin {\n",
              "    0% {\n",
              "      border-color: transparent;\n",
              "      border-bottom-color: var(--fill-color);\n",
              "      border-left-color: var(--fill-color);\n",
              "    }\n",
              "    20% {\n",
              "      border-color: transparent;\n",
              "      border-left-color: var(--fill-color);\n",
              "      border-top-color: var(--fill-color);\n",
              "    }\n",
              "    30% {\n",
              "      border-color: transparent;\n",
              "      border-left-color: var(--fill-color);\n",
              "      border-top-color: var(--fill-color);\n",
              "      border-right-color: var(--fill-color);\n",
              "    }\n",
              "    40% {\n",
              "      border-color: transparent;\n",
              "      border-right-color: var(--fill-color);\n",
              "      border-top-color: var(--fill-color);\n",
              "    }\n",
              "    60% {\n",
              "      border-color: transparent;\n",
              "      border-right-color: var(--fill-color);\n",
              "    }\n",
              "    80% {\n",
              "      border-color: transparent;\n",
              "      border-right-color: var(--fill-color);\n",
              "      border-bottom-color: var(--fill-color);\n",
              "    }\n",
              "    90% {\n",
              "      border-color: transparent;\n",
              "      border-bottom-color: var(--fill-color);\n",
              "    }\n",
              "  }\n",
              "</style>\n",
              "\n",
              "  <script>\n",
              "    async function quickchart(key) {\n",
              "      const quickchartButtonEl =\n",
              "        document.querySelector('#' + key + ' button');\n",
              "      quickchartButtonEl.disabled = true;  // To prevent multiple clicks.\n",
              "      quickchartButtonEl.classList.add('colab-df-spinner');\n",
              "      try {\n",
              "        const charts = await google.colab.kernel.invokeFunction(\n",
              "            'suggestCharts', [key], {});\n",
              "      } catch (error) {\n",
              "        console.error('Error during call to suggestCharts:', error);\n",
              "      }\n",
              "      quickchartButtonEl.classList.remove('colab-df-spinner');\n",
              "      quickchartButtonEl.classList.add('colab-df-quickchart-complete');\n",
              "    }\n",
              "    (() => {\n",
              "      let quickchartButtonEl =\n",
              "        document.querySelector('#df-85a188e0-a4cd-44ec-94b1-04501b74b76a button');\n",
              "      quickchartButtonEl.style.display =\n",
              "        google.colab.kernel.accessAllowed ? 'block' : 'none';\n",
              "    })();\n",
              "  </script>\n",
              "</div>\n",
              "\n",
              "    </div>\n",
              "  </div>\n"
            ],
            "application/vnd.google.colaboratory.intrinsic+json": {
              "type": "dataframe",
              "variable_name": "df_balanced"
            }
          },
          "metadata": {},
          "execution_count": 124
        }
      ]
    },
    {
      "cell_type": "code",
      "execution_count": null,
      "metadata": {
        "colab": {
          "base_uri": "https://localhost:8080/",
          "height": 178
        },
        "id": "SuMzcmtDykci",
        "outputId": "6877cda4-fd04-4342-eafa-729c04f23368"
      },
      "outputs": [
        {
          "output_type": "execute_result",
          "data": {
            "text/plain": [
              "label\n",
              "0    5750\n",
              "1    5600\n",
              "Name: count, dtype: int64"
            ],
            "text/html": [
              "<div>\n",
              "<style scoped>\n",
              "    .dataframe tbody tr th:only-of-type {\n",
              "        vertical-align: middle;\n",
              "    }\n",
              "\n",
              "    .dataframe tbody tr th {\n",
              "        vertical-align: top;\n",
              "    }\n",
              "\n",
              "    .dataframe thead th {\n",
              "        text-align: right;\n",
              "    }\n",
              "</style>\n",
              "<table border=\"1\" class=\"dataframe\">\n",
              "  <thead>\n",
              "    <tr style=\"text-align: right;\">\n",
              "      <th></th>\n",
              "      <th>count</th>\n",
              "    </tr>\n",
              "    <tr>\n",
              "      <th>label</th>\n",
              "      <th></th>\n",
              "    </tr>\n",
              "  </thead>\n",
              "  <tbody>\n",
              "    <tr>\n",
              "      <th>0</th>\n",
              "      <td>5750</td>\n",
              "    </tr>\n",
              "    <tr>\n",
              "      <th>1</th>\n",
              "      <td>5600</td>\n",
              "    </tr>\n",
              "  </tbody>\n",
              "</table>\n",
              "</div><br><label><b>dtype:</b> int64</label>"
            ]
          },
          "metadata": {},
          "execution_count": 125
        }
      ],
      "source": [
        "df_balanced['label'] = df_balanced['label'].apply(lambda x: 0 if x in ['DDoS-ICMP_Flood','DDoS-UDP_Flood','DDoS-TCP_Flood','DDoS-PSHACK_Flood','DDoS-SYN_Flood','DDoS-RSTFINFlood','DDoS-SynonymousIP_Flood','DDoS-ICMP_Fragmentation','DDoS-UDP_Fragmentation','DDoS-ACK_Fragmentation','DDoS-UDP_Fragmentation','DDoS-HTTP_Flood','DDoS-SlowLoris'] else 1)\n",
        "df_balanced['label'].value_counts()"
      ]
    },
    {
      "cell_type": "code",
      "execution_count": null,
      "metadata": {
        "colab": {
          "base_uri": "https://localhost:8080/"
        },
        "collapsed": true,
        "id": "eOW57IdmYDGy",
        "outputId": "af9ebea9-adce-464e-8632-80dfed6fe154"
      },
      "outputs": [
        {
          "output_type": "execute_result",
          "data": {
            "text/plain": [
              "(11350, 47)"
            ]
          },
          "metadata": {},
          "execution_count": 126
        }
      ],
      "source": [
        "df_balanced.shape"
      ]
    },
    {
      "cell_type": "code",
      "execution_count": null,
      "metadata": {
        "colab": {
          "base_uri": "https://localhost:8080/",
          "height": 632
        },
        "id": "jG9tNuoGzMaQ",
        "outputId": "b21699c4-1849-4433-9335-4c5b497dd647"
      },
      "outputs": [
        {
          "output_type": "stream",
          "name": "stderr",
          "text": [
            "<ipython-input-127-e954d0aacaef>:2: FutureWarning: \n",
            "\n",
            "Passing `palette` without assigning `hue` is deprecated and will be removed in v0.14.0. Assign the `x` variable to `hue` and set `legend=False` for the same effect.\n",
            "\n",
            "  sns.countplot(x='label', data=df_balanced, palette=pal)\n",
            "<ipython-input-127-e954d0aacaef>:3: FutureWarning: \n",
            "\n",
            "Passing `palette` without assigning `hue` is deprecated and will be removed in v0.14.0. Assign the `x` variable to `hue` and set `legend=False` for the same effect.\n",
            "\n",
            "  ax = sns.countplot(x='label', data=df_balanced, palette=pal)\n"
          ]
        },
        {
          "output_type": "display_data",
          "data": {
            "text/plain": [
              "<Figure size 640x480 with 1 Axes>"
            ],
            "image/png": "[encoded data removed]"
          },
          "metadata": {}
        }
      ],
      "source": [
        "pal = sns.color_palette(\"hsv\", 2)\n",
        "sns.countplot(x='label', data=df_balanced, palette=pal)\n",
        "ax = sns.countplot(x='label', data=df_balanced, palette=pal)\n",
        "\n",
        "# Annotate each bar with its value\n",
        "for p in ax.patches:\n",
        "    height = p.get_height()\n",
        "    ax.text(p.get_x() + p.get_width() / 2, height + 0.001 * height,\n",
        "            f'{int(height)}', ha='center', va='bottom', fontsize=10, color='black')\n",
        "\n",
        "plt.show()"
      ]
    },
    {
      "cell_type": "code",
      "execution_count": null,
      "metadata": {
        "colab": {
          "base_uri": "https://localhost:8080/",
          "height": 178
        },
        "collapsed": true,
        "id": "HJO37cFjzbKd",
        "outputId": "21aa7c13-5137-4042-ccac-39c1bdf2ea25"
      },
      "outputs": [
        {
          "output_type": "execute_result",
          "data": {
            "text/plain": [
              "label\n",
              "0    0.506608\n",
              "1    0.493392\n",
              "Name: proportion, dtype: float64"
            ],
            "text/html": [
              "<div>\n",
              "<style scoped>\n",
              "    .dataframe tbody tr th:only-of-type {\n",
              "        vertical-align: middle;\n",
              "    }\n",
              "\n",
              "    .dataframe tbody tr th {\n",
              "        vertical-align: top;\n",
              "    }\n",
              "\n",
              "    .dataframe thead th {\n",
              "        text-align: right;\n",
              "    }\n",
              "</style>\n",
              "<table border=\"1\" class=\"dataframe\">\n",
              "  <thead>\n",
              "    <tr style=\"text-align: right;\">\n",
              "      <th></th>\n",
              "      <th>proportion</th>\n",
              "    </tr>\n",
              "    <tr>\n",
              "      <th>label</th>\n",
              "      <th></th>\n",
              "    </tr>\n",
              "  </thead>\n",
              "  <tbody>\n",
              "    <tr>\n",
              "      <th>0</th>\n",
              "      <td>0.506608</td>\n",
              "    </tr>\n",
              "    <tr>\n",
              "      <th>1</th>\n",
              "      <td>0.493392</td>\n",
              "    </tr>\n",
              "  </tbody>\n",
              "</table>\n",
              "</div><br><label><b>dtype:</b> float64</label>"
            ]
          },
          "metadata": {},
          "execution_count": 128
        }
      ],
      "source": [
        "# Getting the proportion of the two classes\n",
        "df_balanced[\"label\"].value_counts(normalize=True)"
      ]
    },
    {
      "cell_type": "code",
      "execution_count": null,
      "metadata": {
        "colab": {
          "base_uri": "https://localhost:8080/",
          "height": 273
        },
        "collapsed": true,
        "id": "YDN3FdVuze3s",
        "outputId": "20ee137d-8fd8-4abd-9636-590fd10db1c6"
      },
      "outputs": [
        {
          "output_type": "execute_result",
          "data": {
            "text/plain": [
              "   flow_duration  Header_Length  Protocol Type  Duration       Rate  \\\n",
              "0            0.0            0.0            1.0      64.0  22.205758   \n",
              "1            0.0            0.0            1.0      64.0  21.750909   \n",
              "2            0.0            0.0            1.0      64.0   0.000000   \n",
              "3            0.0            0.0            1.0      64.0  12.644338   \n",
              "4            0.0            0.0            1.0      64.0  24.595600   \n",
              "\n",
              "       Srate  Drate  fin_flag_number  syn_flag_number  rst_flag_number  ...  \\\n",
              "0  22.205758    0.0              0.0              0.0              0.0  ...   \n",
              "1  21.750909    0.0              0.0              0.0              0.0  ...   \n",
              "2   0.000000    0.0              0.0              0.0              0.0  ...   \n",
              "3  12.644338    0.0              0.0              0.0              0.0  ...   \n",
              "4  24.595600    0.0              0.0              0.0              0.0  ...   \n",
              "\n",
              "   Std  Tot size           IAT  Number  Magnitue  Radius  Covariance  \\\n",
              "0  0.0      42.0  8.348327e+07     9.5  9.165151     0.0         0.0   \n",
              "1  0.0      42.0  8.314940e+07     9.5  9.165151     0.0         0.0   \n",
              "2  0.0      42.0  8.315070e+07     9.5  9.165151     0.0         0.0   \n",
              "3  0.0      42.0  8.312816e+07     9.5  9.165151     0.0         0.0   \n",
              "4  0.0      42.0  8.315372e+07     9.5  9.165151     0.0         0.0   \n",
              "\n",
              "   Variance  Weight  label  \n",
              "0       0.0  141.55      0  \n",
              "1       0.0  141.55      0  \n",
              "2       0.0  141.55      0  \n",
              "3       0.0  141.55      0  \n",
              "4       0.0  141.55      0  \n",
              "\n",
              "[5 rows x 47 columns]"
            ],
            "text/html": [
              "\n",
              "  <div id=\"df-2f933271-4029-41fa-aa8f-1125e6a77307\" class=\"colab-df-container\">\n",
              "    <div>\n",
              "<style scoped>\n",
              "    .dataframe tbody tr th:only-of-type {\n",
              "        vertical-align: middle;\n",
              "    }\n",
              "\n",
              "    .dataframe tbody tr th {\n",
              "        vertical-align: top;\n",
              "    }\n",
              "\n",
              "    .dataframe thead th {\n",
              "        text-align: right;\n",
              "    }\n",
              "</style>\n",
              "<table border=\"1\" class=\"dataframe\">\n",
              "  <thead>\n",
              "    <tr style=\"text-align: right;\">\n",
              "      <th></th>\n",
              "      <th>flow_duration</th>\n",
              "      <th>Header_Length</th>\n",
              "      <th>Protocol Type</th>\n",
              "      <th>Duration</th>\n",
              "      <th>Rate</th>\n",
              "      <th>Srate</th>\n",
              "      <th>Drate</th>\n",
              "      <th>fin_flag_number</th>\n",
              "      <th>syn_flag_number</th>\n",
              "      <th>rst_flag_number</th>\n",
              "      <th>...</th>\n",
              "      <th>Std</th>\n",
              "      <th>Tot size</th>\n",
              "      <th>IAT</th>\n",
              "      <th>Number</th>\n",
              "      <th>Magnitue</th>\n",
              "      <th>Radius</th>\n",
              "      <th>Covariance</th>\n",
              "      <th>Variance</th>\n",
              "      <th>Weight</th>\n",
              "      <th>label</th>\n",
              "    </tr>\n",
              "  </thead>\n",
              "  <tbody>\n",
              "    <tr>\n",
              "      <th>0</th>\n",
              "      <td>0.0</td>\n",
              "      <td>0.0</td>\n",
              "      <td>1.0</td>\n",
              "      <td>64.0</td>\n",
              "      <td>22.205758</td>\n",
              "      <td>22.205758</td>\n",
              "      <td>0.0</td>\n",
              "      <td>0.0</td>\n",
              "      <td>0.0</td>\n",
              "      <td>0.0</td>\n",
              "      <td>...</td>\n",
              "      <td>0.0</td>\n",
              "      <td>42.0</td>\n",
              "      <td>8.348327e+07</td>\n",
              "      <td>9.5</td>\n",
              "      <td>9.165151</td>\n",
              "      <td>0.0</td>\n",
              "      <td>0.0</td>\n",
              "      <td>0.0</td>\n",
              "      <td>141.55</td>\n",
              "      <td>0</td>\n",
              "    </tr>\n",
              "    <tr>\n",
              "      <th>1</th>\n",
              "      <td>0.0</td>\n",
              "      <td>0.0</td>\n",
              "      <td>1.0</td>\n",
              "      <td>64.0</td>\n",
              "      <td>21.750909</td>\n",
              "      <td>21.750909</td>\n",
              "      <td>0.0</td>\n",
              "      <td>0.0</td>\n",
              "      <td>0.0</td>\n",
              "      <td>0.0</td>\n",
              "      <td>...</td>\n",
              "      <td>0.0</td>\n",
              "      <td>42.0</td>\n",
              "      <td>8.314940e+07</td>\n",
              "      <td>9.5</td>\n",
              "      <td>9.165151</td>\n",
              "      <td>0.0</td>\n",
              "      <td>0.0</td>\n",
              "      <td>0.0</td>\n",
              "      <td>141.55</td>\n",
              "      <td>0</td>\n",
              "    </tr>\n",
              "    <tr>\n",
              "      <th>2</th>\n",
              "      <td>0.0</td>\n",
              "      <td>0.0</td>\n",
              "      <td>1.0</td>\n",
              "      <td>64.0</td>\n",
              "      <td>0.000000</td>\n",
              "      <td>0.000000</td>\n",
              "      <td>0.0</td>\n",
              "      <td>0.0</td>\n",
              "      <td>0.0</td>\n",
              "      <td>0.0</td>\n",
              "      <td>...</td>\n",
              "      <td>0.0</td>\n",
              "      <td>42.0</td>\n",
              "      <td>8.315070e+07</td>\n",
              "      <td>9.5</td>\n",
              "      <td>9.165151</td>\n",
              "      <td>0.0</td>\n",
              "      <td>0.0</td>\n",
              "      <td>0.0</td>\n",
              "      <td>141.55</td>\n",
              "      <td>0</td>\n",
              "    </tr>\n",
              "    <tr>\n",
              "      <th>3</th>\n",
              "      <td>0.0</td>\n",
              "      <td>0.0</td>\n",
              "      <td>1.0</td>\n",
              "      <td>64.0</td>\n",
              "      <td>12.644338</td>\n",
              "      <td>12.644338</td>\n",
              "      <td>0.0</td>\n",
              "      <td>0.0</td>\n",
              "      <td>0.0</td>\n",
              "      <td>0.0</td>\n",
              "      <td>...</td>\n",
              "      <td>0.0</td>\n",
              "      <td>42.0</td>\n",
              "      <td>8.312816e+07</td>\n",
              "      <td>9.5</td>\n",
              "      <td>9.165151</td>\n",
              "      <td>0.0</td>\n",
              "      <td>0.0</td>\n",
              "      <td>0.0</td>\n",
              "      <td>141.55</td>\n",
              "      <td>0</td>\n",
              "    </tr>\n",
              "    <tr>\n",
              "      <th>4</th>\n",
              "      <td>0.0</td>\n",
              "      <td>0.0</td>\n",
              "      <td>1.0</td>\n",
              "      <td>64.0</td>\n",
              "      <td>24.595600</td>\n",
              "      <td>24.595600</td>\n",
              "      <td>0.0</td>\n",
              "      <td>0.0</td>\n",
              "      <td>0.0</td>\n",
              "      <td>0.0</td>\n",
              "      <td>...</td>\n",
              "      <td>0.0</td>\n",
              "      <td>42.0</td>\n",
              "      <td>8.315372e+07</td>\n",
              "      <td>9.5</td>\n",
              "      <td>9.165151</td>\n",
              "      <td>0.0</td>\n",
              "      <td>0.0</td>\n",
              "      <td>0.0</td>\n",
              "      <td>141.55</td>\n",
              "      <td>0</td>\n",
              "    </tr>\n",
              "  </tbody>\n",
              "</table>\n",
              "<p>5 rows × 47 columns</p>\n",
              "</div>\n",
              "    <div class=\"colab-df-buttons\">\n",
              "\n",
              "  <div class=\"colab-df-container\">\n",
              "    <button class=\"colab-df-convert\" onclick=\"convertToInteractive('df-2f933271-4029-41fa-aa8f-1125e6a77307')\"\n",
              "            title=\"Convert this dataframe to an interactive table.\"\n",
              "            style=\"display:none;\">\n",
              "\n",
              "  <svg xmlns=\"http://www.w3.org/2000/svg\" height=\"24px\" viewBox=\"0 -960 960 960\">\n",
              "    <path d=\"M120-120v-720h720v720H120Zm60-500h600v-160H180v160Zm220 220h160v-160H400v160Zm0 220h160v-160H400v160ZM180-400h160v-160H180v160Zm440 0h160v-160H620v160ZM180-180h160v-160H180v160Zm440 0h160v-160H620v160Z\"/>\n",
              "  </svg>\n",
              "    </button>\n",
              "\n",
              "  <style>\n",
              "    .colab-df-container {\n",
              "      display:flex;\n",
              "      gap: 12px;\n",
              "    }\n",
              "\n",
              "    .colab-df-convert {\n",
              "      background-color: #E8F0FE;\n",
              "      border: none;\n",
              "      border-radius: 50%;\n",
              "      cursor: pointer;\n",
              "      display: none;\n",
              "      fill: #1967D2;\n",
              "      height: 32px;\n",
              "      padding: 0 0 0 0;\n",
              "      width: 32px;\n",
              "    }\n",
              "\n",
              "    .colab-df-convert:hover {\n",
              "      background-color: #E2EBFA;\n",
              "      box-shadow: 0px 1px 2px rgba(60, 64, 67, 0.3), 0px 1px 3px 1px rgba(60, 64, 67, 0.15);\n",
              "      fill: #174EA6;\n",
              "    }\n",
              "\n",
              "    .colab-df-buttons div {\n",
              "      margin-bottom: 4px;\n",
              "    }\n",
              "\n",
              "    [theme=dark] .colab-df-convert {\n",
              "      background-color: #3B4455;\n",
              "      fill: #D2E3FC;\n",
              "    }\n",
              "\n",
              "    [theme=dark] .colab-df-convert:hover {\n",
              "      background-color: #434B5C;\n",
              "      box-shadow: 0px 1px 3px 1px rgba(0, 0, 0, 0.15);\n",
              "      filter: drop-shadow(0px 1px 2px rgba(0, 0, 0, 0.3));\n",
              "      fill: #FFFFFF;\n",
              "    }\n",
              "  </style>\n",
              "\n",
              "    <script>\n",
              "      const buttonEl =\n",
              "        document.querySelector('#df-2f933271-4029-41fa-aa8f-1125e6a77307 button.colab-df-convert');\n",
              "      buttonEl.style.display =\n",
              "        google.colab.kernel.accessAllowed ? 'block' : 'none';\n",
              "\n",
              "      async function convertToInteractive(key) {\n",
              "        const element = document.querySelector('#df-2f933271-4029-41fa-aa8f-1125e6a77307');\n",
              "        const dataTable =\n",
              "          await google.colab.kernel.invokeFunction('convertToInteractive',\n",
              "                                                    [key], {});\n",
              "        if (!dataTable) return;\n",
              "\n",
              "        const docLinkHtml = 'Like what you see? Visit the ' +\n",
              "          '<a target=\"_blank\" href=https://colab.research.google.com/notebooks/data_table.ipynb>data table notebook</a>'\n",
              "          + ' to learn more about interactive tables.';\n",
              "        element.innerHTML = '';\n",
              "        dataTable['output_type'] = 'display_data';\n",
              "        await google.colab.output.renderOutput(dataTable, element);\n",
              "        const docLink = document.createElement('div');\n",
              "        docLink.innerHTML = docLinkHtml;\n",
              "        element.appendChild(docLink);\n",
              "      }\n",
              "    </script>\n",
              "  </div>\n",
              "\n",
              "\n",
              "<div id=\"df-dc556603-6322-41d0-87b9-e17c02f3edf8\">\n",
              "  <button class=\"colab-df-quickchart\" onclick=\"quickchart('df-dc556603-6322-41d0-87b9-e17c02f3edf8')\"\n",
              "            title=\"Suggest charts\"\n",
              "            style=\"display:none;\">\n",
              "\n",
              "<svg xmlns=\"http://www.w3.org/2000/svg\" height=\"24px\"viewBox=\"0 0 24 24\"\n",
              "     width=\"24px\">\n",
              "    <g>\n",
              "        <path d=\"M19 3H5c-1.1 0-2 .9-2 2v14c0 1.1.9 2 2 2h14c1.1 0 2-.9 2-2V5c0-1.1-.9-2-2-2zM9 17H7v-7h2v7zm4 0h-2V7h2v10zm4 0h-2v-4h2v4z\"/>\n",
              "    </g>\n",
              "</svg>\n",
              "  </button>\n",
              "\n",
              "<style>\n",
              "  .colab-df-quickchart {\n",
              "      --bg-color: #E8F0FE;\n",
              "      --fill-color: #1967D2;\n",
              "      --hover-bg-color: #E2EBFA;\n",
              "      --hover-fill-color: #174EA6;\n",
              "      --disabled-fill-color: #AAA;\n",
              "      --disabled-bg-color: #DDD;\n",
              "  }\n",
              "\n",
              "  [theme=dark] .colab-df-quickchart {\n",
              "      --bg-color: #3B4455;\n",
              "      --fill-color: #D2E3FC;\n",
              "      --hover-bg-color: #434B5C;\n",
              "      --hover-fill-color: #FFFFFF;\n",
              "      --disabled-bg-color: #3B4455;\n",
              "      --disabled-fill-color: #666;\n",
              "  }\n",
              "\n",
              "  .colab-df-quickchart {\n",
              "    background-color: var(--bg-color);\n",
              "    border: none;\n",
              "    border-radius: 50%;\n",
              "    cursor: pointer;\n",
              "    display: none;\n",
              "    fill: var(--fill-color);\n",
              "    height: 32px;\n",
              "    padding: 0;\n",
              "    width: 32px;\n",
              "  }\n",
              "\n",
              "  .colab-df-quickchart:hover {\n",
              "    background-color: var(--hover-bg-color);\n",
              "    box-shadow: 0 1px 2px rgba(60, 64, 67, 0.3), 0 1px 3px 1px rgba(60, 64, 67, 0.15);\n",
              "    fill: var(--button-hover-fill-color);\n",
              "  }\n",
              "\n",
              "  .colab-df-quickchart-complete:disabled,\n",
              "  .colab-df-quickchart-complete:disabled:hover {\n",
              "    background-color: var(--disabled-bg-color);\n",
              "    fill: var(--disabled-fill-color);\n",
              "    box-shadow: none;\n",
              "  }\n",
              "\n",
              "  .colab-df-spinner {\n",
              "    border: 2px solid var(--fill-color);\n",
              "    border-color: transparent;\n",
              "    border-bottom-color: var(--fill-color);\n",
              "    animation:\n",
              "      spin 1s steps(1) infinite;\n",
              "  }\n",
              "\n",
              "  @keyframes spin {\n",
              "    0% {\n",
              "      border-color: transparent;\n",
              "      border-bottom-color: var(--fill-color);\n",
              "      border-left-color: var(--fill-color);\n",
              "    }\n",
              "    20% {\n",
              "      border-color: transparent;\n",
              "      border-left-color: var(--fill-color);\n",
              "      border-top-color: var(--fill-color);\n",
              "    }\n",
              "    30% {\n",
              "      border-color: transparent;\n",
              "      border-left-color: var(--fill-color);\n",
              "      border-top-color: var(--fill-color);\n",
              "      border-right-color: var(--fill-color);\n",
              "    }\n",
              "    40% {\n",
              "      border-color: transparent;\n",
              "      border-right-color: var(--fill-color);\n",
              "      border-top-color: var(--fill-color);\n",
              "    }\n",
              "    60% {\n",
              "      border-color: transparent;\n",
              "      border-right-color: var(--fill-color);\n",
              "    }\n",
              "    80% {\n",
              "      border-color: transparent;\n",
              "      border-right-color: var(--fill-color);\n",
              "      border-bottom-color: var(--fill-color);\n",
              "    }\n",
              "    90% {\n",
              "      border-color: transparent;\n",
              "      border-bottom-color: var(--fill-color);\n",
              "    }\n",
              "  }\n",
              "</style>\n",
              "\n",
              "  <script>\n",
              "    async function quickchart(key) {\n",
              "      const quickchartButtonEl =\n",
              "        document.querySelector('#' + key + ' button');\n",
              "      quickchartButtonEl.disabled = true;  // To prevent multiple clicks.\n",
              "      quickchartButtonEl.classList.add('colab-df-spinner');\n",
              "      try {\n",
              "        const charts = await google.colab.kernel.invokeFunction(\n",
              "            'suggestCharts', [key], {});\n",
              "      } catch (error) {\n",
              "        console.error('Error during call to suggestCharts:', error);\n",
              "      }\n",
              "      quickchartButtonEl.classList.remove('colab-df-spinner');\n",
              "      quickchartButtonEl.classList.add('colab-df-quickchart-complete');\n",
              "    }\n",
              "    (() => {\n",
              "      let quickchartButtonEl =\n",
              "        document.querySelector('#df-dc556603-6322-41d0-87b9-e17c02f3edf8 button');\n",
              "      quickchartButtonEl.style.display =\n",
              "        google.colab.kernel.accessAllowed ? 'block' : 'none';\n",
              "    })();\n",
              "  </script>\n",
              "</div>\n",
              "\n",
              "    </div>\n",
              "  </div>\n"
            ],
            "application/vnd.google.colaboratory.intrinsic+json": {
              "type": "dataframe",
              "variable_name": "df_balanced"
            }
          },
          "metadata": {},
          "execution_count": 129
        }
      ],
      "source": [
        "df_balanced.head()"
      ]
    },
    {
      "cell_type": "code",
      "execution_count": null,
      "metadata": {
        "colab": {
          "base_uri": "https://localhost:8080/"
        },
        "id": "D4NKiDFFzeVw",
        "outputId": "feebd731-74ce-4226-f5f7-f18a1f799b7c"
      },
      "outputs": [
        {
          "output_type": "execute_result",
          "data": {
            "text/plain": [
              "False"
            ]
          },
          "metadata": {},
          "execution_count": 130
        }
      ],
      "source": [
        "# Checking for duplicates\n",
        "df_balanced.duplicated().any()\n",
        "# df_main.duplicated().sum()"
      ]
    },
    {
      "cell_type": "code",
      "execution_count": null,
      "metadata": {
        "colab": {
          "base_uri": "https://localhost:8080/",
          "height": 1000
        },
        "collapsed": true,
        "id": "nrs69hNZzglS",
        "outputId": "785ab914-2d55-4802-a58d-27b9b7e85830"
      },
      "outputs": [
        {
          "output_type": "execute_result",
          "data": {
            "text/plain": [
              "flow_duration      0\n",
              "Header_Length      0\n",
              "Protocol Type      0\n",
              "Duration           0\n",
              "Rate               0\n",
              "Srate              0\n",
              "Drate              0\n",
              "fin_flag_number    0\n",
              "syn_flag_number    0\n",
              "rst_flag_number    0\n",
              "psh_flag_number    0\n",
              "ack_flag_number    0\n",
              "ece_flag_number    0\n",
              "cwr_flag_number    0\n",
              "ack_count          0\n",
              "syn_count          0\n",
              "fin_count          0\n",
              "urg_count          0\n",
              "rst_count          0\n",
              "HTTP               0\n",
              "HTTPS              0\n",
              "DNS                0\n",
              "Telnet             0\n",
              "SMTP               0\n",
              "SSH                0\n",
              "IRC                0\n",
              "TCP                0\n",
              "UDP                0\n",
              "DHCP               0\n",
              "ARP                0\n",
              "ICMP               0\n",
              "IPv                0\n",
              "LLC                0\n",
              "Tot sum            0\n",
              "Min                0\n",
              "Max                0\n",
              "AVG                0\n",
              "Std                0\n",
              "Tot size           0\n",
              "IAT                0\n",
              "Number             0\n",
              "Magnitue           0\n",
              "Radius             0\n",
              "Covariance         0\n",
              "Variance           0\n",
              "Weight             0\n",
              "label              0\n",
              "dtype: int64"
            ],
            "text/html": [
              "<div>\n",
              "<style scoped>\n",
              "    .dataframe tbody tr th:only-of-type {\n",
              "        vertical-align: middle;\n",
              "    }\n",
              "\n",
              "    .dataframe tbody tr th {\n",
              "        vertical-align: top;\n",
              "    }\n",
              "\n",
              "    .dataframe thead th {\n",
              "        text-align: right;\n",
              "    }\n",
              "</style>\n",
              "<table border=\"1\" class=\"dataframe\">\n",
              "  <thead>\n",
              "    <tr style=\"text-align: right;\">\n",
              "      <th></th>\n",
              "      <th>0</th>\n",
              "    </tr>\n",
              "  </thead>\n",
              "  <tbody>\n",
              "    <tr>\n",
              "      <th>flow_duration</th>\n",
              "      <td>0</td>\n",
              "    </tr>\n",
              "    <tr>\n",
              "      <th>Header_Length</th>\n",
              "      <td>0</td>\n",
              "    </tr>\n",
              "    <tr>\n",
              "      <th>Protocol Type</th>\n",
              "      <td>0</td>\n",
              "    </tr>\n",
              "    <tr>\n",
              "      <th>Duration</th>\n",
              "      <td>0</td>\n",
              "    </tr>\n",
              "    <tr>\n",
              "      <th>Rate</th>\n",
              "      <td>0</td>\n",
              "    </tr>\n",
              "    <tr>\n",
              "      <th>Srate</th>\n",
              "      <td>0</td>\n",
              "    </tr>\n",
              "    <tr>\n",
              "      <th>Drate</th>\n",
              "      <td>0</td>\n",
              "    </tr>\n",
              "    <tr>\n",
              "      <th>fin_flag_number</th>\n",
              "      <td>0</td>\n",
              "    </tr>\n",
              "    <tr>\n",
              "      <th>syn_flag_number</th>\n",
              "      <td>0</td>\n",
              "    </tr>\n",
              "    <tr>\n",
              "      <th>rst_flag_number</th>\n",
              "      <td>0</td>\n",
              "    </tr>\n",
              "    <tr>\n",
              "      <th>psh_flag_number</th>\n",
              "      <td>0</td>\n",
              "    </tr>\n",
              "    <tr>\n",
              "      <th>ack_flag_number</th>\n",
              "      <td>0</td>\n",
              "    </tr>\n",
              "    <tr>\n",
              "      <th>ece_flag_number</th>\n",
              "      <td>0</td>\n",
              "    </tr>\n",
              "    <tr>\n",
              "      <th>cwr_flag_number</th>\n",
              "      <td>0</td>\n",
              "    </tr>\n",
              "    <tr>\n",
              "      <th>ack_count</th>\n",
              "      <td>0</td>\n",
              "    </tr>\n",
              "    <tr>\n",
              "      <th>syn_count</th>\n",
              "      <td>0</td>\n",
              "    </tr>\n",
              "    <tr>\n",
              "      <th>fin_count</th>\n",
              "      <td>0</td>\n",
              "    </tr>\n",
              "    <tr>\n",
              "      <th>urg_count</th>\n",
              "      <td>0</td>\n",
              "    </tr>\n",
              "    <tr>\n",
              "      <th>rst_count</th>\n",
              "      <td>0</td>\n",
              "    </tr>\n",
              "    <tr>\n",
              "      <th>HTTP</th>\n",
              "      <td>0</td>\n",
              "    </tr>\n",
              "    <tr>\n",
              "      <th>HTTPS</th>\n",
              "      <td>0</td>\n",
              "    </tr>\n",
              "    <tr>\n",
              "      <th>DNS</th>\n",
              "      <td>0</td>\n",
              "    </tr>\n",
              "    <tr>\n",
              "      <th>Telnet</th>\n",
              "      <td>0</td>\n",
              "    </tr>\n",
              "    <tr>\n",
              "      <th>SMTP</th>\n",
              "      <td>0</td>\n",
              "    </tr>\n",
              "    <tr>\n",
              "      <th>SSH</th>\n",
              "      <td>0</td>\n",
              "    </tr>\n",
              "    <tr>\n",
              "      <th>IRC</th>\n",
              "      <td>0</td>\n",
              "    </tr>\n",
              "    <tr>\n",
              "      <th>TCP</th>\n",
              "      <td>0</td>\n",
              "    </tr>\n",
              "    <tr>\n",
              "      <th>UDP</th>\n",
              "      <td>0</td>\n",
              "    </tr>\n",
              "    <tr>\n",
              "      <th>DHCP</th>\n",
              "      <td>0</td>\n",
              "    </tr>\n",
              "    <tr>\n",
              "      <th>ARP</th>\n",
              "      <td>0</td>\n",
              "    </tr>\n",
              "    <tr>\n",
              "      <th>ICMP</th>\n",
              "      <td>0</td>\n",
              "    </tr>\n",
              "    <tr>\n",
              "      <th>IPv</th>\n",
              "      <td>0</td>\n",
              "    </tr>\n",
              "    <tr>\n",
              "      <th>LLC</th>\n",
              "      <td>0</td>\n",
              "    </tr>\n",
              "    <tr>\n",
              "      <th>Tot sum</th>\n",
              "      <td>0</td>\n",
              "    </tr>\n",
              "    <tr>\n",
              "      <th>Min</th>\n",
              "      <td>0</td>\n",
              "    </tr>\n",
              "    <tr>\n",
              "      <th>Max</th>\n",
              "      <td>0</td>\n",
              "    </tr>\n",
              "    <tr>\n",
              "      <th>AVG</th>\n",
              "      <td>0</td>\n",
              "    </tr>\n",
              "    <tr>\n",
              "      <th>Std</th>\n",
              "      <td>0</td>\n",
              "    </tr>\n",
              "    <tr>\n",
              "      <th>Tot size</th>\n",
              "      <td>0</td>\n",
              "    </tr>\n",
              "    <tr>\n",
              "      <th>IAT</th>\n",
              "      <td>0</td>\n",
              "    </tr>\n",
              "    <tr>\n",
              "      <th>Number</th>\n",
              "      <td>0</td>\n",
              "    </tr>\n",
              "    <tr>\n",
              "      <th>Magnitue</th>\n",
              "      <td>0</td>\n",
              "    </tr>\n",
              "    <tr>\n",
              "      <th>Radius</th>\n",
              "      <td>0</td>\n",
              "    </tr>\n",
              "    <tr>\n",
              "      <th>Covariance</th>\n",
              "      <td>0</td>\n",
              "    </tr>\n",
              "    <tr>\n",
              "      <th>Variance</th>\n",
              "      <td>0</td>\n",
              "    </tr>\n",
              "    <tr>\n",
              "      <th>Weight</th>\n",
              "      <td>0</td>\n",
              "    </tr>\n",
              "    <tr>\n",
              "      <th>label</th>\n",
              "      <td>0</td>\n",
              "    </tr>\n",
              "  </tbody>\n",
              "</table>\n",
              "</div><br><label><b>dtype:</b> int64</label>"
            ]
          },
          "metadata": {},
          "execution_count": 131
        }
      ],
      "source": [
        "# Checking for missing values per column\n",
        "missing_values = df_balanced.isnull().sum()\n",
        "missing_values"
      ]
    },
    {
      "cell_type": "code",
      "execution_count": null,
      "metadata": {
        "colab": {
          "base_uri": "https://localhost:8080/"
        },
        "collapsed": true,
        "id": "lhugZ85Az9vv",
        "outputId": "b85c993c-aeb8-4db5-8264-c6e2221113d2"
      },
      "outputs": [
        {
          "output_type": "stream",
          "name": "stdout",
          "text": [
            "<class 'pandas.core.frame.DataFrame'>\n",
            "RangeIndex: 11350 entries, 0 to 11349\n",
            "Data columns (total 47 columns):\n",
            " #   Column           Non-Null Count  Dtype  \n",
            "---  ------           --------------  -----  \n",
            " 0   flow_duration    11350 non-null  float64\n",
            " 1   Header_Length    11350 non-null  float64\n",
            " 2   Protocol Type    11350 non-null  float64\n",
            " 3   Duration         11350 non-null  float64\n",
            " 4   Rate             11350 non-null  float64\n",
            " 5   Srate            11350 non-null  float64\n",
            " 6   Drate            11350 non-null  float64\n",
            " 7   fin_flag_number  11350 non-null  float64\n",
            " 8   syn_flag_number  11350 non-null  float64\n",
            " 9   rst_flag_number  11350 non-null  float64\n",
            " 10  psh_flag_number  11350 non-null  float64\n",
            " 11  ack_flag_number  11350 non-null  float64\n",
            " 12  ece_flag_number  11350 non-null  float64\n",
            " 13  cwr_flag_number  11350 non-null  float64\n",
            " 14  ack_count        11350 non-null  float64\n",
            " 15  syn_count        11350 non-null  float64\n",
            " 16  fin_count        11350 non-null  float64\n",
            " 17  urg_count        11350 non-null  float64\n",
            " 18  rst_count        11350 non-null  float64\n",
            " 19  HTTP             11350 non-null  float64\n",
            " 20  HTTPS            11350 non-null  float64\n",
            " 21  DNS              11350 non-null  float64\n",
            " 22  Telnet           11350 non-null  float64\n",
            " 23  SMTP             11350 non-null  float64\n",
            " 24  SSH              11350 non-null  float64\n",
            " 25  IRC              11350 non-null  float64\n",
            " 26  TCP              11350 non-null  float64\n",
            " 27  UDP              11350 non-null  float64\n",
            " 28  DHCP             11350 non-null  float64\n",
            " 29  ARP              11350 non-null  float64\n",
            " 30  ICMP             11350 non-null  float64\n",
            " 31  IPv              11350 non-null  float64\n",
            " 32  LLC              11350 non-null  float64\n",
            " 33  Tot sum          11350 non-null  float64\n",
            " 34  Min              11350 non-null  float64\n",
            " 35  Max              11350 non-null  float64\n",
            " 36  AVG              11350 non-null  float64\n",
            " 37  Std              11350 non-null  float64\n",
            " 38  Tot size         11350 non-null  float64\n",
            " 39  IAT              11350 non-null  float64\n",
            " 40  Number           11350 non-null  float64\n",
            " 41  Magnitue         11350 non-null  float64\n",
            " 42  Radius           11350 non-null  float64\n",
            " 43  Covariance       11350 non-null  float64\n",
            " 44  Variance         11350 non-null  float64\n",
            " 45  Weight           11350 non-null  float64\n",
            " 46  label            11350 non-null  int64  \n",
            "dtypes: float64(46), int64(1)\n",
            "memory usage: 4.1 MB\n"
          ]
        }
      ],
      "source": [
        "df_balanced.info()"
      ]
    },
    {
      "cell_type": "code",
      "execution_count": null,
      "metadata": {
        "colab": {
          "base_uri": "https://localhost:8080/"
        },
        "collapsed": true,
        "id": "vXzGHrsEU_p2",
        "outputId": "1f2a3568-d762-40ed-fcbd-f4e0b02908a6"
      },
      "outputs": [
        {
          "output_type": "execute_result",
          "data": {
            "text/plain": [
              "(11350, 47)"
            ]
          },
          "metadata": {},
          "execution_count": 133
        }
      ],
      "source": [
        "df_balanced.shape"
      ]
    },
    {
      "cell_type": "markdown",
      "metadata": {
        "id": "NkfuFwtXzr7_"
      },
      "source": [
        "**Drop statistical features**"
      ]
    },
    {
      "cell_type": "code",
      "execution_count": null,
      "metadata": {
        "id": "_CS1XpHszwJF"
      },
      "outputs": [],
      "source": [
        "# List of features to drop\n",
        "features_to_drop = ['Min', 'Max', 'Std', 'Variance', 'Covariance', 'Weight', 'AVG', 'Magnitue', 'Radius']\n",
        "\n",
        "# Drop the specified features\n",
        "df_balanced = df_balanced.drop(columns=features_to_drop)"
      ]
    },
    {
      "cell_type": "code",
      "execution_count": null,
      "metadata": {
        "colab": {
          "base_uri": "https://localhost:8080/"
        },
        "collapsed": true,
        "id": "EOXzfdEVYQY_",
        "outputId": "be2a1c69-2509-4b1b-8475-34ce01395e4f"
      },
      "outputs": [
        {
          "output_type": "execute_result",
          "data": {
            "text/plain": [
              "(11350, 38)"
            ]
          },
          "metadata": {},
          "execution_count": 135
        }
      ],
      "source": [
        "df_balanced.shape"
      ]
    },
    {
      "cell_type": "code",
      "execution_count": null,
      "metadata": {
        "colab": {
          "base_uri": "https://localhost:8080/"
        },
        "collapsed": true,
        "id": "TmMKS5o60Gxv",
        "outputId": "e8c43770-ca7c-4a56-d1d1-31e92d7387bd"
      },
      "outputs": [
        {
          "output_type": "stream",
          "name": "stdout",
          "text": [
            "<class 'pandas.core.frame.DataFrame'>\n",
            "RangeIndex: 11350 entries, 0 to 11349\n",
            "Data columns (total 38 columns):\n",
            " #   Column           Non-Null Count  Dtype  \n",
            "---  ------           --------------  -----  \n",
            " 0   flow_duration    11350 non-null  float64\n",
            " 1   Header_Length    11350 non-null  float64\n",
            " 2   Protocol Type    11350 non-null  float64\n",
            " 3   Duration         11350 non-null  float64\n",
            " 4   Rate             11350 non-null  float64\n",
            " 5   Srate            11350 non-null  float64\n",
            " 6   Drate            11350 non-null  float64\n",
            " 7   fin_flag_number  11350 non-null  float64\n",
            " 8   syn_flag_number  11350 non-null  float64\n",
            " 9   rst_flag_number  11350 non-null  float64\n",
            " 10  psh_flag_number  11350 non-null  float64\n",
            " 11  ack_flag_number  11350 non-null  float64\n",
            " 12  ece_flag_number  11350 non-null  float64\n",
            " 13  cwr_flag_number  11350 non-null  float64\n",
            " 14  ack_count        11350 non-null  float64\n",
            " 15  syn_count        11350 non-null  float64\n",
            " 16  fin_count        11350 non-null  float64\n",
            " 17  urg_count        11350 non-null  float64\n",
            " 18  rst_count        11350 non-null  float64\n",
            " 19  HTTP             11350 non-null  float64\n",
            " 20  HTTPS            11350 non-null  float64\n",
            " 21  DNS              11350 non-null  float64\n",
            " 22  Telnet           11350 non-null  float64\n",
            " 23  SMTP             11350 non-null  float64\n",
            " 24  SSH              11350 non-null  float64\n",
            " 25  IRC              11350 non-null  float64\n",
            " 26  TCP              11350 non-null  float64\n",
            " 27  UDP              11350 non-null  float64\n",
            " 28  DHCP             11350 non-null  float64\n",
            " 29  ARP              11350 non-null  float64\n",
            " 30  ICMP             11350 non-null  float64\n",
            " 31  IPv              11350 non-null  float64\n",
            " 32  LLC              11350 non-null  float64\n",
            " 33  Tot sum          11350 non-null  float64\n",
            " 34  Tot size         11350 non-null  float64\n",
            " 35  IAT              11350 non-null  float64\n",
            " 36  Number           11350 non-null  float64\n",
            " 37  label            11350 non-null  int64  \n",
            "dtypes: float64(37), int64(1)\n",
            "memory usage: 3.3 MB\n"
          ]
        }
      ],
      "source": [
        "df_balanced.info()"
      ]
    },
    {
      "cell_type": "code",
      "execution_count": null,
      "metadata": {
        "id": "b-4BcgQCzpJV"
      },
      "outputs": [],
      "source": [
        "# Features and Label\n",
        "X = df_balanced.drop(columns=['label'])\n",
        "y = df_balanced['label']\n",
        "\n",
        "\n",
        "X_train, X_remaining, y_train, y_remaining = train_test_split(\n",
        "    X, y, test_size=0.2, random_state=42, shuffle=True, stratify=y\n",
        ")"
      ]
    },
    {
      "cell_type": "code",
      "execution_count": null,
      "metadata": {
        "colab": {
          "base_uri": "https://localhost:8080/"
        },
        "collapsed": true,
        "id": "9XdimFscVJhg",
        "outputId": "a8b019bb-6a60-4035-f001-eed9304105a2"
      },
      "outputs": [
        {
          "output_type": "execute_result",
          "data": {
            "text/plain": [
              "((9080, 37), (2270, 37))"
            ]
          },
          "metadata": {},
          "execution_count": 138
        }
      ],
      "source": [
        "X_train.shape, X_remaining.shape"
      ]
    },
    {
      "cell_type": "code",
      "execution_count": null,
      "metadata": {
        "colab": {
          "base_uri": "https://localhost:8080/"
        },
        "collapsed": true,
        "id": "cesgGTnHWKzX",
        "outputId": "87b7922a-946d-43c0-d941-e2d3a281c2fc"
      },
      "outputs": [
        {
          "output_type": "execute_result",
          "data": {
            "text/plain": [
              "((9080,), (2270,))"
            ]
          },
          "metadata": {},
          "execution_count": 139
        }
      ],
      "source": [
        "y_train.shape, y_remaining.shape"
      ]
    },
    {
      "cell_type": "code",
      "execution_count": null,
      "metadata": {
        "colab": {
          "base_uri": "https://localhost:8080/"
        },
        "collapsed": true,
        "id": "kQzxdz6RVgHT",
        "outputId": "3c65d886-ca76-436b-feee-b971de16073b"
      },
      "outputs": [
        {
          "output_type": "execute_result",
          "data": {
            "text/plain": [
              "(11350, 38)"
            ]
          },
          "metadata": {},
          "execution_count": 140
        }
      ],
      "source": [
        "df_balanced.shape"
      ]
    },
    {
      "cell_type": "code",
      "execution_count": null,
      "metadata": {
        "colab": {
          "base_uri": "https://localhost:8080/",
          "height": 178
        },
        "collapsed": true,
        "id": "kDvZpNdP3frh",
        "outputId": "11a7b7ee-f3d8-4777-afd2-182b8dbbec33"
      },
      "outputs": [
        {
          "output_type": "execute_result",
          "data": {
            "text/plain": [
              "label\n",
              "0    0.506608\n",
              "1    0.493392\n",
              "Name: proportion, dtype: float64"
            ],
            "text/html": [
              "<div>\n",
              "<style scoped>\n",
              "    .dataframe tbody tr th:only-of-type {\n",
              "        vertical-align: middle;\n",
              "    }\n",
              "\n",
              "    .dataframe tbody tr th {\n",
              "        vertical-align: top;\n",
              "    }\n",
              "\n",
              "    .dataframe thead th {\n",
              "        text-align: right;\n",
              "    }\n",
              "</style>\n",
              "<table border=\"1\" class=\"dataframe\">\n",
              "  <thead>\n",
              "    <tr style=\"text-align: right;\">\n",
              "      <th></th>\n",
              "      <th>proportion</th>\n",
              "    </tr>\n",
              "    <tr>\n",
              "      <th>label</th>\n",
              "      <th></th>\n",
              "    </tr>\n",
              "  </thead>\n",
              "  <tbody>\n",
              "    <tr>\n",
              "      <th>0</th>\n",
              "      <td>0.506608</td>\n",
              "    </tr>\n",
              "    <tr>\n",
              "      <th>1</th>\n",
              "      <td>0.493392</td>\n",
              "    </tr>\n",
              "  </tbody>\n",
              "</table>\n",
              "</div><br><label><b>dtype:</b> float64</label>"
            ]
          },
          "metadata": {},
          "execution_count": 141
        }
      ],
      "source": [
        "y_train.value_counts(normalize=True)"
      ]
    },
    {
      "cell_type": "code",
      "execution_count": null,
      "metadata": {
        "colab": {
          "base_uri": "https://localhost:8080/",
          "height": 178
        },
        "collapsed": true,
        "id": "Gk37y9yJ3it4",
        "outputId": "771c150b-d209-427b-da7a-4d700bbf7fb2"
      },
      "outputs": [
        {
          "output_type": "execute_result",
          "data": {
            "text/plain": [
              "label\n",
              "0    0.506608\n",
              "1    0.493392\n",
              "Name: proportion, dtype: float64"
            ],
            "text/html": [
              "<div>\n",
              "<style scoped>\n",
              "    .dataframe tbody tr th:only-of-type {\n",
              "        vertical-align: middle;\n",
              "    }\n",
              "\n",
              "    .dataframe tbody tr th {\n",
              "        vertical-align: top;\n",
              "    }\n",
              "\n",
              "    .dataframe thead th {\n",
              "        text-align: right;\n",
              "    }\n",
              "</style>\n",
              "<table border=\"1\" class=\"dataframe\">\n",
              "  <thead>\n",
              "    <tr style=\"text-align: right;\">\n",
              "      <th></th>\n",
              "      <th>proportion</th>\n",
              "    </tr>\n",
              "    <tr>\n",
              "      <th>label</th>\n",
              "      <th></th>\n",
              "    </tr>\n",
              "  </thead>\n",
              "  <tbody>\n",
              "    <tr>\n",
              "      <th>0</th>\n",
              "      <td>0.506608</td>\n",
              "    </tr>\n",
              "    <tr>\n",
              "      <th>1</th>\n",
              "      <td>0.493392</td>\n",
              "    </tr>\n",
              "  </tbody>\n",
              "</table>\n",
              "</div><br><label><b>dtype:</b> float64</label>"
            ]
          },
          "metadata": {},
          "execution_count": 142
        }
      ],
      "source": [
        "y_remaining.value_counts(normalize=True)"
      ]
    },
    {
      "cell_type": "markdown",
      "metadata": {
        "id": "7MsMcY1x3mSi"
      },
      "source": [
        "**Feature Selection**"
      ]
    },
    {
      "cell_type": "code",
      "execution_count": null,
      "metadata": {
        "colab": {
          "base_uri": "https://localhost:8080/",
          "height": 807
        },
        "id": "o2EoYXlT3kGh",
        "outputId": "989e13dd-bc9e-4957-ce7e-da10e6eea303"
      },
      "outputs": [
        {
          "output_type": "display_data",
          "data": {
            "text/plain": [
              "<Figure size 1200x800 with 1 Axes>"
            ],
            "image/png": "[encoded data removed]"
          },
          "metadata": {}
        }
      ],
      "source": [
        "# Train the ExtraTreesClassifier to get feature importances\n",
        "clf = ExtraTreesClassifier(n_estimators=100, random_state=42)\n",
        "clf.fit(X_train, y_train)\n",
        "importances = clf.feature_importances_\n",
        "\n",
        "# Plot the feature importances\n",
        "feature_names = X.columns\n",
        "indices = np.argsort(importances)[::-1]\n",
        "plt.figure(figsize=(12, 8))\n",
        "plt.title(\"Feature Importances\")\n",
        "plt.bar(range(len(importances)), importances[indices], align=\"center\")\n",
        "plt.xticks(range(len(importances)), [feature_names[i] for i in indices], rotation=90, ha='right')\n",
        "plt.xlabel('Feature')\n",
        "plt.ylabel('Importance')\n",
        "plt.tight_layout()\n",
        "plt.show()"
      ]
    },
    {
      "cell_type": "code",
      "execution_count": null,
      "metadata": {
        "colab": {
          "base_uri": "https://localhost:8080/"
        },
        "collapsed": true,
        "id": "9xgde3tR3zJ5",
        "outputId": "cfa3779c-b23e-415a-bffa-8b4b30a92483"
      },
      "outputs": [
        {
          "output_type": "stream",
          "name": "stdout",
          "text": [
            "Feature importances:\n",
            "IAT: 0.2317621063444911\n",
            "ack_flag_number: 0.17287211222390078\n",
            "HTTPS: 0.13788332917059698\n",
            "Number: 0.13268011375072278\n",
            "Duration: 0.06562009969812058\n",
            "rst_count: 0.03641112146261843\n",
            "urg_count: 0.03228705150997539\n",
            "TCP: 0.026023120949132606\n",
            "Protocol Type: 0.023157981000206936\n",
            "psh_flag_number: 0.022594168583071058\n",
            "syn_flag_number: 0.020159130881401824\n",
            "ICMP: 0.018331551700314978\n",
            "Tot size: 0.01792233198181665\n",
            "flow_duration: 0.017193143757981165\n",
            "Header_Length: 0.012973652887744127\n",
            "Tot sum: 0.010750837796177274\n",
            "UDP: 0.0070182121121260144\n",
            "syn_count: 0.005519278398270517\n",
            "ack_count: 0.0032612712509260387\n",
            "HTTP: 0.0019903652639732938\n",
            "fin_count: 0.0008481184573826772\n",
            "Rate: 0.0006768662953435113\n",
            "Srate: 0.0005485539051660373\n",
            "rst_flag_number: 0.0004623466994932299\n",
            "DNS: 0.0004010365494833856\n",
            "fin_flag_number: 0.0003779566754584237\n",
            "IPv: 0.000157323598401473\n",
            "LLC: 9.814780050846371e-05\n",
            "ARP: 1.8669295194339235e-05\n",
            "IRC: 0.0\n",
            "SMTP: 0.0\n",
            "Drate: 0.0\n",
            "SSH: 0.0\n",
            "ece_flag_number: 0.0\n",
            "cwr_flag_number: 0.0\n",
            "DHCP: 0.0\n",
            "Telnet: 0.0\n"
          ]
        }
      ],
      "source": [
        "# Print the feature importances for manual selection\n",
        "print(\"Feature importances:\")\n",
        "for i in indices:\n",
        "    print(f\"{feature_names[i]}: {importances[i]}\")\n",
        "\n",
        "# Function to get top N features\n",
        "def get_top_n_features(X, importances, n):\n",
        "    indices = np.argsort(importances)[::-1][:n]\n",
        "    top_features = [X.columns[i] for i in indices]\n",
        "    return top_features"
      ]
    },
    {
      "cell_type": "code",
      "execution_count": null,
      "metadata": {
        "colab": {
          "base_uri": "https://localhost:8080/"
        },
        "collapsed": true,
        "id": "rkrG2tDu34Fo",
        "outputId": "1e85ba74-ebba-441b-da02-2fa46d78d307"
      },
      "outputs": [
        {
          "output_type": "stream",
          "name": "stdout",
          "text": [
            "\n",
            "Top 25 features:\n",
            "['IAT', 'ack_flag_number', 'HTTPS', 'Number', 'Duration', 'rst_count', 'urg_count', 'TCP', 'Protocol Type', 'psh_flag_number', 'syn_flag_number', 'ICMP', 'Tot size', 'flow_duration', 'Header_Length', 'Tot sum', 'UDP', 'syn_count', 'ack_count', 'HTTP', 'fin_count', 'Rate', 'Srate', 'rst_flag_number', 'DNS']\n"
          ]
        }
      ],
      "source": [
        "# Example usage: select top 5 features\n",
        "top_n = 25\n",
        "top_features = get_top_n_features(X, importances, top_n)\n",
        "print(f\"\\nTop {top_n} features:\")\n",
        "print(top_features)"
      ]
    },
    {
      "cell_type": "code",
      "execution_count": null,
      "metadata": {
        "id": "27eBOMOz4JdP"
      },
      "outputs": [],
      "source": [
        "X_train = X_train[top_features]\n",
        "X_remaining = X_remaining[top_features]"
      ]
    },
    {
      "cell_type": "code",
      "execution_count": null,
      "metadata": {
        "colab": {
          "base_uri": "https://localhost:8080/"
        },
        "collapsed": true,
        "id": "6glsN2iuYrSe",
        "outputId": "069806a1-d566-4e67-bdb1-23e8148091ff"
      },
      "outputs": [
        {
          "output_type": "stream",
          "name": "stdout",
          "text": [
            "<class 'pandas.core.frame.DataFrame'>\n",
            "Index: 9080 entries, 3380 to 298\n",
            "Data columns (total 25 columns):\n",
            " #   Column           Non-Null Count  Dtype  \n",
            "---  ------           --------------  -----  \n",
            " 0   IAT              9080 non-null   float64\n",
            " 1   ack_flag_number  9080 non-null   float64\n",
            " 2   HTTPS            9080 non-null   float64\n",
            " 3   Number           9080 non-null   float64\n",
            " 4   Duration         9080 non-null   float64\n",
            " 5   rst_count        9080 non-null   float64\n",
            " 6   urg_count        9080 non-null   float64\n",
            " 7   TCP              9080 non-null   float64\n",
            " 8   Protocol Type    9080 non-null   float64\n",
            " 9   psh_flag_number  9080 non-null   float64\n",
            " 10  syn_flag_number  9080 non-null   float64\n",
            " 11  ICMP             9080 non-null   float64\n",
            " 12  Tot size         9080 non-null   float64\n",
            " 13  flow_duration    9080 non-null   float64\n",
            " 14  Header_Length    9080 non-null   float64\n",
            " 15  Tot sum          9080 non-null   float64\n",
            " 16  UDP              9080 non-null   float64\n",
            " 17  syn_count        9080 non-null   float64\n",
            " 18  ack_count        9080 non-null   float64\n",
            " 19  HTTP             9080 non-null   float64\n",
            " 20  fin_count        9080 non-null   float64\n",
            " 21  Rate             9080 non-null   float64\n",
            " 22  Srate            9080 non-null   float64\n",
            " 23  rst_flag_number  9080 non-null   float64\n",
            " 24  DNS              9080 non-null   float64\n",
            "dtypes: float64(25)\n",
            "memory usage: 1.8 MB\n"
          ]
        }
      ],
      "source": [
        "X_train.info()"
      ]
    },
    {
      "cell_type": "code",
      "execution_count": null,
      "metadata": {
        "id": "32UqVd5C60f2"
      },
      "outputs": [],
      "source": [
        "# Apply SMOTE to the training data\n",
        "# smote = SMOTE(random_state=42)\n",
        "# X_train, y_train = smote.fit_resample(X_train, y_train)"
      ]
    },
    {
      "cell_type": "markdown",
      "metadata": {
        "id": "k-DVpiyc4PuL"
      },
      "source": [
        "**Scaling**"
      ]
    },
    {
      "cell_type": "code",
      "execution_count": null,
      "metadata": {
        "id": "_lQmYHNq4O5R"
      },
      "outputs": [],
      "source": [
        "scaler = StandardScaler()\n",
        "\n",
        "X_train_scaled = scaler.fit_transform(X_train)\n",
        "X_remaining_scaled = scaler.transform(X_remaining)"
      ]
    },
    {
      "cell_type": "code",
      "execution_count": null,
      "metadata": {
        "colab": {
          "base_uri": "https://localhost:8080/"
        },
        "collapsed": true,
        "id": "llhtiyi2fzdP",
        "outputId": "f8360420-6f6f-49dd-afd0-aacfed1e6a94"
      },
      "outputs": [
        {
          "output_type": "stream",
          "name": "stdout",
          "text": [
            "         0         1         2         3         4         5         6   \\\n",
            "0  0.001216 -0.943030 -0.755422  0.003641 -0.577490 -0.525125 -0.444147   \n",
            "1  0.002175 -0.943030 -0.755422  0.003641 -0.577490 -0.525125 -0.444147   \n",
            "2 -1.419074  1.060412 -0.755422 -1.419272 -0.479939 -0.225583  0.592111   \n",
            "3  0.001754 -0.943030 -0.755422  0.003641 -0.577490 -0.525125 -0.444147   \n",
            "4  0.001154 -0.943030 -0.755422  0.003641 -0.562971 -0.525125 -0.444147   \n",
            "\n",
            "         7         8         9   ...        15        16        17        18  \\\n",
            "0  0.693714 -0.291076 -0.231536  ... -0.487478 -0.403805 -0.751238 -0.230313   \n",
            "1 -1.441515 -1.448164 -0.231536  ... -0.507886 -0.403805 -0.751238 -0.230313   \n",
            "2  0.693714  0.218043 -0.231536  ... -0.465272 -0.403805  0.939822 -0.230313   \n",
            "3 -1.441515  2.254518 -0.231536  ... -0.494281  2.476440 -0.751238 -0.230313   \n",
            "4  0.693714 -0.277191 -0.231536  ... -0.482626 -0.403805 -0.751238 -0.230313   \n",
            "\n",
            "         19        20        21        22        23        24  \n",
            "0 -0.226475 -0.136008 -0.083777 -0.083777 -0.077348 -0.034827  \n",
            "1 -0.226475 -0.136008 -0.083373 -0.083373 -0.077348 -0.034827  \n",
            "2 -0.226475 -0.136008 -0.083285 -0.083285 -0.077348 -0.034827  \n",
            "3 -0.226475 -0.136008  0.095224  0.095224 -0.077348 -0.034827  \n",
            "4 -0.226475 -0.136008 -0.083892 -0.083892 -0.077348 -0.034827  \n",
            "\n",
            "[5 rows x 25 columns]\n"
          ]
        }
      ],
      "source": [
        "print(pd.DataFrame(X_train_scaled).head())"
      ]
    },
    {
      "cell_type": "code",
      "execution_count": null,
      "metadata": {
        "colab": {
          "base_uri": "https://localhost:8080/"
        },
        "collapsed": true,
        "id": "gNLXcpP_iUEE",
        "outputId": "d257e98a-4e3b-4ba2-cf47-f0095863ebcf"
      },
      "outputs": [
        {
          "output_type": "execute_result",
          "data": {
            "text/plain": [
              "array(['IAT', 'ack_flag_number', 'HTTPS', 'Number', 'Duration',\n",
              "       'rst_count', 'urg_count', 'TCP', 'Protocol Type',\n",
              "       'psh_flag_number', 'syn_flag_number', 'ICMP', 'Tot size',\n",
              "       'flow_duration', 'Header_Length', 'Tot sum', 'UDP', 'syn_count',\n",
              "       'ack_count', 'HTTP', 'fin_count', 'Rate', 'Srate',\n",
              "       'rst_flag_number', 'DNS'], dtype=object)"
            ]
          },
          "metadata": {},
          "execution_count": 151
        }
      ],
      "source": [
        "scaler.get_feature_names_out()"
      ]
    },
    {
      "cell_type": "code",
      "execution_count": null,
      "metadata": {
        "id": "fLWjiqsoSFL5"
      },
      "outputs": [],
      "source": [
        "# save scaler Model\n",
        "with open('/content/gdrive/MyDrive/CICIoT2023_DATASET/All-forty-files/Final_Folder/Models/scaler.pkl', \"wb\") as file:\n",
        "  pickle.dump(scaler, file)"
      ]
    },
    {
      "cell_type": "code",
      "execution_count": null,
      "metadata": {
        "id": "o_CnVmnHzw2q"
      },
      "outputs": [],
      "source": [
        "# SVC?"
      ]
    },
    {
      "cell_type": "code",
      "execution_count": null,
      "metadata": {
        "colab": {
          "base_uri": "https://localhost:8080/",
          "height": 75
        },
        "id": "NbIKRR604T3I",
        "outputId": "8846f5af-2f26-408d-dc01-44e3bc33386d"
      },
      "outputs": [
        {
          "output_type": "execute_result",
          "data": {
            "text/plain": [
              "SVC(probability=True)"
            ],
            "text/html": [
              "<style>#sk-container-id-3 {color: black;}#sk-container-id-3 pre{padding: 0;}#sk-container-id-3 div.sk-toggleable {background-color: white;}#sk-container-id-3 label.sk-toggleable__label {cursor: pointer;display: block;width: 100%;margin-bottom: 0;padding: 0.3em;box-sizing: border-box;text-align: center;}#sk-container-id-3 label.sk-toggleable__label-arrow:before {content: \"▸\";float: left;margin-right: 0.25em;color: #696969;}#sk-container-id-3 label.sk-toggleable__label-arrow:hover:before {color: black;}#sk-container-id-3 div.sk-estimator:hover label.sk-toggleable__label-arrow:before {color: black;}#sk-container-id-3 div.sk-toggleable__content {max-height: 0;max-width: 0;overflow: hidden;text-align: left;background-color: #f0f8ff;}#sk-container-id-3 div.sk-toggleable__content pre {margin: 0.2em;color: black;border-radius: 0.25em;background-color: #f0f8ff;}#sk-container-id-3 input.sk-toggleable__control:checked~div.sk-toggleable__content {max-height: 200px;max-width: 100%;overflow: auto;}#sk-container-id-3 input.sk-toggleable__control:checked~label.sk-toggleable__label-arrow:before {content: \"▾\";}#sk-container-id-3 div.sk-estimator input.sk-toggleable__control:checked~label.sk-toggleable__label {background-color: #d4ebff;}#sk-container-id-3 div.sk-label input.sk-toggleable__control:checked~label.sk-toggleable__label {background-color: #d4ebff;}#sk-container-id-3 input.sk-hidden--visually {border: 0;clip: rect(1px 1px 1px 1px);clip: rect(1px, 1px, 1px, 1px);height: 1px;margin: -1px;overflow: hidden;padding: 0;position: absolute;width: 1px;}#sk-container-id-3 div.sk-estimator {font-family: monospace;background-color: #f0f8ff;border: 1px dotted black;border-radius: 0.25em;box-sizing: border-box;margin-bottom: 0.5em;}#sk-container-id-3 div.sk-estimator:hover {background-color: #d4ebff;}#sk-container-id-3 div.sk-parallel-item::after {content: \"\";width: 100%;border-bottom: 1px solid gray;flex-grow: 1;}#sk-container-id-3 div.sk-label:hover label.sk-toggleable__label {background-color: #d4ebff;}#sk-container-id-3 div.sk-serial::before {content: \"\";position: absolute;border-left: 1px solid gray;box-sizing: border-box;top: 0;bottom: 0;left: 50%;z-index: 0;}#sk-container-id-3 div.sk-serial {display: flex;flex-direction: column;align-items: center;background-color: white;padding-right: 0.2em;padding-left: 0.2em;position: relative;}#sk-container-id-3 div.sk-item {position: relative;z-index: 1;}#sk-container-id-3 div.sk-parallel {display: flex;align-items: stretch;justify-content: center;background-color: white;position: relative;}#sk-container-id-3 div.sk-item::before, #sk-container-id-3 div.sk-parallel-item::before {content: \"\";position: absolute;border-left: 1px solid gray;box-sizing: border-box;top: 0;bottom: 0;left: 50%;z-index: -1;}#sk-container-id-3 div.sk-parallel-item {display: flex;flex-direction: column;z-index: 1;position: relative;background-color: white;}#sk-container-id-3 div.sk-parallel-item:first-child::after {align-self: flex-end;width: 50%;}#sk-container-id-3 div.sk-parallel-item:last-child::after {align-self: flex-start;width: 50%;}#sk-container-id-3 div.sk-parallel-item:only-child::after {width: 0;}#sk-container-id-3 div.sk-dashed-wrapped {border: 1px dashed gray;margin: 0 0.4em 0.5em 0.4em;box-sizing: border-box;padding-bottom: 0.4em;background-color: white;}#sk-container-id-3 div.sk-label label {font-family: monospace;font-weight: bold;display: inline-block;line-height: 1.2em;}#sk-container-id-3 div.sk-label-container {text-align: center;}#sk-container-id-3 div.sk-container {/* jupyter's `normalize.less` sets `[hidden] { display: none; }` but bootstrap.min.css set `[hidden] { display: none !important; }` so we also need the `!important` here to be able to override the default hidden behavior on the sphinx rendered scikit-learn.org. See: https://github.com/scikit-learn/scikit-learn/issues/21755 */display: inline-block !important;position: relative;}#sk-container-id-3 div.sk-text-repr-fallback {display: none;}</style><div id=\"sk-container-id-3\" class=\"sk-top-container\"><div class=\"sk-text-repr-fallback\"><pre>SVC(probability=True)</pre><b>In a Jupyter environment, please rerun this cell to show the HTML representation or trust the notebook. <br />On GitHub, the HTML representation is unable to render, please try loading this page with nbviewer.org.</b></div><div class=\"sk-container\" hidden><div class=\"sk-item\"><div class=\"sk-estimator sk-toggleable\"><input class=\"sk-toggleable__control sk-hidden--visually\" id=\"sk-estimator-id-3\" type=\"checkbox\" checked><label for=\"sk-estimator-id-3\" class=\"sk-toggleable__label sk-toggleable__label-arrow\">SVC</label><div class=\"sk-toggleable__content\"><pre>SVC(probability=True)</pre></div></div></div></div></div>"
            ]
          },
          "metadata": {},
          "execution_count": 154
        }
      ],
      "source": [
        "svc_model = SVC(probability=True)\n",
        "svc_model.fit(X_train_scaled,y_train)"
      ]
    },
    {
      "cell_type": "markdown",
      "metadata": {
        "id": "ZLuE8ddY4dRO"
      },
      "source": [
        "**Evaluation on validation set** [link text](https://)"
      ]
    },
    {
      "cell_type": "code",
      "execution_count": null,
      "metadata": {
        "id": "HudtSojj4WSK"
      },
      "outputs": [],
      "source": [
        "# Evaluate the models on the validation set\n",
        "svc_pred_val = svc_model.predict(X_remaining_scaled)"
      ]
    },
    {
      "cell_type": "code",
      "execution_count": null,
      "metadata": {
        "colab": {
          "base_uri": "https://localhost:8080/"
        },
        "id": "piUsnrWm4Yjy",
        "outputId": "49bfbcba-0e5b-4d85-e61e-484ca8cc2379"
      },
      "outputs": [
        {
          "output_type": "stream",
          "name": "stdout",
          "text": [
            "\n",
            "SVC Validation Accuracy: 0.99824\n",
            "SVC Validation Recall: 1.00000\n",
            "SVC Validation Precision: 0.99644\n",
            "SVC Validation F1: 0.99822\n",
            "\n",
            "SVC Validation Classification Report:\n",
            "               precision    recall  f1-score   support\n",
            "\n",
            "           0       1.00      1.00      1.00      1150\n",
            "           1       1.00      1.00      1.00      1120\n",
            "\n",
            "    accuracy                           1.00      2270\n",
            "   macro avg       1.00      1.00      1.00      2270\n",
            "weighted avg       1.00      1.00      1.00      2270\n",
            "\n"
          ]
        }
      ],
      "source": [
        "# Print out the evaluation metrics for validation set\n",
        "accuracy_s = accuracy_score(y_remaining, svc_pred_val)\n",
        "recall_score_s = recall_score(y_remaining, svc_pred_val)\n",
        "precision_s = precision_score(y_remaining, svc_pred_val)\n",
        "f1_s = f1_score(y_remaining, svc_pred_val)\n",
        "\n",
        "# Print the metrics with 5 decimal places\n",
        "print()\n",
        "print(f\"SVC Validation Accuracy: {accuracy_s:.5f}\")\n",
        "print(f\"SVC Validation Recall: {recall_score_s:.5f}\")\n",
        "print(f\"SVC Validation Precision: {precision_s:.5f}\")\n",
        "print(f\"SVC Validation F1: {f1_s:.5f}\")\n",
        "# print(\"SVC Validation Accuracy:\", accuracy_score(y_val, svc_pred_val))\n",
        "print()\n",
        "print(\"SVC Validation Classification Report:\\n\", classification_report(y_remaining, svc_pred_val))"
      ]
    },
    {
      "cell_type": "code",
      "execution_count": null,
      "metadata": {
        "colab": {
          "base_uri": "https://localhost:8080/",
          "height": 472
        },
        "id": "8Xb2nn7g1OYM",
        "outputId": "37dddf05-4bed-4a58-9482-8fbb63c7281c"
      },
      "outputs": [
        {
          "output_type": "display_data",
          "data": {
            "text/plain": [
              "<Figure size 640x480 with 2 Axes>"
            ],
            "image/png": "[encoded data removed]"
          },
          "metadata": {}
        }
      ],
      "source": [
        "# Confusion matrix\n",
        "conf_matrix = confusion_matrix(y_remaining, svc_pred_val)\n",
        "sns.heatmap(conf_matrix, annot=True, fmt='d', cmap='Reds')\n",
        "plt.xlabel('Predicted Classes')\n",
        "plt.ylabel('Actual Classes')\n",
        "plt.title('Confusion Matrix for SVC')\n",
        "plt.show()"
      ]
    },
    {
      "cell_type": "markdown",
      "metadata": {
        "id": "bOt_I8Yt4g2e"
      },
      "source": [
        "**Evaluation on test set**"
      ]
    },
    {
      "cell_type": "code",
      "execution_count": null,
      "metadata": {
        "id": "RcSsfVkE48Q9"
      },
      "outputs": [],
      "source": [
        "file_path_test = '/content/gdrive/MyDrive/CICIoT2023_DATASET/All-forty-files/first20/part-00019-363d1ba3-8ab5-4f96-bc25-4d5862db7cb9-c000.csv'\n",
        "# file_path_test = '/content/gdrive/MyDrive/CICIoT2023_DATASET/For-a-single-file/Dataset_concatenations_undersampling/dataset-1.csv'\n",
        "# file_path_test = '/content/gdrive/MyDrive/CICIoT2023_DATASET/All-forty-files/combined_filtered.csv'\n",
        "ts = pd.read_csv(file_path_test)"
      ]
    },
    {
      "cell_type": "code",
      "execution_count": null,
      "metadata": {
        "colab": {
          "base_uri": "https://localhost:8080/",
          "height": 523
        },
        "collapsed": true,
        "id": "NC9WwXPL422W",
        "outputId": "50ac84d6-1110-4321-c018-6b5ef8ecc901"
      },
      "outputs": [
        {
          "output_type": "execute_result",
          "data": {
            "text/plain": [
              "label\n",
              "DDoS-ICMP_Flood            35666\n",
              "DDoS-UDP_Flood             26945\n",
              "DDoS-TCP_Flood             22191\n",
              "DDoS-SYN_Flood             20166\n",
              "DDoS-RSTFINFlood           20085\n",
              "DDoS-PSHACK_Flood          19944\n",
              "DDoS-SynonymousIP_Flood    17732\n",
              "BenignTraffic               5397\n",
              "DDoS-ICMP_Fragmentation     2271\n",
              "DDoS-UDP_Fragmentation      1445\n",
              "DDoS-ACK_Fragmentation      1438\n",
              "DDoS-SlowLoris               129\n",
              "DDoS-HTTP_Flood              118\n",
              "Name: count, dtype: int64"
            ],
            "text/html": [
              "<div>\n",
              "<style scoped>\n",
              "    .dataframe tbody tr th:only-of-type {\n",
              "        vertical-align: middle;\n",
              "    }\n",
              "\n",
              "    .dataframe tbody tr th {\n",
              "        vertical-align: top;\n",
              "    }\n",
              "\n",
              "    .dataframe thead th {\n",
              "        text-align: right;\n",
              "    }\n",
              "</style>\n",
              "<table border=\"1\" class=\"dataframe\">\n",
              "  <thead>\n",
              "    <tr style=\"text-align: right;\">\n",
              "      <th></th>\n",
              "      <th>count</th>\n",
              "    </tr>\n",
              "    <tr>\n",
              "      <th>label</th>\n",
              "      <th></th>\n",
              "    </tr>\n",
              "  </thead>\n",
              "  <tbody>\n",
              "    <tr>\n",
              "      <th>DDoS-ICMP_Flood</th>\n",
              "      <td>35666</td>\n",
              "    </tr>\n",
              "    <tr>\n",
              "      <th>DDoS-UDP_Flood</th>\n",
              "      <td>26945</td>\n",
              "    </tr>\n",
              "    <tr>\n",
              "      <th>DDoS-TCP_Flood</th>\n",
              "      <td>22191</td>\n",
              "    </tr>\n",
              "    <tr>\n",
              "      <th>DDoS-SYN_Flood</th>\n",
              "      <td>20166</td>\n",
              "    </tr>\n",
              "    <tr>\n",
              "      <th>DDoS-RSTFINFlood</th>\n",
              "      <td>20085</td>\n",
              "    </tr>\n",
              "    <tr>\n",
              "      <th>DDoS-PSHACK_Flood</th>\n",
              "      <td>19944</td>\n",
              "    </tr>\n",
              "    <tr>\n",
              "      <th>DDoS-SynonymousIP_Flood</th>\n",
              "      <td>17732</td>\n",
              "    </tr>\n",
              "    <tr>\n",
              "      <th>BenignTraffic</th>\n",
              "      <td>5397</td>\n",
              "    </tr>\n",
              "    <tr>\n",
              "      <th>DDoS-ICMP_Fragmentation</th>\n",
              "      <td>2271</td>\n",
              "    </tr>\n",
              "    <tr>\n",
              "      <th>DDoS-UDP_Fragmentation</th>\n",
              "      <td>1445</td>\n",
              "    </tr>\n",
              "    <tr>\n",
              "      <th>DDoS-ACK_Fragmentation</th>\n",
              "      <td>1438</td>\n",
              "    </tr>\n",
              "    <tr>\n",
              "      <th>DDoS-SlowLoris</th>\n",
              "      <td>129</td>\n",
              "    </tr>\n",
              "    <tr>\n",
              "      <th>DDoS-HTTP_Flood</th>\n",
              "      <td>118</td>\n",
              "    </tr>\n",
              "  </tbody>\n",
              "</table>\n",
              "</div><br><label><b>dtype:</b> int64</label>"
            ]
          },
          "metadata": {},
          "execution_count": 159
        }
      ],
      "source": [
        "targeclasses = ['DDoS-ICMP_Flood','DDoS-UDP_Flood','DDoS-TCP_Flood','DDoS-PSHACK_Flood','DDoS-SYN_Flood','DDoS-RSTFINFlood','DDoS-SynonymousIP_Flood','DDoS-ICMP_Fragmentation','DDoS-UDP_Fragmentation','DDoS-ACK_Fragmentation','DDoS-UDP_Fragmentation','DDoS-HTTP_Flood','DDoS-SlowLoris','BenignTraffic']\n",
        "ts = ts[ts['label'].isin(targeclasses)]\n",
        "ts['label'].value_counts()"
      ]
    },
    {
      "cell_type": "code",
      "execution_count": null,
      "metadata": {
        "id": "bJXqgoaU4rMo"
      },
      "outputs": [],
      "source": [
        "# List of features to drop\n",
        "features_to_drop = ['Min', 'Max', 'Std', 'Variance', 'Covariance', 'Weight', 'AVG', 'Magnitue', 'Radius']\n",
        "\n",
        "# Drop the specified features\n",
        "ts = ts.drop(columns=features_to_drop)"
      ]
    },
    {
      "cell_type": "code",
      "execution_count": null,
      "metadata": {
        "colab": {
          "base_uri": "https://localhost:8080/"
        },
        "collapsed": true,
        "id": "Hsdiw3tY5hEM",
        "outputId": "72517615-1dc5-4dea-eb5a-72ce5adccc78"
      },
      "outputs": [
        {
          "output_type": "stream",
          "name": "stdout",
          "text": [
            "<class 'pandas.core.frame.DataFrame'>\n",
            "Index: 173527 entries, 0 to 231062\n",
            "Data columns (total 38 columns):\n",
            " #   Column           Non-Null Count   Dtype  \n",
            "---  ------           --------------   -----  \n",
            " 0   flow_duration    173527 non-null  float64\n",
            " 1   Header_Length    173527 non-null  float64\n",
            " 2   Protocol Type    173527 non-null  float64\n",
            " 3   Duration         173527 non-null  float64\n",
            " 4   Rate             173527 non-null  float64\n",
            " 5   Srate            173527 non-null  float64\n",
            " 6   Drate            173527 non-null  float64\n",
            " 7   fin_flag_number  173527 non-null  float64\n",
            " 8   syn_flag_number  173527 non-null  float64\n",
            " 9   rst_flag_number  173527 non-null  float64\n",
            " 10  psh_flag_number  173527 non-null  float64\n",
            " 11  ack_flag_number  173527 non-null  float64\n",
            " 12  ece_flag_number  173527 non-null  float64\n",
            " 13  cwr_flag_number  173527 non-null  float64\n",
            " 14  ack_count        173527 non-null  float64\n",
            " 15  syn_count        173527 non-null  float64\n",
            " 16  fin_count        173527 non-null  float64\n",
            " 17  urg_count        173527 non-null  float64\n",
            " 18  rst_count        173527 non-null  float64\n",
            " 19  HTTP             173527 non-null  float64\n",
            " 20  HTTPS            173527 non-null  float64\n",
            " 21  DNS              173527 non-null  float64\n",
            " 22  Telnet           173527 non-null  float64\n",
            " 23  SMTP             173527 non-null  float64\n",
            " 24  SSH              173527 non-null  float64\n",
            " 25  IRC              173527 non-null  float64\n",
            " 26  TCP              173527 non-null  float64\n",
            " 27  UDP              173527 non-null  float64\n",
            " 28  DHCP             173527 non-null  float64\n",
            " 29  ARP              173527 non-null  float64\n",
            " 30  ICMP             173527 non-null  float64\n",
            " 31  IPv              173527 non-null  float64\n",
            " 32  LLC              173527 non-null  float64\n",
            " 33  Tot sum          173527 non-null  float64\n",
            " 34  Tot size         173527 non-null  float64\n",
            " 35  IAT              173527 non-null  float64\n",
            " 36  Number           173527 non-null  float64\n",
            " 37  label            173527 non-null  object \n",
            "dtypes: float64(37), object(1)\n",
            "memory usage: 51.6+ MB\n"
          ]
        }
      ],
      "source": [
        "ts.info()"
      ]
    },
    {
      "cell_type": "code",
      "execution_count": null,
      "metadata": {
        "id": "JKiWbbgV5Lp9"
      },
      "outputs": [],
      "source": [
        "ts['label'] = ts['label'].apply(lambda x: 1 if x in ['BenignTraffic'] else 0)"
      ]
    },
    {
      "cell_type": "code",
      "execution_count": null,
      "metadata": {
        "colab": {
          "base_uri": "https://localhost:8080/",
          "height": 178
        },
        "id": "RAIaGqdHD09Y",
        "outputId": "54ba69d0-805b-466f-c46e-877801ffefba"
      },
      "outputs": [
        {
          "output_type": "execute_result",
          "data": {
            "text/plain": [
              "label\n",
              "0    168130\n",
              "1      5397\n",
              "Name: count, dtype: int64"
            ],
            "text/html": [
              "<div>\n",
              "<style scoped>\n",
              "    .dataframe tbody tr th:only-of-type {\n",
              "        vertical-align: middle;\n",
              "    }\n",
              "\n",
              "    .dataframe tbody tr th {\n",
              "        vertical-align: top;\n",
              "    }\n",
              "\n",
              "    .dataframe thead th {\n",
              "        text-align: right;\n",
              "    }\n",
              "</style>\n",
              "<table border=\"1\" class=\"dataframe\">\n",
              "  <thead>\n",
              "    <tr style=\"text-align: right;\">\n",
              "      <th></th>\n",
              "      <th>count</th>\n",
              "    </tr>\n",
              "    <tr>\n",
              "      <th>label</th>\n",
              "      <th></th>\n",
              "    </tr>\n",
              "  </thead>\n",
              "  <tbody>\n",
              "    <tr>\n",
              "      <th>0</th>\n",
              "      <td>168130</td>\n",
              "    </tr>\n",
              "    <tr>\n",
              "      <th>1</th>\n",
              "      <td>5397</td>\n",
              "    </tr>\n",
              "  </tbody>\n",
              "</table>\n",
              "</div><br><label><b>dtype:</b> int64</label>"
            ]
          },
          "metadata": {},
          "execution_count": 163
        }
      ],
      "source": [
        "ts['label'].value_counts()"
      ]
    },
    {
      "cell_type": "code",
      "execution_count": null,
      "metadata": {
        "colab": {
          "base_uri": "https://localhost:8080/",
          "height": 556
        },
        "collapsed": true,
        "id": "Hg-zczx40fiz",
        "outputId": "40f2e9c7-ad21-47cf-e51b-21478f2d82e7"
      },
      "outputs": [
        {
          "output_type": "stream",
          "name": "stderr",
          "text": [
            "<ipython-input-164-5ef315cf1934>:2: FutureWarning: \n",
            "\n",
            "Passing `palette` without assigning `hue` is deprecated and will be removed in v0.14.0. Assign the `x` variable to `hue` and set `legend=False` for the same effect.\n",
            "\n",
            "  sns.countplot(x='label', data=ts, palette=pal)\n"
          ]
        },
        {
          "output_type": "execute_result",
          "data": {
            "text/plain": [
              "<Axes: xlabel='label', ylabel='count'>"
            ]
          },
          "metadata": {},
          "execution_count": 164
        },
        {
          "output_type": "display_data",
          "data": {
            "text/plain": [
              "<Figure size 640x480 with 1 Axes>"
            ],
            "image/png": "[encoded data removed]"
          },
          "metadata": {}
        }
      ],
      "source": [
        "pal = sns.color_palette(\"hsv\", 2)\n",
        "sns.countplot(x='label', data=ts, palette=pal)"
      ]
    },
    {
      "cell_type": "code",
      "execution_count": null,
      "metadata": {
        "id": "58tKniD_UGQN"
      },
      "outputs": [],
      "source": [
        "# ts.to_csv('/content/gdrive/MyDrive/CICIoT2023_DATASET/All-forty-files/Final_Folder/newVariableWL-big.csv', index=False)"
      ]
    },
    {
      "cell_type": "code",
      "execution_count": null,
      "metadata": {
        "colab": {
          "base_uri": "https://localhost:8080/"
        },
        "collapsed": true,
        "id": "zMLa1Z2r4Ct0",
        "outputId": "47673383-175f-4896-fe38-1299230ae654"
      },
      "outputs": [
        {
          "output_type": "stream",
          "name": "stdout",
          "text": [
            "<class 'pandas.core.frame.DataFrame'>\n",
            "RangeIndex: 3200 entries, 0 to 3199\n",
            "Data columns (total 38 columns):\n",
            " #   Column           Non-Null Count  Dtype  \n",
            "---  ------           --------------  -----  \n",
            " 0   flow_duration    3200 non-null   float64\n",
            " 1   Header_Length    3200 non-null   float64\n",
            " 2   Protocol Type    3200 non-null   float64\n",
            " 3   Duration         3200 non-null   float64\n",
            " 4   Rate             3200 non-null   float64\n",
            " 5   Srate            3200 non-null   float64\n",
            " 6   Drate            3200 non-null   float64\n",
            " 7   fin_flag_number  3200 non-null   float64\n",
            " 8   syn_flag_number  3200 non-null   float64\n",
            " 9   rst_flag_number  3200 non-null   float64\n",
            " 10  psh_flag_number  3200 non-null   float64\n",
            " 11  ack_flag_number  3200 non-null   float64\n",
            " 12  ece_flag_number  3200 non-null   float64\n",
            " 13  cwr_flag_number  3200 non-null   float64\n",
            " 14  ack_count        3200 non-null   float64\n",
            " 15  syn_count        3200 non-null   float64\n",
            " 16  fin_count        3200 non-null   float64\n",
            " 17  urg_count        3200 non-null   float64\n",
            " 18  rst_count        3200 non-null   float64\n",
            " 19  HTTP             3200 non-null   float64\n",
            " 20  HTTPS            3200 non-null   float64\n",
            " 21  DNS              3200 non-null   float64\n",
            " 22  Telnet           3200 non-null   float64\n",
            " 23  SMTP             3200 non-null   float64\n",
            " 24  SSH              3200 non-null   float64\n",
            " 25  IRC              3200 non-null   float64\n",
            " 26  TCP              3200 non-null   float64\n",
            " 27  UDP              3200 non-null   float64\n",
            " 28  DHCP             3200 non-null   float64\n",
            " 29  ARP              3200 non-null   float64\n",
            " 30  ICMP             3200 non-null   float64\n",
            " 31  IPv              3200 non-null   float64\n",
            " 32  LLC              3200 non-null   float64\n",
            " 33  Tot sum          3200 non-null   float64\n",
            " 34  Tot size         3200 non-null   float64\n",
            " 35  IAT              3200 non-null   float64\n",
            " 36  Number           3200 non-null   float64\n",
            " 37  label            3200 non-null   int64  \n",
            "dtypes: float64(37), int64(1)\n",
            "memory usage: 950.1 KB\n"
          ]
        }
      ],
      "source": [
        "# Assuming the class labels are in a column named 'label'\n",
        "label_column = 'label'  # Replace with the actual name of your label column\n",
        "\n",
        "# Filter the dataset into two subsets\n",
        "class_0 = ts[ts[label_column] == 0]\n",
        "class_1 = ts[ts[label_column] == 1]\n",
        "\n",
        "# Sample 50 datapoints from each class\n",
        "sample_class_0 = class_0.sample(n=1600, random_state=42)\n",
        "sample_class_1 = class_1.sample(n=1600, random_state=42)\n",
        "\n",
        "# Combine the sampled datapoints into a single DataFrame\n",
        "sample_df = pd.concat([sample_class_0, sample_class_1])\n",
        "\n",
        "# If needed, reset the index\n",
        "sample_df.reset_index(drop=True, inplace=True)\n",
        "# sample_df = sample_df[top_features]\n",
        "# sample_df = sample_df.drop(columns='label')\n",
        "\n",
        "sample_df.info()"
      ]
    },
    {
      "cell_type": "code",
      "execution_count": null,
      "metadata": {
        "id": "XnVkCrcDrf6a"
      },
      "outputs": [],
      "source": [
        "# ts.to_csv('/content/gdrive/MyDrive/CICIoT2023_DATASET/All-forty-files/Final_Folder/newVariableWL-big.csv', index=False)"
      ]
    },
    {
      "cell_type": "code",
      "execution_count": null,
      "metadata": {
        "collapsed": true,
        "id": "qlAO4ejsEb5N"
      },
      "outputs": [],
      "source": [
        "# sample_df = sample_df.drop(columns='label')"
      ]
    },
    {
      "cell_type": "code",
      "execution_count": null,
      "metadata": {
        "id": "c4Ln2CMeETI7"
      },
      "outputs": [],
      "source": [
        "sample_df.to_csv('/content/gdrive/MyDrive/CICIoT2023_DATASET/All-forty-files/Final_Folder/test_set.csv', index=False)"
      ]
    },
    {
      "cell_type": "code",
      "execution_count": null,
      "metadata": {
        "id": "PP00KlnmEMEv"
      },
      "outputs": [],
      "source": [
        "test_set = '/content/gdrive/MyDrive/CICIoT2023_DATASET/All-forty-files/Final_Folder/test_set.csv'\n",
        "tIs = pd.read_csv(test_set)"
      ]
    },
    {
      "cell_type": "code",
      "execution_count": null,
      "metadata": {
        "id": "LhkqA4H-sTFE"
      },
      "outputs": [],
      "source": [
        "X_test = tIs.drop('label', axis=1)\n",
        "X_test = X_test[top_features]\n",
        "X_test_scaled = scaler.transform(X_test)\n",
        "\n",
        "y_test = tIs['label']"
      ]
    },
    {
      "cell_type": "code",
      "execution_count": null,
      "metadata": {
        "id": "SIlQTqok5Qhy"
      },
      "outputs": [],
      "source": [
        "# ts['label'].value_counts()"
      ]
    },
    {
      "cell_type": "code",
      "execution_count": null,
      "metadata": {
        "id": "2qd5NXkI5Rvq"
      },
      "outputs": [],
      "source": [
        "# X_test = ts.drop('label', axis=1)\n",
        "# X_test = X_test[top_features]\n",
        "# X_test_scaled = scaler.transform(X_test)\n",
        "\n",
        "# y_test = ts['label']"
      ]
    },
    {
      "cell_type": "code",
      "execution_count": null,
      "metadata": {
        "id": "vxBLWK1i5X1Z"
      },
      "outputs": [],
      "source": [
        "svc_pred_test = svc_model.predict(X_test_scaled)"
      ]
    },
    {
      "cell_type": "code",
      "execution_count": null,
      "metadata": {
        "colab": {
          "base_uri": "https://localhost:8080/"
        },
        "id": "bkKpOo-w5aJe",
        "outputId": "61766b5f-a2ee-4019-df2a-0c2570b451ae"
      },
      "outputs": [
        {
          "output_type": "stream",
          "name": "stdout",
          "text": [
            "\n",
            "SVC Test Accuracy: 0.99844\n",
            "SVC Test Recall: 1.00000\n",
            "SVC Test Precision: 0.99688\n",
            "SVC Test F1: 0.99844\n",
            "\n",
            "SVC Test Classification Report:\n",
            "               precision    recall  f1-score   support\n",
            "\n",
            "           0       1.00      1.00      1.00      1600\n",
            "           1       1.00      1.00      1.00      1600\n",
            "\n",
            "    accuracy                           1.00      3200\n",
            "   macro avg       1.00      1.00      1.00      3200\n",
            "weighted avg       1.00      1.00      1.00      3200\n",
            "\n"
          ]
        }
      ],
      "source": [
        "# Print out the evaluation metrics for validation set\n",
        "accuracy_svc = accuracy_score(y_test, svc_pred_test)\n",
        "recall_svc = recall_score(y_test, svc_pred_test)\n",
        "precision_svc = precision_score(y_test, svc_pred_test)\n",
        "f1_svc = f1_score(y_test, svc_pred_test)\n",
        "\n",
        "# Print the metrics with 5 decimal places\n",
        "print()\n",
        "print(f\"SVC Test Accuracy: {accuracy_svc:.5f}\")\n",
        "print(f\"SVC Test Recall: {recall_svc:.5f}\")\n",
        "print(f\"SVC Test Precision: {precision_svc:.5f}\")\n",
        "print(f\"SVC Test F1: {f1_svc:.5f}\")\n",
        "print()\n",
        "print(\"SVC Test Classification Report:\\n\", classification_report(y_test, svc_pred_test))"
      ]
    },
    {
      "cell_type": "code",
      "execution_count": null,
      "metadata": {
        "colab": {
          "base_uri": "https://localhost:8080/",
          "height": 472
        },
        "id": "_qJFlQUw5cnc",
        "outputId": "c50cbf88-6612-4500-dba0-86ef10bda452"
      },
      "outputs": [
        {
          "output_type": "display_data",
          "data": {
            "text/plain": [
              "<Figure size 640x480 with 2 Axes>"
            ],
            "image/png": "[encoded data removed]"
          },
          "metadata": {}
        }
      ],
      "source": [
        "# Confusion matrix\n",
        "conf_matrix = confusion_matrix(y_test, svc_pred_test)\n",
        "sns.heatmap(conf_matrix, annot=True, fmt='d', cmap='Blues')\n",
        "plt.xlabel('Predicted Classes')\n",
        "plt.ylabel('Actual Classes')\n",
        "plt.title('Confusion Matrix for SVC')\n",
        "plt.show()"
      ]
    },
    {
      "cell_type": "markdown",
      "metadata": {
        "id": "G754prMudNUJ"
      },
      "source": [
        "**Save svc model**"
      ]
    },
    {
      "cell_type": "code",
      "execution_count": null,
      "metadata": {
        "id": "Sx8FvpOGdMwk"
      },
      "outputs": [],
      "source": [
        "# save SVC Model\n",
        "with open('/content/gdrive/MyDrive/CICIoT2023_DATASET/All-forty-files/Final_Folder/Models/svc_model_manual.pkl', \"wb\") as fs:\n",
        "  pickle.dump(svc_model, fs)"
      ]
    },
    {
      "cell_type": "markdown",
      "metadata": {
        "id": "77ogPTdz5qEU"
      },
      "source": [
        "**Random Forest**"
      ]
    },
    {
      "cell_type": "code",
      "execution_count": null,
      "metadata": {
        "id": "bt7Scn6y5mdM",
        "colab": {
          "base_uri": "https://localhost:8080/",
          "height": 75
        },
        "outputId": "0c9e0498-a515-4b66-b35e-389e47c20349"
      },
      "outputs": [
        {
          "output_type": "execute_result",
          "data": {
            "text/plain": [
              "RandomForestClassifier()"
            ],
            "text/html": [
              "<style>#sk-container-id-4 {color: black;}#sk-container-id-4 pre{padding: 0;}#sk-container-id-4 div.sk-toggleable {background-color: white;}#sk-container-id-4 label.sk-toggleable__label {cursor: pointer;display: block;width: 100%;margin-bottom: 0;padding: 0.3em;box-sizing: border-box;text-align: center;}#sk-container-id-4 label.sk-toggleable__label-arrow:before {content: \"▸\";float: left;margin-right: 0.25em;color: #696969;}#sk-container-id-4 label.sk-toggleable__label-arrow:hover:before {color: black;}#sk-container-id-4 div.sk-estimator:hover label.sk-toggleable__label-arrow:before {color: black;}#sk-container-id-4 div.sk-toggleable__content {max-height: 0;max-width: 0;overflow: hidden;text-align: left;background-color: #f0f8ff;}#sk-container-id-4 div.sk-toggleable__content pre {margin: 0.2em;color: black;border-radius: 0.25em;background-color: #f0f8ff;}#sk-container-id-4 input.sk-toggleable__control:checked~div.sk-toggleable__content {max-height: 200px;max-width: 100%;overflow: auto;}#sk-container-id-4 input.sk-toggleable__control:checked~label.sk-toggleable__label-arrow:before {content: \"▾\";}#sk-container-id-4 div.sk-estimator input.sk-toggleable__control:checked~label.sk-toggleable__label {background-color: #d4ebff;}#sk-container-id-4 div.sk-label input.sk-toggleable__control:checked~label.sk-toggleable__label {background-color: #d4ebff;}#sk-container-id-4 input.sk-hidden--visually {border: 0;clip: rect(1px 1px 1px 1px);clip: rect(1px, 1px, 1px, 1px);height: 1px;margin: -1px;overflow: hidden;padding: 0;position: absolute;width: 1px;}#sk-container-id-4 div.sk-estimator {font-family: monospace;background-color: #f0f8ff;border: 1px dotted black;border-radius: 0.25em;box-sizing: border-box;margin-bottom: 0.5em;}#sk-container-id-4 div.sk-estimator:hover {background-color: #d4ebff;}#sk-container-id-4 div.sk-parallel-item::after {content: \"\";width: 100%;border-bottom: 1px solid gray;flex-grow: 1;}#sk-container-id-4 div.sk-label:hover label.sk-toggleable__label {background-color: #d4ebff;}#sk-container-id-4 div.sk-serial::before {content: \"\";position: absolute;border-left: 1px solid gray;box-sizing: border-box;top: 0;bottom: 0;left: 50%;z-index: 0;}#sk-container-id-4 div.sk-serial {display: flex;flex-direction: column;align-items: center;background-color: white;padding-right: 0.2em;padding-left: 0.2em;position: relative;}#sk-container-id-4 div.sk-item {position: relative;z-index: 1;}#sk-container-id-4 div.sk-parallel {display: flex;align-items: stretch;justify-content: center;background-color: white;position: relative;}#sk-container-id-4 div.sk-item::before, #sk-container-id-4 div.sk-parallel-item::before {content: \"\";position: absolute;border-left: 1px solid gray;box-sizing: border-box;top: 0;bottom: 0;left: 50%;z-index: -1;}#sk-container-id-4 div.sk-parallel-item {display: flex;flex-direction: column;z-index: 1;position: relative;background-color: white;}#sk-container-id-4 div.sk-parallel-item:first-child::after {align-self: flex-end;width: 50%;}#sk-container-id-4 div.sk-parallel-item:last-child::after {align-self: flex-start;width: 50%;}#sk-container-id-4 div.sk-parallel-item:only-child::after {width: 0;}#sk-container-id-4 div.sk-dashed-wrapped {border: 1px dashed gray;margin: 0 0.4em 0.5em 0.4em;box-sizing: border-box;padding-bottom: 0.4em;background-color: white;}#sk-container-id-4 div.sk-label label {font-family: monospace;font-weight: bold;display: inline-block;line-height: 1.2em;}#sk-container-id-4 div.sk-label-container {text-align: center;}#sk-container-id-4 div.sk-container {/* jupyter's `normalize.less` sets `[hidden] { display: none; }` but bootstrap.min.css set `[hidden] { display: none !important; }` so we also need the `!important` here to be able to override the default hidden behavior on the sphinx rendered scikit-learn.org. See: https://github.com/scikit-learn/scikit-learn/issues/21755 */display: inline-block !important;position: relative;}#sk-container-id-4 div.sk-text-repr-fallback {display: none;}</style><div id=\"sk-container-id-4\" class=\"sk-top-container\"><div class=\"sk-text-repr-fallback\"><pre>RandomForestClassifier()</pre><b>In a Jupyter environment, please rerun this cell to show the HTML representation or trust the notebook. <br />On GitHub, the HTML representation is unable to render, please try loading this page with nbviewer.org.</b></div><div class=\"sk-container\" hidden><div class=\"sk-item\"><div class=\"sk-estimator sk-toggleable\"><input class=\"sk-toggleable__control sk-hidden--visually\" id=\"sk-estimator-id-4\" type=\"checkbox\" checked><label for=\"sk-estimator-id-4\" class=\"sk-toggleable__label sk-toggleable__label-arrow\">RandomForestClassifier</label><div class=\"sk-toggleable__content\"><pre>RandomForestClassifier()</pre></div></div></div></div></div>"
            ]
          },
          "metadata": {},
          "execution_count": 178
        }
      ],
      "source": [
        "rf_model = RandomForestClassifier(n_estimators=100)\n",
        "rf_model.fit(X_train_scaled, y_train)"
      ]
    },
    {
      "cell_type": "code",
      "execution_count": null,
      "metadata": {
        "id": "RcEDUnPWhFiU"
      },
      "outputs": [],
      "source": [
        "# from sklearn.metrics import accuracy_score, log_loss\n",
        "\n",
        "# # Assuming X_train_scaled, X_remaining_scaled, y_train, and y_remaining are already defined\n",
        "\n",
        "# # Define range of number of trees to evaluate\n",
        "# max_trees = 100\n",
        "# increment = 20\n",
        "\n",
        "# # Initialize lists to store errors and accuracies\n",
        "# train_losses = []\n",
        "# val_losses = []\n",
        "# train_accuracies = []\n",
        "# val_accuracies = []\n",
        "# n_trees_list = []\n",
        "\n",
        "# # Train models with incremental number of trees\n",
        "# for n in range(increment, max_trees + 1, increment):\n",
        "#     rf_model = RandomForestClassifier(n_estimators=n, random_state=42)\n",
        "#     rf_model.fit(X_train_scaled, y_train)\n",
        "\n",
        "#     # Predict on training and validation sets\n",
        "#     train_pred = rf_model.predict(X_train_scaled)\n",
        "#     val_pred = rf_model.predict(X_remaining_scaled)\n",
        "\n",
        "#     # Predict probabilities for log loss calculation\n",
        "#     train_pred_proba = rf_model.predict_proba(X_train_scaled)\n",
        "#     val_pred_proba = rf_model.predict_proba(X_remaining_scaled)\n",
        "\n",
        "#     # Calculate accuracies\n",
        "#     train_accuracy = accuracy_score(y_train, train_pred)\n",
        "#     val_accuracy = accuracy_score(y_remaining, val_pred)\n",
        "\n",
        "#     # Calculate log loss\n",
        "#     train_loss = log_loss(y_train, train_pred_proba)\n",
        "#     val_loss = log_loss(y_remaining, val_pred_proba)\n",
        "\n",
        "#     # Store results\n",
        "#     train_losses.append(train_loss)\n",
        "#     val_losses.append(val_loss)\n",
        "#     train_accuracies.append(train_accuracy)\n",
        "#     val_accuracies.append(val_accuracy)\n",
        "#     n_trees_list.append(n)\n",
        "\n",
        "# # Plot errors against number of trees\n",
        "# plt.figure(figsize=(15, 6))\n",
        "\n",
        "# # Loss plot\n",
        "# plt.subplot(1, 2, 1)\n",
        "# plt.plot(n_trees_list, train_losses, label='Training Loss', marker='o', color='blue')\n",
        "# plt.plot(n_trees_list, val_losses, label='Validation Loss', marker='o', color='orange')\n",
        "# plt.xlabel('Number of Trees')\n",
        "# plt.ylabel('Loss')\n",
        "# plt.title('Loss vs. Number of Trees in RandomForest')\n",
        "# plt.legend()\n",
        "\n",
        "# # Accuracy plot\n",
        "# plt.subplot(1, 2, 2)\n",
        "# plt.plot(n_trees_list, train_accuracies, label='Training Accuracy', marker='o', color='blue')\n",
        "# plt.plot(n_trees_list, val_accuracies, label='Validation Accuracy', marker='o', color='orange')\n",
        "# plt.xlabel('Number of Trees')\n",
        "# plt.ylabel('Accuracy')\n",
        "# plt.title('Accuracy vs. Number of Trees in RandomForest')\n",
        "# plt.legend()\n",
        "\n",
        "# plt.tight_layout()\n",
        "# plt.show()\n",
        "\n",
        "# Define range of number of trees to evaluate\n",
        "# max_trees = 100\n",
        "# increment = 20\n",
        "\n",
        "# # Initialize lists to store errors and accuracies\n",
        "# train_errors = []\n",
        "# val_errors = []\n",
        "# train_accuracies = []\n",
        "# val_accuracies = []\n",
        "# n_trees_list = []\n",
        "\n",
        "# # Train models with incremental number of trees\n",
        "# for n in range(increment, max_trees + 1, increment):\n",
        "#     rf_model = RandomForestClassifier(n_estimators=n, random_state=42)\n",
        "#     rf_model.fit(X_train_scaled, y_train)\n",
        "\n",
        "#     # Predict on training and validation sets\n",
        "#     train_pred = rf_model.predict(X_train_scaled)\n",
        "#     val_pred = rf_model.predict(X_remaining_scaled)\n",
        "\n",
        "#     # Predict probabilities for log loss calculation\n",
        "#     train_pred_proba = rf_model.predict_proba(X_train_scaled)\n",
        "#     val_pred_proba = rf_model.predict_proba(X_remaining_scaled)\n",
        "\n",
        "#     # Calculate errors and accuracies\n",
        "#     train_error = 1 - accuracy_score(y_train, train_pred)\n",
        "#     val_error = 1 - accuracy_score(y_remaining, val_pred)\n",
        "\n",
        "#     train_accuracy = accuracy_score(y_train, train_pred)\n",
        "#     val_accuracy = accuracy_score(y_remaining, val_pred)\n",
        "\n",
        "#     # Calculate log loss\n",
        "#     train_loss = log_loss(y_train, train_pred_proba)\n",
        "#     val_loss = log_loss(y_remaining, val_pred_proba)\n",
        "\n",
        "#     # Store results\n",
        "#     train_errors.append(train_loss)\n",
        "#     val_errors.append(val_loss)\n",
        "#     train_accuracies.append(train_accuracy)\n",
        "#     val_accuracies.append(val_accuracy)\n",
        "#     n_trees_list.append(n)\n",
        "\n",
        "\n",
        "# # Plot errors against number of trees\n",
        "# plt.figure(figsize=(15, 6))  # Increase the width of the plot\n",
        "\n",
        "# plt.subplot(1, 2, 1)\n",
        "# plt.plot(n_trees_list, train_errors, label='Training Loss', marker='o')\n",
        "# plt.plot(n_trees_list, val_errors, label='Validation Loss', marker='o')\n",
        "# plt.xlabel('Number of Trees')\n",
        "# plt.ylabel('Loss')\n",
        "# plt.title('Loss vs. Number of Trees in RandomForest')\n",
        "# plt.legend()\n",
        "# plt.grid(True)\n",
        "# plt.xticks(n_trees_list)  # Ensure all x-ticks are shown\n",
        "\n",
        "# plt.subplot(1, 2, 2)\n",
        "# plt.plot(n_trees_list, train_accuracies, label='Training Accuracy', marker='o')\n",
        "# plt.plot(n_trees_list, val_accuracies, label='Validation Accuracy', marker='o')\n",
        "# plt.xlabel('Number of Trees')\n",
        "# plt.ylabel('Accuracy')\n",
        "# plt.title('Accuracy vs. Number of Trees in RandomForest')\n",
        "# plt.legend()\n",
        "# plt.grid(True)\n",
        "# plt.xticks(n_trees_list)  # Ensure all x-ticks are shown\n",
        "\n",
        "# plt.tight_layout()\n",
        "# plt.show()\n"
      ]
    },
    {
      "cell_type": "markdown",
      "metadata": {
        "id": "fmoJD-nu5xtY"
      },
      "source": [
        "**Evaluation on validation set**"
      ]
    },
    {
      "cell_type": "code",
      "execution_count": null,
      "metadata": {
        "id": "O9wZK_7C5zwZ"
      },
      "outputs": [],
      "source": [
        "# Evaluate the models on the validation set\n",
        "rf_pred_val = rf_model.predict(X_remaining_scaled)"
      ]
    },
    {
      "cell_type": "code",
      "execution_count": null,
      "metadata": {
        "id": "76o_tDQn52qS",
        "colab": {
          "base_uri": "https://localhost:8080/"
        },
        "outputId": "252af6bc-bd4c-49fd-8ee3-95638173946a",
        "collapsed": true
      },
      "outputs": [
        {
          "output_type": "stream",
          "name": "stdout",
          "text": [
            "\n",
            "RF Validation Accuracy: 0.99912\n",
            "RF Validation Recall: 1.00000\n",
            "RF Validation Precision: 0.99822\n",
            "RF Validation F1: 0.99911\n",
            "\n",
            "RF Validation Classification Report:\n",
            "               precision    recall  f1-score   support\n",
            "\n",
            "           0       1.00      1.00      1.00      1150\n",
            "           1       1.00      1.00      1.00      1120\n",
            "\n",
            "    accuracy                           1.00      2270\n",
            "   macro avg       1.00      1.00      1.00      2270\n",
            "weighted avg       1.00      1.00      1.00      2270\n",
            "\n"
          ]
        }
      ],
      "source": [
        "# Print out the evaluation metrics for validation set\n",
        "accuracy_r = accuracy_score(y_remaining, rf_pred_val)\n",
        "recall_r = recall_score(y_remaining, rf_pred_val)\n",
        "precision_r = precision_score(y_remaining, rf_pred_val)\n",
        "f1_r = f1_score(y_remaining, rf_pred_val)\n",
        "\n",
        "# Print the metrics with 5 decimal places\n",
        "print()\n",
        "print(f\"RF Validation Accuracy: {accuracy_r:.5f}\")\n",
        "print(f\"RF Validation Recall: {recall_r:.5f}\")\n",
        "print(f\"RF Validation Precision: {precision_r:.5f}\")\n",
        "print(f\"RF Validation F1: {f1_r:.5f}\")\n",
        "\n",
        "print()\n",
        "print(\"RF Validation Classification Report:\\n\", classification_report(y_remaining, rf_pred_val))"
      ]
    },
    {
      "cell_type": "code",
      "execution_count": null,
      "metadata": {
        "id": "Kpg3MPiy3Wud",
        "colab": {
          "base_uri": "https://localhost:8080/",
          "height": 472
        },
        "outputId": "2f0e8312-3d4d-4e9e-d690-6bfe70d380a2",
        "collapsed": true
      },
      "outputs": [
        {
          "output_type": "display_data",
          "data": {
            "text/plain": [
              "<Figure size 640x480 with 2 Axes>"
            ],
            "image/png": "[encoded data removed]"
          },
          "metadata": {}
        }
      ],
      "source": [
        "# Confusion matrix\n",
        "conf_matrix = confusion_matrix(y_remaining, rf_pred_val)\n",
        "sns.heatmap(conf_matrix, annot=True, fmt='d', cmap='Reds')\n",
        "plt.xlabel('Predicted Classes')\n",
        "plt.ylabel('Actual Classes')\n",
        "plt.title('Confusion Matrix for Random Forest')\n",
        "plt.show()"
      ]
    },
    {
      "cell_type": "markdown",
      "metadata": {
        "id": "G71VKbiF57Kj"
      },
      "source": [
        "**Evaluation on test set**"
      ]
    },
    {
      "cell_type": "code",
      "execution_count": null,
      "metadata": {
        "id": "3tLi3n0V5_Vk"
      },
      "outputs": [],
      "source": [
        "rf_pred_test = rf_model.predict(X_test_scaled)"
      ]
    },
    {
      "cell_type": "code",
      "execution_count": null,
      "metadata": {
        "id": "cYs9xj8x6DVV",
        "colab": {
          "base_uri": "https://localhost:8080/"
        },
        "outputId": "2810dbff-ced7-4c54-b616-decc00258333"
      },
      "outputs": [
        {
          "output_type": "stream",
          "name": "stdout",
          "text": [
            "\n",
            "RF Test Accuracy: 0.99906\n",
            "RF Test Recall: 1.00000\n",
            "RF Test Precision: 0.99813\n",
            "RF Test F1: 0.99906\n",
            "\n",
            "RF Test Classification Report:\n",
            "               precision    recall  f1-score   support\n",
            "\n",
            "           0       1.00      1.00      1.00      1600\n",
            "           1       1.00      1.00      1.00      1600\n",
            "\n",
            "    accuracy                           1.00      3200\n",
            "   macro avg       1.00      1.00      1.00      3200\n",
            "weighted avg       1.00      1.00      1.00      3200\n",
            "\n"
          ]
        }
      ],
      "source": [
        "# Print out the evaluation metrics for test set\n",
        "accuracy_rf = accuracy_score(y_test, rf_pred_test)\n",
        "precision_rf = precision_score(y_test, rf_pred_test)\n",
        "recall_rf = recall_score(y_test, rf_pred_test)\n",
        "f1_rf = f1_score(y_test, rf_pred_test)\n",
        "\n",
        "print()\n",
        "# Print the metrics with 5 decimal places\n",
        "print(f\"RF Test Accuracy: {accuracy_rf:.5f}\")\n",
        "print(f\"RF Test Recall: {recall_rf:.5f}\")\n",
        "print(f\"RF Test Precision: {precision_rf:.5f}\")\n",
        "print(f\"RF Test F1: {f1_rf:.5f}\")\n",
        "print()\n",
        "\n",
        "print(\"RF Test Classification Report:\\n\", classification_report(y_test, rf_pred_test))"
      ]
    },
    {
      "cell_type": "code",
      "execution_count": null,
      "metadata": {
        "id": "FFSYcgkhEkN0",
        "colab": {
          "base_uri": "https://localhost:8080/",
          "height": 472
        },
        "outputId": "37eff38a-f39d-4690-fb5b-3cfe083e6c88"
      },
      "outputs": [
        {
          "output_type": "display_data",
          "data": {
            "text/plain": [
              "<Figure size 640x480 with 2 Axes>"
            ],
            "image/png": "[encoded data removed]"
          },
          "metadata": {}
        }
      ],
      "source": [
        "# Confusion matrix\n",
        "conf_matrix = confusion_matrix(y_test, rf_pred_test)\n",
        "sns.heatmap(conf_matrix, annot=True, fmt='d', cmap='Reds')\n",
        "plt.xlabel('Predicted Classes')\n",
        "plt.ylabel('Actual Classes')\n",
        "plt.title('Confusion Matrix for Random Forest')\n",
        "plt.show()"
      ]
    },
    {
      "cell_type": "code",
      "execution_count": null,
      "metadata": {
        "id": "ehlIv63Bd5DZ"
      },
      "outputs": [],
      "source": [
        "# save RF Model\n",
        "with open('/content/gdrive/MyDrive/CICIoT2023_DATASET/All-forty-files/Final_Folder/Models/rf_model_manual.pkl', \"wb\") as file:\n",
        "  pickle.dump(rf_model, file)"
      ]
    },
    {
      "cell_type": "code",
      "execution_count": null,
      "metadata": {
        "id": "iQnxQaRt-cqs",
        "colab": {
          "base_uri": "https://localhost:8080/"
        },
        "outputId": "d05c45c3-c3f8-46da-ef50-a2d5657cab59"
      },
      "outputs": [
        {
          "output_type": "stream",
          "name": "stdout",
          "text": [
            "True Negatives (TN): 1597\n",
            "False Positives (FP): 3\n",
            "False Negatives (FN): 0\n",
            "True Positives (TP): 1600\n"
          ]
        }
      ],
      "source": [
        "# Extract TN, FP, FN, TP from the confusion matrix\n",
        "tn, fp, fn, tp = conf_matrix.ravel()\n",
        "\n",
        "# Display TN, FP, FN, TP\n",
        "print(f\"True Negatives (TN): {tn}\")\n",
        "print(f\"False Positives (FP): {fp}\")\n",
        "print(f\"False Negatives (FN): {fn}\")\n",
        "print(f\"True Positives (TP): {tp}\")"
      ]
    },
    {
      "cell_type": "code",
      "execution_count": null,
      "metadata": {
        "id": "ZM0U8COAuEaZ"
      },
      "outputs": [],
      "source": [
        "# pickle.dump(model , open('heart-disease-model.pk1' , 'wb'))"
      ]
    },
    {
      "cell_type": "code",
      "execution_count": null,
      "metadata": {
        "id": "pRJqi62QQQLT"
      },
      "outputs": [],
      "source": [
        "# import sklearn\n",
        "# print(sklearn.__version__)"
      ]
    },
    {
      "cell_type": "code",
      "execution_count": null,
      "metadata": {
        "id": "YaLoErqnbnbw"
      },
      "outputs": [],
      "source": [
        "# print(np.__version__)"
      ]
    },
    {
      "cell_type": "code",
      "execution_count": null,
      "metadata": {
        "collapsed": true,
        "id": "k1AUOnF7SgdT"
      },
      "outputs": [],
      "source": [
        "# pip list"
      ]
    },
    {
      "cell_type": "code",
      "execution_count": null,
      "metadata": {
        "id": "FWOITd-T_NkD"
      },
      "outputs": [],
      "source": [
        "# df_balanced[scaler.get_feature_names_out()]"
      ]
    },
    {
      "cell_type": "markdown",
      "source": [
        "**AUC - ROC**"
      ],
      "metadata": {
        "id": "i0EgafoJXn3I"
      }
    },
    {
      "cell_type": "code",
      "source": [
        "from sklearn.metrics import roc_curve, auc\n",
        "from sklearn.preprocessing import label_binarize\n",
        "\n",
        "# Predict probabilities for the validation set using SVM\n",
        "svc_val_pred_proba = svc_model.predict_proba(X_remaining_scaled)[:, 1]\n",
        "\n",
        "# Predict probabilities for the validation set using Random Forest\n",
        "rf_val_pred_proba = rf_model.predict_proba(X_remaining_scaled)[:, 1]\n",
        "\n",
        "# Calculate ROC curve and AUC for SVM\n",
        "fpr_svc, tpr_svc, _ = roc_curve(y_remaining, svc_val_pred_proba)\n",
        "roc_auc_svc = auc(fpr_svc, tpr_svc)\n",
        "\n",
        "# Calculate ROC curve and AUC for Random Forest\n",
        "fpr_rf, tpr_rf, _ = roc_curve(y_remaining, rf_val_pred_proba)\n",
        "roc_auc_rf = auc(fpr_rf, tpr_rf)\n",
        "\n",
        "\n",
        "# Plot ROC curves\n",
        "plt.figure(figsize=(10, 5))\n",
        "plt.plot(fpr_svc, tpr_svc, color='red', lw=2, label=f'SVM ROC curve (area = {roc_auc_svc:.2f})')\n",
        "plt.plot(fpr_rf, tpr_rf, color='green', lw=2, label=f'Random Forest ROC curve (area = {roc_auc_rf:.2f})')\n",
        "plt.plot([0, 1], [0, 1], color='gray', linestyle='--')  # Diagonal line for no-skill classifier\n",
        "\n",
        "plt.xlim([-0.02, 1.05])\n",
        "plt.ylim([-0.02, 1.05])\n",
        "\n",
        "plt.xlabel('False Positive Rate')\n",
        "plt.ylabel('True Positive Rate')\n",
        "plt.title('Receiver Operating Characteristic (ROC) Curve')\n",
        "plt.legend(loc=\"lower right\")\n",
        "plt.grid(True)\n",
        "plt.show()"
      ],
      "metadata": {
        "colab": {
          "base_uri": "https://localhost:8080/",
          "height": 487
        },
        "collapsed": true,
        "id": "XmMBwEA-QREd",
        "outputId": "a560f90e-5e67-4d27-ff89-c8b547df260c"
      },
      "execution_count": null,
      "outputs": [
        {
          "output_type": "display_data",
          "data": {
            "text/plain": [
              "<Figure size 1000x500 with 1 Axes>"
            ],
            "image/png": "[encoded data removed]"
          },
          "metadata": {}
        }
      ]
    }
  ],
  "metadata": {
    "colab": {
      "provenance": [],
      "include_colab_link": true
    },
    "kernelspec": {
      "display_name": "Python 3",
      "name": "python3"
    },
    "language_info": {
      "name": "python"
    }
  },
  "nbformat": 4,
  "nbformat_minor": 0
}